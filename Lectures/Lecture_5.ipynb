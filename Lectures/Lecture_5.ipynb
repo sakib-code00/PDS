{
  "nbformat": 4,
  "nbformat_minor": 0,
  "metadata": {
    "colab": {
      "provenance": []
    },
    "kernelspec": {
      "name": "python3",
      "display_name": "Python 3"
    },
    "language_info": {
      "name": "python"
    }
  },
  "cells": [
    {
      "cell_type": "markdown",
      "metadata": {
        "id": "kNTNsK_g4Odw"
      },
      "source": [
        "#  <font color=\"White\">Going Deeper: Type Casting</font>\n",
        "\n",
        "- Type casting is the process of converting data from one type into another.\n",
        "- There are a number of functions built in to Python which allow us to do these type conversions on basic data types."
      ]
    },
    {
      "cell_type": "markdown",
      "metadata": {
        "id": "8kS35VT94Odx"
      },
      "source": [
        "**Convert to Integer**"
      ]
    },
    {
      "cell_type": "code",
      "execution_count": null,
      "metadata": {
        "id": "q7epsb7a4Odx"
      },
      "outputs": [],
      "source": [
        "v1 = int(2.7)        # 2\n",
        "v2 = int(-3.9)       # -3\n",
        "v3 = int(\"2\")        # 2\n",
        "v4 = int(\"11\", 16)   # 17, base 16\n",
        "v5 = int(False)\n",
        "print(v1, v2, v3, v4, v5)"
      ]
    },
    {
      "cell_type": "markdown",
      "metadata": {
        "id": "Hnb1isBR4Ody"
      },
      "source": [
        "**Convert to Float**"
      ]
    },
    {
      "cell_type": "code",
      "execution_count": null,
      "metadata": {
        "id": "nelioJap4Ody"
      },
      "outputs": [],
      "source": [
        "v6 = float(2)        # 2.0\n",
        "v7 = float(\"2.7\")    # 2.7\n",
        "v8 = float(\"2.7E-2\") # 0.027\n",
        "v9 = float(False)    # 0.0\n",
        "vA = float(True)     # 1.0\n",
        "print(v6, v7, v8, v9, vA)"
      ]
    },
    {
      "cell_type": "markdown",
      "metadata": {
        "id": "-XmWsWMj4Odz"
      },
      "source": [
        "**Convert to String**"
      ]
    },
    {
      "cell_type": "code",
      "execution_count": null,
      "metadata": {
        "id": "Q1gdFLD84Odz"
      },
      "outputs": [],
      "source": [
        "vB = str(4.5)        # \"4.5\"\n",
        "vC = str(True)\n",
        "print(vB, vC, type(vC))"
      ]
    },
    {
      "cell_type": "markdown",
      "metadata": {
        "id": "r7PUlUo74Odz"
      },
      "source": [
        "**Convert to Bolean**"
      ]
    },
    {
      "cell_type": "code",
      "execution_count": null,
      "metadata": {
        "id": "ghYSBYmt4Odz"
      },
      "outputs": [],
      "source": [
        "vD = bool(0)         #       False;\n",
        "vE = bool(3)         # True\n",
        "vF = bool(\"PyTHoN\")\n",
        "vG = bool(list())\n",
        "print(vD, vE, vF, vG)"
      ]
    },
    {
      "cell_type": "code",
      "execution_count": null,
      "metadata": {
        "id": "bZjigYcf4Odz"
      },
      "outputs": [],
      "source": [
        "int1 = 4\n",
        "\n",
        "# 4 converted to float\n",
        "float1 = int1 + 2.1\n",
        "\n",
        "# str1 = \"My int:\" + int1\n",
        "# Error: no implicit type conversion from int to string\n",
        "str1 = \"My int:\" + str(int1)\n",
        "\n",
        "int2 = 4 + True # 5: bool is implicitly converted to int\n",
        "print(\"float1 = {} \\n str1  = {} \\n\".format(float1, str1, int2))"
      ]
    },
    {
      "cell_type": "code",
      "execution_count": null,
      "metadata": {
        "id": "JJ90ui0e4Odz"
      },
      "outputs": [],
      "source": [
        "age = 21\n",
        "sign = 'You must be  {}-years-old to enter this bar'.format(age)\n",
        "print(sign)"
      ]
    },
    {
      "cell_type": "markdown",
      "metadata": {
        "id": "JGaM6Dbt4Od0"
      },
      "source": [
        "#### <font color=\"white\">Example 6</font>\n",
        "\n",
        "- When you pass an argument through the command line, the type of the argument is a string.\n",
        "- It is important to convert the argument to a desired type."
      ]
    },
    {
      "cell_type": "code",
      "execution_count": null,
      "metadata": {
        "id": "rn9vo-qb4Od0"
      },
      "outputs": [],
      "source": [
        "x = float(input(\"Give me a number: \"))\n",
        "print(x)"
      ]
    },
    {
      "cell_type": "markdown",
      "metadata": {
        "id": "Z1KoTKXE4Od0"
      },
      "source": [
        "## <font color=\"white\"> Breakout</font>\n",
        "\n",
        "Try to fix the code to print out the correct information by changing the strings so that:\n",
        "\n",
        "- The length of the string is `20`.\n",
        "- The first occurrence of `a` should be at index `8`.\n",
        "- The number of `a`'s in the string should be `2`."
      ]
    },
    {
      "cell_type": "code",
      "execution_count": null,
      "metadata": {
        "id": "8FJHl-3F4Od0"
      },
      "outputs": [],
      "source": [
        "s = \"Hey there! What should this string be?\"\n",
        "# Length should be 20\n",
        "print(f\"Length of s = {len(s)}\")\n",
        "\n",
        "# First occurrence of \"a\" should be at index 8\n",
        "print(f\"The first occurrence of the letter a = {s.index('a')}\")\n",
        "\n",
        "# Number of a's should be 2\n",
        "print(f\"a occurs {s.count(r'a')} times\")"
      ]
    },
    {
      "cell_type": "markdown",
      "metadata": {
        "id": "_l6GNfoTeAUk"
      },
      "source": [
        "# Tuples"
      ]
    },
    {
      "cell_type": "markdown",
      "metadata": {
        "id": "cBOfRAyaW9ah"
      },
      "source": [
        "Tuples are ordered collections, i.e. sequences, like strings, but they can contain any type of value (not just characters). They can even contain different types within the same tuple. Tuples are defined by parentheses (i.e. brackets) and the elements of a tuple are separated by commas, like this:\n",
        "\n",
        "```('a', 'b', 'c', 1, 2, 3)```.\n",
        "\n",
        "[Tuple documentation](https://docs.python.org/3/library/stdtypes.html#tuple)\n"
      ]
    },
    {
      "cell_type": "markdown",
      "metadata": {
        "id": "frzGYC4epOui"
      },
      "source": [
        "## Creating Tuples"
      ]
    },
    {
      "cell_type": "code",
      "metadata": {
        "id": "TakeKfetapem",
        "colab": {
          "base_uri": "https://localhost:8080/"
        },
        "outputId": "9bba99fe-cb3d-4b28-c7a6-0ece5c303d7f"
      },
      "source": [
        "# Create an empty tuple\n",
        "tup = ()\n",
        "print('empty tuple:', tup)"
      ],
      "execution_count": null,
      "outputs": [
        {
          "output_type": "stream",
          "name": "stdout",
          "text": [
            "empty tuple: ()\n"
          ]
        }
      ]
    },
    {
      "cell_type": "code",
      "metadata": {
        "id": "oVCzzPpIWvtF",
        "colab": {
          "base_uri": "https://localhost:8080/",
          "height": 35
        },
        "outputId": "3361d9cd-07ec-4c8b-e73e-6af8c3eda673"
      },
      "source": [
        "# Create a tuple with some initial contents\n",
        "tup = ('Python', 1024, 3.14, True)\n",
        "print('non-empty tuple:', tup)"
      ],
      "execution_count": null,
      "outputs": [
        {
          "output_type": "stream",
          "text": [
            "non-empty tuple: ('Python', 1024, 3.14, True)\n"
          ],
          "name": "stdout"
        }
      ]
    },
    {
      "cell_type": "code",
      "metadata": {
        "id": "ks93vR9wpdT7",
        "colab": {
          "base_uri": "https://localhost:8080/",
          "height": 35
        },
        "outputId": "f35d7136-c294-492f-83e1-5ba1ab0186df"
      },
      "source": [
        "# the same value can occur multiple times in a tuple\n",
        "tup = ('a', 'a', 'a')\n",
        "print(tup)"
      ],
      "execution_count": null,
      "outputs": [
        {
          "output_type": "stream",
          "text": [
            "('a', 'a', 'a')\n"
          ],
          "name": "stdout"
        }
      ]
    },
    {
      "cell_type": "markdown",
      "metadata": {
        "id": "JG5CgStIYW4P"
      },
      "source": [
        "## Tuple Operations\n",
        "Because tuples are sequences, like strings, functions, operators, and loops that operate on strings also play well with tuples, for example:"
      ]
    },
    {
      "cell_type": "code",
      "metadata": {
        "id": "1aBjcrJDW4AA",
        "colab": {
          "base_uri": "https://localhost:8080/",
          "height": 52
        },
        "outputId": "084d37f2-2930-4d7d-f527-a60f79059cc1"
      },
      "source": [
        "# the len function returns the length of a tuple\n",
        "tup = (1, 2, 3, 4)\n",
        "print(len(tup))     # returns size of a tuple\n",
        "tup = (1, 2, 3, 4, 5)\n",
        "print(len(tup))"
      ],
      "execution_count": null,
      "outputs": [
        {
          "output_type": "stream",
          "text": [
            "4\n",
            "5\n"
          ],
          "name": "stdout"
        }
      ]
    },
    {
      "cell_type": "code",
      "metadata": {
        "id": "5mw3OsrRXOVr",
        "colab": {
          "base_uri": "https://localhost:8080/",
          "height": 87
        },
        "outputId": "93f2d7b9-0887-4a08-ce01-3ef191b7fe4f"
      },
      "source": [
        "# indexing (like strings, tuple offsets start with zero!)\n",
        "tup = (1, 2, 3)\n",
        "print(tup[0])\n",
        "print()\n",
        "print('the whole tuple...')\n",
        "print(tup)"
      ],
      "execution_count": null,
      "outputs": [
        {
          "output_type": "stream",
          "text": [
            "1\n",
            "\n",
            "the whole tuple...\n",
            "(1, 2, 3)\n"
          ],
          "name": "stdout"
        }
      ]
    },
    {
      "cell_type": "code",
      "metadata": {
        "id": "zoCHyBW6qW37",
        "colab": {
          "base_uri": "https://localhost:8080/",
          "height": 203
        },
        "outputId": "518bc09c-1793-4a7e-f738-d7df32a39bf0"
      },
      "source": [
        "# indexing out of bounds raises a runtime error\n",
        "tup = ('abc', 123, 3.14, True)\n",
        "print(tup[99])"
      ],
      "execution_count": null,
      "outputs": [
        {
          "output_type": "error",
          "ename": "IndexError",
          "evalue": "ignored",
          "traceback": [
            "\u001b[0;31m---------------------------------------------------------------------------\u001b[0m",
            "\u001b[0;31mIndexError\u001b[0m                                Traceback (most recent call last)",
            "\u001b[0;32m<ipython-input-197-243366aa1122>\u001b[0m in \u001b[0;36m<module>\u001b[0;34m()\u001b[0m\n\u001b[1;32m      1\u001b[0m \u001b[0;31m# indexing out of bounds raises a runtime error\u001b[0m\u001b[0;34m\u001b[0m\u001b[0;34m\u001b[0m\u001b[0;34m\u001b[0m\u001b[0m\n\u001b[1;32m      2\u001b[0m \u001b[0mtup\u001b[0m \u001b[0;34m=\u001b[0m \u001b[0;34m(\u001b[0m\u001b[0;34m'abc'\u001b[0m\u001b[0;34m,\u001b[0m \u001b[0;36m123\u001b[0m\u001b[0;34m,\u001b[0m \u001b[0;36m3.14\u001b[0m\u001b[0;34m,\u001b[0m \u001b[0;32mTrue\u001b[0m\u001b[0;34m)\u001b[0m\u001b[0;34m\u001b[0m\u001b[0;34m\u001b[0m\u001b[0m\n\u001b[0;32m----> 3\u001b[0;31m \u001b[0mprint\u001b[0m\u001b[0;34m(\u001b[0m\u001b[0mtup\u001b[0m\u001b[0;34m[\u001b[0m\u001b[0;36m99\u001b[0m\u001b[0;34m]\u001b[0m\u001b[0;34m)\u001b[0m\u001b[0;34m\u001b[0m\u001b[0;34m\u001b[0m\u001b[0m\n\u001b[0m",
            "\u001b[0;31mIndexError\u001b[0m: tuple index out of range"
          ]
        }
      ]
    },
    {
      "cell_type": "code",
      "metadata": {
        "id": "kQmS34FQljJ9",
        "colab": {
          "base_uri": "https://localhost:8080/",
          "height": 68
        },
        "outputId": "93122c00-517e-4e63-a9be-757d30e81172"
      },
      "source": [
        "# loops\n",
        "tup = (1, 2, 3)\n",
        "for i in range(len(tup)):\n",
        "  print(tup[i])"
      ],
      "execution_count": null,
      "outputs": [
        {
          "output_type": "stream",
          "text": [
            "1\n",
            "2\n",
            "3\n"
          ],
          "name": "stdout"
        }
      ]
    },
    {
      "cell_type": "code",
      "metadata": {
        "id": "2KNPRHtrl7HQ",
        "colab": {
          "base_uri": "https://localhost:8080/"
        },
        "outputId": "0b6a409c-f55f-4be5-af87-158271dd0887"
      },
      "source": [
        "# a better way to loop (a.k.a. iterate) over tuples...\n",
        "x = (1, 2, 3)\n",
        "for i in x:\n",
        "  print(i)"
      ],
      "execution_count": null,
      "outputs": [
        {
          "output_type": "stream",
          "name": "stdout",
          "text": [
            "1\n",
            "2\n",
            "3\n"
          ]
        }
      ]
    },
    {
      "cell_type": "code",
      "metadata": {
        "id": "LkQ3cF9IXkZ8",
        "colab": {
          "base_uri": "https://localhost:8080/",
          "height": 34
        },
        "outputId": "6d1372ca-d2c7-4bf1-8c7c-d39e640674d7"
      },
      "source": [
        "# the in operator (membership test)\n",
        "x = 4\n",
        "tup = (1, 2, 3, 4, 5)\n",
        "if x in tup: # True if var’s value is in tuple\n",
        "    print(tup, 'contains ', x)\n",
        "else:\n",
        "    print(tup, 'does NOT contain', x)"
      ],
      "execution_count": null,
      "outputs": [
        {
          "output_type": "stream",
          "text": [
            "(1, 2, 3, 4, 5) contains  4\n"
          ],
          "name": "stdout"
        }
      ]
    },
    {
      "cell_type": "code",
      "metadata": {
        "id": "2lGOMMn5YH_v",
        "colab": {
          "base_uri": "https://localhost:8080/",
          "height": 68
        },
        "outputId": "ca250d28-2c48-442d-c68c-a4bca219c8a5"
      },
      "source": [
        "# slicing\n",
        "tup = (1, 2, 3, 4, 5)\n",
        "print(tup[2:])   # prints 3rd through end of tuple\n",
        "print(tup[:3])   # prints first through third from last\n",
        "print(tup[2:4])"
      ],
      "execution_count": null,
      "outputs": [
        {
          "output_type": "stream",
          "text": [
            "(3, 4, 5)\n",
            "(1, 2, 3)\n",
            "(3, 4)\n"
          ],
          "name": "stdout"
        }
      ]
    },
    {
      "cell_type": "code",
      "metadata": {
        "id": "oT9s5vJ3W4KR",
        "colab": {
          "base_uri": "https://localhost:8080/",
          "height": 34
        },
        "outputId": "d9144125-b2c0-41b1-a2b6-aafa2750fbd3"
      },
      "source": [
        "# the plus operator concatenates (combines) two tuples into one\n",
        "t1 = (1, 2, 3)\n",
        "t2 = (4, 5, 6)\n",
        "print(t1 + t2)"
      ],
      "execution_count": null,
      "outputs": [
        {
          "output_type": "stream",
          "text": [
            "(1, 2, 3, 4, 5, 6)\n"
          ],
          "name": "stdout"
        }
      ]
    },
    {
      "cell_type": "markdown",
      "metadata": {
        "id": "kdAtTbGuYcRB"
      },
      "source": [
        "## Tuples are Immutable\n",
        "\n",
        "Like strings, once created, you can't change a tuple.\n"
      ]
    },
    {
      "cell_type": "code",
      "metadata": {
        "id": "I6rCFofvZVm3",
        "colab": {
          "base_uri": "https://localhost:8080/",
          "height": 215
        },
        "outputId": "96deb576-4058-4704-9cb4-4965b54dbb29"
      },
      "source": [
        "tup = (1, 2, 3)\n",
        "print(tup[1])\n",
        "tup[1] = 7"
      ],
      "execution_count": null,
      "outputs": [
        {
          "output_type": "stream",
          "text": [
            "2\n"
          ],
          "name": "stdout"
        },
        {
          "output_type": "error",
          "ename": "TypeError",
          "evalue": "ignored",
          "traceback": [
            "\u001b[0;31m---------------------------------------------------------------------------\u001b[0m",
            "\u001b[0;31mTypeError\u001b[0m                                 Traceback (most recent call last)",
            "\u001b[0;32m<ipython-input-209-f113e0bed4a1>\u001b[0m in \u001b[0;36m<module>\u001b[0;34m()\u001b[0m\n\u001b[1;32m      1\u001b[0m \u001b[0mtup\u001b[0m \u001b[0;34m=\u001b[0m \u001b[0;34m(\u001b[0m\u001b[0;36m1\u001b[0m\u001b[0;34m,\u001b[0m \u001b[0;36m2\u001b[0m\u001b[0;34m,\u001b[0m \u001b[0;36m3\u001b[0m\u001b[0;34m)\u001b[0m\u001b[0;34m\u001b[0m\u001b[0;34m\u001b[0m\u001b[0m\n\u001b[1;32m      2\u001b[0m \u001b[0mprint\u001b[0m\u001b[0;34m(\u001b[0m\u001b[0mtup\u001b[0m\u001b[0;34m[\u001b[0m\u001b[0;36m1\u001b[0m\u001b[0;34m]\u001b[0m\u001b[0;34m)\u001b[0m\u001b[0;34m\u001b[0m\u001b[0;34m\u001b[0m\u001b[0m\n\u001b[0;32m----> 3\u001b[0;31m \u001b[0mtup\u001b[0m\u001b[0;34m[\u001b[0m\u001b[0;36m1\u001b[0m\u001b[0;34m]\u001b[0m \u001b[0;34m=\u001b[0m \u001b[0;36m7\u001b[0m\u001b[0;34m\u001b[0m\u001b[0;34m\u001b[0m\u001b[0m\n\u001b[0m",
            "\u001b[0;31mTypeError\u001b[0m: 'tuple' object does not support item assignment"
          ]
        }
      ]
    },
    {
      "cell_type": "markdown",
      "metadata": {
        "id": "mkoB-QB9ZYRn"
      },
      "source": [
        "But you can assign a new tuple to the same variable. You haven't changed the tuple, you've changed the association between a variable and it's value."
      ]
    },
    {
      "cell_type": "code",
      "metadata": {
        "id": "jen-2VNJZVyI",
        "colab": {
          "base_uri": "https://localhost:8080/",
          "height": 51
        },
        "outputId": "9106f18c-8823-41b4-d750-b170f3900b89"
      },
      "source": [
        "tup = (1, 2, 3)\n",
        "print(tup)\n",
        "tup = (1, 3, 2)\n",
        "# the tuple didn't change, the tup variable now points to different data!\n",
        "print(tup)"
      ],
      "execution_count": null,
      "outputs": [
        {
          "output_type": "stream",
          "text": [
            "(1, 2, 3)\n",
            "(1, 3, 2)\n"
          ],
          "name": "stdout"
        }
      ]
    },
    {
      "cell_type": "markdown",
      "metadata": {
        "id": "73PakyYArTFs"
      },
      "source": [
        "## Nested Tuples\n",
        "Just as you can have if statements of if statements (nested if statements), and loops of loops (nested loops). You can have also have tuples of tuples (nested tuples).\n",
        "- tuple of tuples: ```((1, 2), (3, 4))```\n",
        "- tuple of strings and tuples: ```('Hi', (1,2,3), \"there\")```\n",
        "- tuple of tuple of tuples: ```(((1,2), (3,4)), ((5,6), (7,8)))\n",
        "```"
      ]
    },
    {
      "cell_type": "code",
      "metadata": {
        "id": "fZSAhMQTm_FS",
        "colab": {
          "base_uri": "https://localhost:8080/",
          "height": 34
        },
        "outputId": "daa50829-c368-476a-ec9f-c66038a16635"
      },
      "source": [
        "# More readable tuple of tuples\n",
        "nested_tuple = (\n",
        "                 (\n",
        "                   (1, 2),\n",
        "                   (3, 4)\n",
        "                 ),\n",
        "                 (\n",
        "                   (5, 6),\n",
        "                   (7, 8)\n",
        "                 )\n",
        "               )\n",
        "print(nested_tuple)"
      ],
      "execution_count": null,
      "outputs": [
        {
          "output_type": "stream",
          "text": [
            "(((1, 2), (3, 4)), ((5, 6), (7, 8)))\n"
          ],
          "name": "stdout"
        }
      ]
    },
    {
      "cell_type": "markdown",
      "metadata": {
        "id": "elexmuppeTrt"
      },
      "source": [
        "# Lists"
      ]
    },
    {
      "cell_type": "markdown",
      "metadata": {
        "id": "DYtSrDYpYhYp"
      },
      "source": [
        "* A list is like a tuple but it's mutable (changeable).\n",
        "* Almost everything you know about tuples also applies to lists.\n",
        "* Lists are ordered sequences.\n",
        "* All the sequence operations you learned about with strings and tuples, like `len`, indexing, slicing, looping, `in`, etc. apply to lists as well.\n",
        "\n",
        "Lists are defined inside square brackets, with list elements separated by commas, for example...\n",
        "```\n",
        "['a', 'b', 'c', 1, 2, 3]\n",
        "```\n",
        "\n",
        "[List documentation](https://docs.python.org/3/library/stdtypes.html#list)"
      ]
    },
    {
      "cell_type": "markdown",
      "metadata": {
        "id": "1jwHZXqfpaAX"
      },
      "source": [
        "## Creating Lists"
      ]
    },
    {
      "cell_type": "code",
      "metadata": {
        "id": "A91BmSFkpT4f",
        "colab": {
          "base_uri": "https://localhost:8080/",
          "height": 34
        },
        "outputId": "86b16c64-509b-4afd-9957-3a96c5cdc528"
      },
      "source": [
        "# Create an empty list (lists use square brackets instead of parens)\n",
        "li = []\n",
        "print('empty list:', li)"
      ],
      "execution_count": null,
      "outputs": [
        {
          "output_type": "stream",
          "text": [
            "empty list: []\n"
          ],
          "name": "stdout"
        }
      ]
    },
    {
      "cell_type": "code",
      "metadata": {
        "id": "zR1rdQJtauzK",
        "colab": {
          "base_uri": "https://localhost:8080/",
          "height": 34
        },
        "outputId": "69ea6a82-dcd1-4136-8f7c-5d7507b74a61"
      },
      "source": [
        "# Create and initialize a list with some data\n",
        "li = ['Python', 123, 3.14, True]\n",
        "print('non-empty list:', li)"
      ],
      "execution_count": null,
      "outputs": [
        {
          "output_type": "stream",
          "text": [
            "non-empty list: ['Python', 123, 3.14, True]\n"
          ],
          "name": "stdout"
        }
      ]
    },
    {
      "cell_type": "code",
      "metadata": {
        "id": "UYf57Saqa8m8",
        "colab": {
          "base_uri": "https://localhost:8080/",
          "height": 34
        },
        "outputId": "0d64a476-2fc1-459d-91f3-be88e19c8d83"
      },
      "source": [
        "# the same value can occur multiple times in a list\n",
        "li = ['a', 'a', 'a']\n",
        "print(li)"
      ],
      "execution_count": null,
      "outputs": [
        {
          "output_type": "stream",
          "text": [
            "['a', 'a', 'a']\n"
          ],
          "name": "stdout"
        }
      ]
    },
    {
      "cell_type": "markdown",
      "metadata": {
        "id": "XjDSB3GNZ4Cb"
      },
      "source": [
        "## List Operations"
      ]
    },
    {
      "cell_type": "code",
      "metadata": {
        "id": "2Vh3dCTCbXIU",
        "colab": {
          "base_uri": "https://localhost:8080/",
          "height": 34
        },
        "outputId": "65eeb8e8-6e81-455b-cbf5-d4ffe2db5d6b"
      },
      "source": [
        "# The len() function gives us the size of a list.\n",
        "li = ['abc', 123, 3.14, True, 5]\n",
        "# get the size of a list\n",
        "list_size = len(li)\n",
        "print(list_size)"
      ],
      "execution_count": null,
      "outputs": [
        {
          "output_type": "stream",
          "text": [
            "5\n"
          ],
          "name": "stdout"
        }
      ]
    },
    {
      "cell_type": "code",
      "metadata": {
        "id": "HqMd0VH2bZBj",
        "colab": {
          "base_uri": "https://localhost:8080/",
          "height": 155
        },
        "outputId": "9107cac6-653b-48fc-bdde-923c7ceb557a"
      },
      "source": [
        "li = ['abc', 123, 3.14, True, 99, 101, \"another\", \"last one - I promise\"]\n",
        "# iterate (loop) over the elements in a list\n",
        "for i in range(len(li)):\n",
        "  print(li[i])"
      ],
      "execution_count": null,
      "outputs": [
        {
          "output_type": "stream",
          "text": [
            "abc\n",
            "123\n",
            "3.14\n",
            "True\n",
            "99\n",
            "101\n",
            "another\n",
            "last one - I promise\n"
          ],
          "name": "stdout"
        }
      ]
    },
    {
      "cell_type": "code",
      "metadata": {
        "id": "-bBSPvCKqHPq",
        "colab": {
          "base_uri": "https://localhost:8080/",
          "height": 155
        },
        "outputId": "3d847540-0100-4743-9e7a-f6c390efe5da"
      },
      "source": [
        "# A better way to iterate over the elements in a list\n",
        "li = ['abc', 123, 3.14, True, 99, 101, \"another\", \"last one - I promise\"]\n",
        "for i in li:\n",
        "  print(i)"
      ],
      "execution_count": null,
      "outputs": [
        {
          "output_type": "stream",
          "text": [
            "abc\n",
            "123\n",
            "3.14\n",
            "True\n",
            "99\n",
            "101\n",
            "another\n",
            "last one - I promise\n"
          ],
          "name": "stdout"
        }
      ]
    },
    {
      "cell_type": "code",
      "metadata": {
        "id": "bW0wb9G2bcqF",
        "colab": {
          "base_uri": "https://localhost:8080/",
          "height": 34
        },
        "outputId": "9d19da14-61e7-485f-f773-2dba05464a33"
      },
      "source": [
        "li = ['abc', 123, 3.14, True]\n",
        "# test membership in a list\n",
        "\n",
        "x = 3.14159\n",
        "if not x in li:\n",
        " print(x, 'is not in list')\n",
        "else:\n",
        " print(x, 'is in list')"
      ],
      "execution_count": null,
      "outputs": [
        {
          "output_type": "stream",
          "text": [
            "3.14159 is not in list\n"
          ],
          "name": "stdout"
        }
      ]
    },
    {
      "cell_type": "code",
      "metadata": {
        "id": "U86i_Z0ZcDj8",
        "colab": {
          "base_uri": "https://localhost:8080/",
          "height": 34
        },
        "outputId": "9aa7a315-9bfc-4163-ca0d-b9e58c349769"
      },
      "source": [
        "li = ['abc', 123, 3.14, True]\n",
        "# indexing (list indexes start with zero!)\n",
        "print(li[2])"
      ],
      "execution_count": null,
      "outputs": [
        {
          "output_type": "stream",
          "text": [
            "3.14\n"
          ],
          "name": "stdout"
        }
      ]
    },
    {
      "cell_type": "code",
      "metadata": {
        "id": "p1b6JeS5cFiC",
        "colab": {
          "base_uri": "https://localhost:8080/",
          "height": 198
        },
        "outputId": "050c1b5f-4a49-4a34-b580-1b7078089576"
      },
      "source": [
        "# indexing out of bounds raises a runtime error\n",
        "li = ['abc', 123, 3.14, True]\n",
        "print(li[99])\n"
      ],
      "execution_count": null,
      "outputs": [
        {
          "output_type": "error",
          "ename": "IndexError",
          "evalue": "ignored",
          "traceback": [
            "\u001b[0;31m---------------------------------------------------------------------------\u001b[0m",
            "\u001b[0;31mIndexError\u001b[0m                                Traceback (most recent call last)",
            "\u001b[0;32m<ipython-input-220-4eee054048f3>\u001b[0m in \u001b[0;36m<module>\u001b[0;34m()\u001b[0m\n\u001b[1;32m      1\u001b[0m \u001b[0;31m# indexing out of bounds raises a runtime error\u001b[0m\u001b[0;34m\u001b[0m\u001b[0;34m\u001b[0m\u001b[0;34m\u001b[0m\u001b[0m\n\u001b[1;32m      2\u001b[0m \u001b[0mli\u001b[0m \u001b[0;34m=\u001b[0m \u001b[0;34m[\u001b[0m\u001b[0;34m'abc'\u001b[0m\u001b[0;34m,\u001b[0m \u001b[0;36m123\u001b[0m\u001b[0;34m,\u001b[0m \u001b[0;36m3.14\u001b[0m\u001b[0;34m,\u001b[0m \u001b[0;32mTrue\u001b[0m\u001b[0;34m]\u001b[0m\u001b[0;34m\u001b[0m\u001b[0;34m\u001b[0m\u001b[0m\n\u001b[0;32m----> 3\u001b[0;31m \u001b[0mprint\u001b[0m\u001b[0;34m(\u001b[0m\u001b[0mli\u001b[0m\u001b[0;34m[\u001b[0m\u001b[0;36m99\u001b[0m\u001b[0;34m]\u001b[0m\u001b[0;34m)\u001b[0m\u001b[0;34m\u001b[0m\u001b[0;34m\u001b[0m\u001b[0m\n\u001b[0m",
            "\u001b[0;31mIndexError\u001b[0m: list index out of range"
          ]
        }
      ]
    },
    {
      "cell_type": "code",
      "metadata": {
        "id": "gQMJCFZ7cHaB",
        "colab": {
          "base_uri": "https://localhost:8080/",
          "height": 34
        },
        "outputId": "b7844721-6ada-4e2e-d6c8-38bb7a34b43c"
      },
      "source": [
        "li = ['abc', 123, 3.14, True]\n",
        "# slicing\n",
        "print(li[1:3])"
      ],
      "execution_count": null,
      "outputs": [
        {
          "output_type": "stream",
          "text": [
            "[123, 3.14]\n"
          ],
          "name": "stdout"
        }
      ]
    },
    {
      "cell_type": "code",
      "metadata": {
        "id": "Wukzw25lcIqk",
        "colab": {
          "base_uri": "https://localhost:8080/",
          "height": 34
        },
        "outputId": "7f1eaab7-8395-4b0b-91c7-f816e7f4516a"
      },
      "source": [
        "# concatenating lists\n",
        "li1 = ['a', 1]\n",
        "li2 = ['b', 2]\n",
        "li3 = [99.99]\n",
        "li4 = li1 + li2 + li3\n",
        "print(li4)"
      ],
      "execution_count": null,
      "outputs": [
        {
          "output_type": "stream",
          "text": [
            "['a', 1, 'b', 2, 99.99]\n"
          ],
          "name": "stdout"
        }
      ]
    },
    {
      "cell_type": "markdown",
      "metadata": {
        "id": "Et0aWB-rc5es"
      },
      "source": [
        "## Lists are Mutable\n",
        "Unlike tuples and strings, we can change the contents of a list after it's created."
      ]
    },
    {
      "cell_type": "code",
      "metadata": {
        "id": "uLBYBQ0Qhp_A",
        "colab": {
          "base_uri": "https://localhost:8080/",
          "height": 68
        },
        "outputId": "806b63bb-ada9-4ee3-82f7-b8a75acd5ba6"
      },
      "source": [
        "# add an element\n",
        "li = []\n",
        "print(li)\n",
        "li.append('elem1')\n",
        "print(li)\n",
        "li.append(400)\n",
        "print(li)"
      ],
      "execution_count": null,
      "outputs": [
        {
          "output_type": "stream",
          "text": [
            "[]\n",
            "['elem1']\n",
            "['elem1', 400]\n"
          ],
          "name": "stdout"
        }
      ]
    },
    {
      "cell_type": "code",
      "metadata": {
        "id": "x1ua7Eq0iHr8",
        "colab": {
          "base_uri": "https://localhost:8080/",
          "height": 51
        },
        "outputId": "d45acc72-ec28-4348-efdf-f0bfd61ae30a"
      },
      "source": [
        "li = ['elem1', 'elem2']\n",
        "print(li)\n",
        "# remove an element\n",
        "li.remove('elem1')\n",
        "print(li)\n",
        "# removes only first occurrence of 'element' in list\n",
        "# differs from del because it’s based on value, not position"
      ],
      "execution_count": null,
      "outputs": [
        {
          "output_type": "stream",
          "text": [
            "['elem1', 'elem2']\n",
            "['elem2']\n"
          ],
          "name": "stdout"
        }
      ]
    },
    {
      "cell_type": "code",
      "metadata": {
        "id": "lINRDmjRiONn",
        "colab": {
          "base_uri": "https://localhost:8080/",
          "height": 102
        },
        "outputId": "ee93f61b-1c0a-435b-ea58-c54a2d8d0389"
      },
      "source": [
        "li = ['elem1', 'elem2', 3, 99.9]\n",
        "# remove & retrieve an element based on position\n",
        "#elem = li.pop(0)\n",
        "#print(elem)\n",
        "#print(li)\n",
        "\n",
        "print('start:', li)\n",
        "for i in range(len(li)):\n",
        "  elem = li.pop()\n",
        "  print('removed', elem, 'remaining list:', li)"
      ],
      "execution_count": null,
      "outputs": [
        {
          "output_type": "stream",
          "text": [
            "start: ['elem1', 'elem2', 3, 99.9]\n",
            "removed 99.9 remaining list: ['elem1', 'elem2', 3]\n",
            "removed 3 remaining list: ['elem1', 'elem2']\n",
            "removed elem2 remaining list: ['elem1']\n",
            "removed elem1 remaining list: []\n"
          ],
          "name": "stdout"
        }
      ]
    },
    {
      "cell_type": "code",
      "metadata": {
        "id": "K7miQfp_iQil",
        "colab": {
          "base_uri": "https://localhost:8080/",
          "height": 198
        },
        "outputId": "4495889a-b21f-4003-d00a-ee4eed32bc9f"
      },
      "source": [
        "# If you remove an element that doesn't exist, Python gives a run time error.\n",
        "# How can that be avoided? Test for existence before removing by value\n",
        "li = ['elem1', 'elem2']\n",
        "e = 'elem3'\n",
        "li.remove(e)"
      ],
      "execution_count": null,
      "outputs": [
        {
          "output_type": "error",
          "ename": "ValueError",
          "evalue": "ignored",
          "traceback": [
            "\u001b[0;31m---------------------------------------------------------------------------\u001b[0m",
            "\u001b[0;31mValueError\u001b[0m                                Traceback (most recent call last)",
            "\u001b[0;32m<ipython-input-226-620c47908aef>\u001b[0m in \u001b[0;36m<module>\u001b[0;34m()\u001b[0m\n\u001b[1;32m      3\u001b[0m \u001b[0mli\u001b[0m \u001b[0;34m=\u001b[0m \u001b[0;34m[\u001b[0m\u001b[0;34m'elem1'\u001b[0m\u001b[0;34m,\u001b[0m \u001b[0;34m'elem2'\u001b[0m\u001b[0;34m]\u001b[0m\u001b[0;34m\u001b[0m\u001b[0;34m\u001b[0m\u001b[0m\n\u001b[1;32m      4\u001b[0m \u001b[0me\u001b[0m \u001b[0;34m=\u001b[0m \u001b[0;34m'elem3'\u001b[0m\u001b[0;34m\u001b[0m\u001b[0;34m\u001b[0m\u001b[0m\n\u001b[0;32m----> 5\u001b[0;31m \u001b[0mli\u001b[0m\u001b[0;34m.\u001b[0m\u001b[0mremove\u001b[0m\u001b[0;34m(\u001b[0m\u001b[0me\u001b[0m\u001b[0;34m)\u001b[0m\u001b[0;34m\u001b[0m\u001b[0;34m\u001b[0m\u001b[0m\n\u001b[0m",
            "\u001b[0;31mValueError\u001b[0m: list.remove(x): x not in list"
          ]
        }
      ]
    },
    {
      "cell_type": "code",
      "metadata": {
        "id": "9G03HO1KiVVW",
        "colab": {
          "base_uri": "https://localhost:8080/",
          "height": 51
        },
        "outputId": "79127450-5183-4ebc-b77a-e4fff4243883"
      },
      "source": [
        "li = ['elem1', 'elem2', 'elem3']\n",
        "print(li)\n",
        "# replace an element by index\n",
        "li[1] = 'foo' # overwrites value at index 2\n",
        "print(li)"
      ],
      "execution_count": null,
      "outputs": [
        {
          "output_type": "stream",
          "text": [
            "['elem1', 'elem2', 'elem3']\n",
            "['elem1', 'foo', 'elem3']\n"
          ],
          "name": "stdout"
        }
      ]
    },
    {
      "cell_type": "code",
      "metadata": {
        "id": "qX3WdbK-iW__",
        "colab": {
          "base_uri": "https://localhost:8080/",
          "height": 34
        },
        "outputId": "abdeb883-dc0d-40a3-e8ac-c74e1d2a1eed"
      },
      "source": [
        "# assignment to a non-existent element raises a runtime error\n",
        "li = [1, 2, 3, 4, 5]\n",
        "li[4] = 99 # causes error\n",
        "print(li)"
      ],
      "execution_count": null,
      "outputs": [
        {
          "output_type": "stream",
          "text": [
            "[1, 2, 3, 4, 99]\n"
          ],
          "name": "stdout"
        }
      ]
    },
    {
      "cell_type": "code",
      "metadata": {
        "id": "XnOc6vMlidWj",
        "colab": {
          "base_uri": "https://localhost:8080/",
          "height": 51
        },
        "outputId": "390d2db7-fe35-4958-9add-55664e09586d"
      },
      "source": [
        "li = ['abc', 123, 3.14, True]\n",
        "print(li[1:3])\n",
        "# assign to a list slice\n",
        "li[1:] = [9,8,7.6]\n",
        "print(li)"
      ],
      "execution_count": null,
      "outputs": [
        {
          "output_type": "stream",
          "text": [
            "[123, 3.14]\n",
            "['abc', 9, 8, 7.6]\n"
          ],
          "name": "stdout"
        }
      ]
    },
    {
      "cell_type": "code",
      "metadata": {
        "id": "qoOsMOmBifXa",
        "colab": {
          "base_uri": "https://localhost:8080/",
          "height": 34
        },
        "outputId": "55c2a653-55fa-445d-c48f-1ce3a4e2b2df"
      },
      "source": [
        "li = ['abc', 123, 3.14, True]\n",
        "# delete a list element\n",
        "del li[2]\n",
        "print(li)"
      ],
      "execution_count": null,
      "outputs": [
        {
          "output_type": "stream",
          "text": [
            "['abc', 123, True]\n"
          ],
          "name": "stdout"
        }
      ]
    },
    {
      "cell_type": "code",
      "metadata": {
        "id": "GDv7z2tLihSI",
        "colab": {
          "base_uri": "https://localhost:8080/",
          "height": 34
        },
        "outputId": "4a2bfdbd-0323-4e18-b98a-9ac40bdf722a"
      },
      "source": [
        "li = ['abc', 123, 3.14, True]\n",
        "# delete a list slice\n",
        "del li[1:3]\n",
        "print(li)"
      ],
      "execution_count": null,
      "outputs": [
        {
          "output_type": "stream",
          "text": [
            "['abc', True]\n"
          ],
          "name": "stdout"
        }
      ]
    },
    {
      "cell_type": "code",
      "metadata": {
        "id": "9Tdc7sbqii7n",
        "colab": {
          "base_uri": "https://localhost:8080/",
          "height": 86
        },
        "outputId": "da4fa941-fc4b-4be4-fc94-e59f8e377831"
      },
      "source": [
        "li = [\"Maya\", \"Marc\", \"Maria\"]\n",
        "print('original:', li)\n",
        "\n",
        "# sorting a list\n",
        "li.sort()\n",
        "print('sorted:', li)\n",
        "# sorts in ascending order (small to large) by default\n",
        "# to sort in descending order, use this syntax:\n",
        "li.sort(reverse=True)\n",
        "print('reverse sorted:', li)\n",
        "li.sort()\n",
        "print('re-sorted:', li)"
      ],
      "execution_count": null,
      "outputs": [
        {
          "output_type": "stream",
          "text": [
            "original: ['Maya', 'Marc', 'Maria']\n",
            "sorted: ['Marc', 'Maria', 'Maya']\n",
            "reverse sorted: ['Maya', 'Maria', 'Marc']\n",
            "re-sorted: ['Marc', 'Maria', 'Maya']\n"
          ],
          "name": "stdout"
        }
      ]
    },
    {
      "cell_type": "code",
      "metadata": {
        "id": "C5DPhJDBir9u",
        "colab": {
          "base_uri": "https://localhost:8080/",
          "height": 34
        },
        "outputId": "a54d554d-6769-456c-c4ca-cce1bdc6cfe4"
      },
      "source": [
        "li = ['abc', 123, 3.14, 'abc', 'abc', True, 'abc', 123]\n",
        "# get the number of occurrences of a particular value\n",
        "count = li.count('abc')\n",
        "print(count)"
      ],
      "execution_count": null,
      "outputs": [
        {
          "output_type": "stream",
          "text": [
            "4\n"
          ],
          "name": "stdout"
        }
      ]
    },
    {
      "cell_type": "code",
      "metadata": {
        "id": "5wOspz47itht",
        "colab": {
          "base_uri": "https://localhost:8080/",
          "height": 34
        },
        "outputId": "a906268c-0d91-4d67-be82-fe3533df6557"
      },
      "source": [
        "li = ['abc', 123, 3.14, True, 123]\n",
        "# get the (first) index of a particular value\n",
        "index = li.index(True)\n",
        "print(index)"
      ],
      "execution_count": null,
      "outputs": [
        {
          "output_type": "stream",
          "text": [
            "3\n"
          ],
          "name": "stdout"
        }
      ]
    },
    {
      "cell_type": "code",
      "metadata": {
        "id": "3KWj-wv4ivDG",
        "colab": {
          "base_uri": "https://localhost:8080/",
          "height": 51
        },
        "outputId": "1b91ab3c-a43d-4cdb-8e3c-63cbddcc347c"
      },
      "source": [
        "li = ['abc', 123, 3.14, True, 123]\n",
        "# reverse a list\n",
        "li.reverse()\n",
        "print(li)\n",
        "li.reverse()\n",
        "print(li)"
      ],
      "execution_count": null,
      "outputs": [
        {
          "output_type": "stream",
          "text": [
            "[123, True, 3.14, 123, 'abc']\n",
            "['abc', 123, 3.14, True, 123]\n"
          ],
          "name": "stdout"
        }
      ]
    },
    {
      "cell_type": "markdown",
      "metadata": {
        "id": "KSivzV8cjnpv"
      },
      "source": [
        "## Nested Lists"
      ]
    },
    {
      "cell_type": "markdown",
      "metadata": {
        "id": "dlT7PoPcdPHK"
      },
      "source": [
        "Just as we saw tuples of tuples, we can also have also have lists of lists. In fact, we can even have lists of tuples and tuples of lists!\n",
        "\n",
        "- list of lists: ```[[1, 2], [3, 4]]```\n",
        "- lists of tuples: ```[(1, 2), (3,4)]```\n",
        "- tuples of lists: ```([1, 2], [3, 4]])```\n",
        "\n",
        "\n",
        "We can even have lists of lists of tuples of lists of strings...\n",
        "you get the idea, this can get arbitrarily complex.\n",
        "Fortunately, most of the time you only need to use one or two levels, although occasionally you may need to go deeper."
      ]
    },
    {
      "cell_type": "markdown",
      "metadata": {
        "id": "KLJvThS3ra4G"
      },
      "source": [
        "### Example\n",
        "\n",
        "Imagine I want to maintain a list of students and their quiz scores. If I think about just one particular student, I might like to store the student's name and each quiz score up to the current lesson.  I'd want to use a list because I'm going to want to add quiz results every week and, occasionally, I might need to change a grade.\n",
        "\n",
        "Here's the data for one student..."
      ]
    },
    {
      "cell_type": "code",
      "metadata": {
        "id": "aQk7obO9xEZP",
        "colab": {
          "base_uri": "https://localhost:8080/",
          "height": 34
        },
        "outputId": "ca0c0c52-b6f3-4280-ee35-452ed2781ac1"
      },
      "source": [
        "student = [ 'Sara', 95, 100, 90 ]\n",
        "print(student)"
      ],
      "execution_count": null,
      "outputs": [
        {
          "output_type": "stream",
          "text": [
            "['Sara', 95, 100, 90]\n"
          ],
          "name": "stdout"
        }
      ]
    },
    {
      "cell_type": "markdown",
      "metadata": {
        "id": "RKIPg3wlxPCQ"
      },
      "source": [
        "\n",
        "But we have many students, so I need to store one instance of that list for every student.\n",
        "That collection also needs to be mutable, because I may need to add or delete students over time.\n",
        "\n",
        "This seems like a job for a list of lists, like this one..."
      ]
    },
    {
      "cell_type": "code",
      "metadata": {
        "id": "tKC1Z7_IxT1-",
        "colab": {
          "base_uri": "https://localhost:8080/",
          "height": 34
        },
        "outputId": "0f1eec87-9cb1-4aad-898e-b6212f36fc98"
      },
      "source": [
        "students = [\n",
        "    [ 'Sara', 95, 100, 90 ],\n",
        "    [ 'Mary', 90, 95, 100 ],\n",
        "    [ 'Marc', 85, 90 ]\n",
        "]\n",
        "print(students)"
      ],
      "execution_count": null,
      "outputs": [
        {
          "output_type": "stream",
          "text": [
            "[['Sara', 95, 100, 90], ['Mary', 90, 95, 100], ['Marc', 85, 90]]\n"
          ],
          "name": "stdout"
        }
      ]
    },
    {
      "cell_type": "code",
      "metadata": {
        "id": "kzZBt2FbKeZ9",
        "colab": {
          "base_uri": "https://localhost:8080/",
          "height": 266
        },
        "outputId": "4e2dd8ad-2601-4a32-a795-7f28ffd95c08"
      },
      "source": [
        "x = ['marc']\n",
        "y = (1, 2, x)\n",
        "\n",
        "print(y)\n",
        "print(y[2])\n",
        "y[2] = 12\n",
        "y[2].append('Maya')\n",
        "print(y)\n"
      ],
      "execution_count": null,
      "outputs": [
        {
          "output_type": "stream",
          "text": [
            "(1, 2, ['marc'])\n",
            "['marc']\n"
          ],
          "name": "stdout"
        },
        {
          "output_type": "error",
          "ename": "TypeError",
          "evalue": "ignored",
          "traceback": [
            "\u001b[0;31m---------------------------------------------------------------------------\u001b[0m",
            "\u001b[0;31mTypeError\u001b[0m                                 Traceback (most recent call last)",
            "\u001b[0;32m<ipython-input-261-7bb74171d8bc>\u001b[0m in \u001b[0;36m<module>\u001b[0;34m()\u001b[0m\n\u001b[1;32m      4\u001b[0m \u001b[0mprint\u001b[0m\u001b[0;34m(\u001b[0m\u001b[0my\u001b[0m\u001b[0;34m)\u001b[0m\u001b[0;34m\u001b[0m\u001b[0;34m\u001b[0m\u001b[0m\n\u001b[1;32m      5\u001b[0m \u001b[0mprint\u001b[0m\u001b[0;34m(\u001b[0m\u001b[0my\u001b[0m\u001b[0;34m[\u001b[0m\u001b[0;36m2\u001b[0m\u001b[0;34m]\u001b[0m\u001b[0;34m)\u001b[0m\u001b[0;34m\u001b[0m\u001b[0;34m\u001b[0m\u001b[0m\n\u001b[0;32m----> 6\u001b[0;31m \u001b[0my\u001b[0m\u001b[0;34m[\u001b[0m\u001b[0;36m2\u001b[0m\u001b[0;34m]\u001b[0m \u001b[0;34m=\u001b[0m \u001b[0;36m12\u001b[0m\u001b[0;34m\u001b[0m\u001b[0;34m\u001b[0m\u001b[0m\n\u001b[0m\u001b[1;32m      7\u001b[0m \u001b[0my\u001b[0m\u001b[0;34m[\u001b[0m\u001b[0;36m2\u001b[0m\u001b[0;34m]\u001b[0m\u001b[0;34m.\u001b[0m\u001b[0mappend\u001b[0m\u001b[0;34m(\u001b[0m\u001b[0;34m'Maya'\u001b[0m\u001b[0;34m)\u001b[0m\u001b[0;34m\u001b[0m\u001b[0;34m\u001b[0m\u001b[0m\n\u001b[1;32m      8\u001b[0m \u001b[0mprint\u001b[0m\u001b[0;34m(\u001b[0m\u001b[0my\u001b[0m\u001b[0;34m)\u001b[0m\u001b[0;34m\u001b[0m\u001b[0;34m\u001b[0m\u001b[0m\n",
            "\u001b[0;31mTypeError\u001b[0m: 'tuple' object does not support item assignment"
          ]
        }
      ]
    },
    {
      "cell_type": "markdown",
      "metadata": {
        "id": "zkgWQAsvyYY5"
      },
      "source": [
        "We can access a sublist, i.e. one of the lists in this list of lists, like this..."
      ]
    },
    {
      "cell_type": "code",
      "metadata": {
        "id": "9qt-uYkwxofN",
        "colab": {
          "base_uri": "https://localhost:8080/",
          "height": 34
        },
        "outputId": "2a2bbfb5-a527-42ad-b827-e0f2760af86c"
      },
      "source": [
        "students = [\n",
        "    [ 'Sara', 95, 100, 90 ],\n",
        "    [ 'Mary', 90, 95, 100 ]\n",
        "]\n",
        "student = students[0] # get data for Mary\n",
        "print(student)"
      ],
      "execution_count": null,
      "outputs": [
        {
          "output_type": "stream",
          "text": [
            "['Sara', 95, 100, 90]\n"
          ],
          "name": "stdout"
        }
      ]
    },
    {
      "cell_type": "markdown",
      "metadata": {
        "id": "XwFWi244x0LX"
      },
      "source": [
        "We can access an element of a sublist, like this..."
      ]
    },
    {
      "cell_type": "code",
      "metadata": {
        "id": "dkhmP_rBx2WM",
        "colab": {
          "base_uri": "https://localhost:8080/",
          "height": 34
        },
        "outputId": "e94b72c7-6df9-46f6-9fd5-b2c9e92a6c18"
      },
      "source": [
        "# get Mary's second test score\n",
        "students = [\n",
        "    [ 'Sara', 95, 100, 90 ],\n",
        "    [ 'Mary', 90, 95, 100 ]\n",
        "]\n",
        "score = students[1][2]\n",
        "print(score)"
      ],
      "execution_count": null,
      "outputs": [
        {
          "output_type": "stream",
          "text": [
            "95\n"
          ],
          "name": "stdout"
        }
      ]
    },
    {
      "cell_type": "markdown",
      "metadata": {
        "id": "RACv6UKsytmK"
      },
      "source": [
        "Let's now generate a table of average scores for each student, effectively each student's final grade..."
      ]
    },
    {
      "cell_type": "code",
      "metadata": {
        "id": "DhX4TnL-kBBV",
        "colab": {
          "base_uri": "https://localhost:8080/",
          "height": 68
        },
        "outputId": "e6d98506-2d19-4bc3-a2eb-913efb85a68b"
      },
      "source": [
        "students = [\n",
        "    [ 'Sara', 95, 100, 90, 98, 95, 99, 93, 97 ],\n",
        "    [ 'Marc', 90, 95, 100, 90, 100, 93, 74 ],\n",
        "    [ 'Maya', 90, 80, 100, 99, 815]\n",
        "]\n",
        "#print(students)\n",
        "\n",
        "for student in students:\n",
        "  total = 0\n",
        "  count = len(student)\n",
        "  for score in student[1:]:\n",
        "    total += score\n",
        "  average = total / (count - 1)\n",
        "  print(student[0], average)"
      ],
      "execution_count": null,
      "outputs": [
        {
          "output_type": "stream",
          "text": [
            "Sara 95.875\n",
            "Marc 91.71428571428571\n",
            "Maya 236.8\n"
          ],
          "name": "stdout"
        }
      ]
    },
    {
      "cell_type": "markdown",
      "metadata": {
        "id": "Qutim0GBealC"
      },
      "source": [
        "# Dictionaries"
      ]
    },
    {
      "cell_type": "markdown",
      "metadata": {
        "id": "a815xmQ8f9Hz"
      },
      "source": [
        "A dictionary is an organized collection of key/value pairs.\n",
        "The data is organized for quick access via the key, somewhat like a real dictionary, where words are the keys and their definitions are the associated values.\n",
        "\n",
        "Dictionaries are defined using curly braces with key:value pairs separated by commas, like this:\n",
        "```\n",
        "websites = {\n",
        "  'google': 'https://google.com',\n",
        "  'youtube': 'https://youtube.com',\n",
        "  'baidu': 'https://baidu.com',\n",
        "}\n",
        "```\n",
        "\n",
        "This data type is known by various names in other languages:\n",
        "- map (C++)\n",
        "- hashmap (Java)\n",
        "- associative array (generic term)\n",
        "\n",
        "This object type is extremely powerful for representing indexed data. The keys in a dictionary are arranged to facilitate fast lookup by key value.\n",
        "- They are optimized for direct, not sequential, access\n",
        "- There is no implied order of keys or values\n",
        "- You can't index a dictionary by position\n",
        "- But you can index dictionaries by key value, as we’ll see\n",
        "- You can't take slices of a dictionary\n",
        "- Dictionaries are mutable, like lists, they can grow, shrink, or change over time\n",
        "\n",
        "- Dictionary keys must be immutable (e.g., string, number, tuple) because changing keys on the fly would confuse the dictionary.\n",
        "- Dictionary values can have any type (mutable or immutable).\n",
        "\n",
        "[Dictionary documentation](https://docs.python.org/3/library/stdtypes.html#mapping-types-dict)\n"
      ]
    },
    {
      "cell_type": "markdown",
      "metadata": {
        "id": "lidzOmOdgZ1j"
      },
      "source": [
        "## Dictionary Operations\n"
      ]
    },
    {
      "cell_type": "code",
      "metadata": {
        "id": "I7K5Shw6funP",
        "colab": {
          "base_uri": "https://localhost:8080/",
          "height": 34
        },
        "outputId": "4bb2ea0b-6879-4bd7-c637-75363aa61429"
      },
      "source": [
        "# Create an empty dictionary (use curly braces instead of parens or square brackets)\n",
        "grades = {}\n",
        "print(grades)"
      ],
      "execution_count": null,
      "outputs": [
        {
          "output_type": "stream",
          "text": [
            "{}\n"
          ],
          "name": "stdout"
        }
      ]
    },
    {
      "cell_type": "code",
      "metadata": {
        "id": "2NIXBuQXf5Zi",
        "colab": {
          "base_uri": "https://localhost:8080/",
          "height": 34
        },
        "outputId": "669f4b64-cc74-45af-f207-733dcd962b00"
      },
      "source": [
        "# Create and initialize a dictionary\n",
        "grades = { 'Sara' : 95, 'Mary': 100 }\n",
        "print(grades)"
      ],
      "execution_count": null,
      "outputs": [
        {
          "output_type": "stream",
          "text": [
            "{'Sara': 95, 'Mary': 100}\n"
          ],
          "name": "stdout"
        }
      ]
    },
    {
      "cell_type": "code",
      "metadata": {
        "id": "mGtQ2thnf9xX",
        "colab": {
          "base_uri": "https://localhost:8080/",
          "height": 34
        },
        "outputId": "20932ad3-8a29-4c42-b06f-5dc53e84b961"
      },
      "source": [
        "# If the same key occurs multiple times, python only keeps the last value\n",
        "x = { 'a' : 1, 'a' : 2 }\n",
        "print(x)\n"
      ],
      "execution_count": null,
      "outputs": [
        {
          "output_type": "stream",
          "text": [
            "{'a': 2}\n"
          ],
          "name": "stdout"
        }
      ]
    },
    {
      "cell_type": "code",
      "metadata": {
        "id": "fq2dZdklSjIY",
        "colab": {
          "base_uri": "https://localhost:8080/",
          "height": 34
        },
        "outputId": "2be11049-9b52-4d24-b9a5-f98ad5d4118b"
      },
      "source": [
        "# but the same value may appear any number of times.\n",
        "x = { 'a' : 1, 'b' : 1 }\n",
        "print(x)"
      ],
      "execution_count": null,
      "outputs": [
        {
          "output_type": "stream",
          "text": [
            "{'a': 1, 'b': 1}\n"
          ],
          "name": "stdout"
        }
      ]
    },
    {
      "cell_type": "code",
      "metadata": {
        "id": "tB32mA1mgG8d",
        "colab": {
          "base_uri": "https://localhost:8080/",
          "height": 34
        },
        "outputId": "1d3c01e8-e21b-4d8e-ee25-28df56b3c5e4"
      },
      "source": [
        "# Get the size of a dictionary (returns number of key/value pairs)\n",
        "grades = { 'Sara' : 95, 'Mary': 100 }\n",
        "print(len(grades))"
      ],
      "execution_count": null,
      "outputs": [
        {
          "output_type": "stream",
          "text": [
            "2\n"
          ],
          "name": "stdout"
        }
      ]
    },
    {
      "cell_type": "code",
      "metadata": {
        "id": "f-xpYZw6gKAg",
        "colab": {
          "base_uri": "https://localhost:8080/",
          "height": 34
        },
        "outputId": "41a628f3-b00f-4e91-e8b2-6725f8b4a389"
      },
      "source": [
        "# Retrieve the value associated with a given key\n",
        "grades = { 'Sara' : 95, 'Mary': 100 }\n",
        "grade = grades['Sara']\n",
        "print(grade)"
      ],
      "execution_count": null,
      "outputs": [
        {
          "output_type": "stream",
          "text": [
            "95\n"
          ],
          "name": "stdout"
        }
      ]
    },
    {
      "cell_type": "code",
      "metadata": {
        "id": "WuBLq6qagPY6",
        "colab": {
          "base_uri": "https://localhost:8080/",
          "height": 34
        },
        "outputId": "911118b2-4fc1-4dc6-a32a-e2885bc97f3c"
      },
      "source": [
        "# The value inside the square brackets may be a literal, a variable or any\n",
        "# arbitrary expression. Similar syntax to list/tuple indexing but key based,\n",
        "# not positional.\n",
        "grades = { 'Sara' : 95, 'Mary': 100 }\n",
        "# Attempting to retrieve a non-existent key causes an error\n",
        "x = 'Sara'\n",
        "grades[x]"
      ],
      "execution_count": null,
      "outputs": [
        {
          "output_type": "execute_result",
          "data": {
            "text/plain": [
              "95"
            ]
          },
          "metadata": {
            "tags": []
          },
          "execution_count": 274
        }
      ]
    },
    {
      "cell_type": "code",
      "metadata": {
        "id": "L84ooapvgjWL",
        "colab": {
          "base_uri": "https://localhost:8080/",
          "height": 235
        },
        "outputId": "3265aa8b-249d-4ce6-b0c7-afa888a4688c"
      },
      "source": [
        "grades = { 'Sara' : 95, 'Mary': 100 }\n",
        "# play it safe by testing for key existence before access\n",
        "grade = grades[student]\n",
        "if student in grades:\n",
        "  grade = grades[student]\n",
        "  print('grade for', student, 'is', grade)\n",
        "else:\n",
        "  print('student', student, 'not found')\n",
        "\n",
        "# When used with dictionaries, the in operator only checks the existence\n",
        "# of keys, not values. You can also use “not in” to test for non-existence\n",
        "# of a key."
      ],
      "execution_count": null,
      "outputs": [
        {
          "output_type": "error",
          "ename": "KeyError",
          "evalue": "ignored",
          "traceback": [
            "\u001b[0;31m---------------------------------------------------------------------------\u001b[0m",
            "\u001b[0;31mKeyError\u001b[0m                                  Traceback (most recent call last)",
            "\u001b[0;32m<ipython-input-277-1bd63a24976e>\u001b[0m in \u001b[0;36m<module>\u001b[0;34m()\u001b[0m\n\u001b[1;32m      2\u001b[0m \u001b[0;31m# play it safe by testing for key existence before access\u001b[0m\u001b[0;34m\u001b[0m\u001b[0;34m\u001b[0m\u001b[0;34m\u001b[0m\u001b[0m\n\u001b[1;32m      3\u001b[0m \u001b[0mstudent\u001b[0m \u001b[0;34m=\u001b[0m \u001b[0;34m'Marc'\u001b[0m\u001b[0;34m\u001b[0m\u001b[0;34m\u001b[0m\u001b[0m\n\u001b[0;32m----> 4\u001b[0;31m \u001b[0mgrade\u001b[0m \u001b[0;34m=\u001b[0m \u001b[0mgrades\u001b[0m\u001b[0;34m[\u001b[0m\u001b[0mstudent\u001b[0m\u001b[0;34m]\u001b[0m\u001b[0;34m\u001b[0m\u001b[0;34m\u001b[0m\u001b[0m\n\u001b[0m\u001b[1;32m      5\u001b[0m \u001b[0;32mif\u001b[0m \u001b[0mstudent\u001b[0m \u001b[0;32min\u001b[0m \u001b[0mgrades\u001b[0m\u001b[0;34m:\u001b[0m\u001b[0;34m\u001b[0m\u001b[0;34m\u001b[0m\u001b[0m\n\u001b[1;32m      6\u001b[0m   \u001b[0mgrade\u001b[0m \u001b[0;34m=\u001b[0m \u001b[0mgrades\u001b[0m\u001b[0;34m[\u001b[0m\u001b[0mstudent\u001b[0m\u001b[0;34m]\u001b[0m\u001b[0;34m\u001b[0m\u001b[0;34m\u001b[0m\u001b[0m\n",
            "\u001b[0;31mKeyError\u001b[0m: 'Marc'"
          ]
        }
      ]
    },
    {
      "cell_type": "code",
      "metadata": {
        "id": "4DdUyr4-hAO6",
        "colab": {
          "base_uri": "https://localhost:8080/",
          "height": 69
        },
        "outputId": "fb38e40f-992d-4b8a-f27d-bfcffe647cbc"
      },
      "source": [
        "grades = { 'Sara' : 95, 'Mary': 100, 'Marc': 35 }\n",
        "# loop through a dictionary (this iterates over the dictionary keys)\n",
        "for i in grades:\n",
        "    print(i, grades[i])"
      ],
      "execution_count": null,
      "outputs": [
        {
          "output_type": "stream",
          "text": [
            "Sara 95\n",
            "Mary 100\n",
            "Marc 35\n"
          ],
          "name": "stdout"
        }
      ]
    },
    {
      "cell_type": "code",
      "metadata": {
        "id": "rj0K9P4bhB93",
        "colab": {
          "base_uri": "https://localhost:8080/",
          "height": 69
        },
        "outputId": "75018c1d-19ec-4a7b-aff9-858040565b15"
      },
      "source": [
        "grades = { 'Sara' : 95, 'Mary': 100, 'Marc': 35 }\n",
        "# By default, the keys will appear in random order. You can iterate keys in order by sorting them first:\n",
        "for i in sorted(grades):\n",
        "    print(i, grades[i])"
      ],
      "execution_count": null,
      "outputs": [
        {
          "output_type": "stream",
          "text": [
            "Marc 35\n",
            "Mary 100\n",
            "Sara 95\n"
          ],
          "name": "stdout"
        }
      ]
    },
    {
      "cell_type": "markdown",
      "metadata": {
        "id": "3SCZ3NtJvHF8"
      },
      "source": [
        "## Dictionaries are Mutable"
      ]
    },
    {
      "cell_type": "code",
      "metadata": {
        "id": "vxNJnz5fhWt8",
        "colab": {
          "base_uri": "https://localhost:8080/",
          "height": 51
        },
        "outputId": "969b818a-9254-42b6-c3eb-8c8ae32bd9dc"
      },
      "source": [
        "grades = { 'Sara' : 95, 'Mary': 100 }\n",
        "print('before:', grades)\n",
        "#Add a key/value pair\n",
        "grades['Marc'] = None # new, no grade yet\n",
        "print('after:', grades)"
      ],
      "execution_count": null,
      "outputs": [
        {
          "output_type": "stream",
          "text": [
            "before: {'Sara': 95, 'Mary': 100}\n",
            "after: {'Sara': 95, 'Mary': 100, 'Marc': None}\n"
          ],
          "name": "stdout"
        }
      ]
    },
    {
      "cell_type": "code",
      "metadata": {
        "id": "X9FGHjTwhY3x",
        "colab": {
          "base_uri": "https://localhost:8080/",
          "height": 85
        },
        "outputId": "f2f4c598-16ee-40f8-d72c-2635c133ddb9"
      },
      "source": [
        "grades = { 'Sara' : 95, 'Mary': 100, 'Marc': None }\n",
        "print('before:', grades)\n",
        "grades['Marc'] = 80 # grade recorded\n",
        "print('after1:', grades)\n",
        "grades['Marc'] += 5 # increment Marc's grade\n",
        "print('after2:', grades)\n",
        "grades['Marc'] += 5 # increment Marc's grade\n",
        "print('after2:', grades)"
      ],
      "execution_count": null,
      "outputs": [
        {
          "output_type": "stream",
          "text": [
            "before: {'Sara': 95, 'Mary': 100, 'Marc': None}\n",
            "after1: {'Sara': 95, 'Mary': 100, 'Marc': 80}\n",
            "after2: {'Sara': 95, 'Mary': 100, 'Marc': 85}\n",
            "after2: {'Sara': 95, 'Mary': 100, 'Marc': 90}\n"
          ],
          "name": "stdout"
        }
      ]
    },
    {
      "cell_type": "code",
      "metadata": {
        "id": "ctA4H3MXhbOY",
        "colab": {
          "base_uri": "https://localhost:8080/",
          "height": 34
        },
        "outputId": "31655a82-28fc-4f55-a8b3-f32c9acbfed0"
      },
      "source": [
        "grades = { 'Sara' : 95, 'Mary': 100, 'Marc': 85 }\n",
        "# delete a key/value pair\n",
        "del grades['Marc'] # Fred dropped the course\n",
        "print(grades)\n"
      ],
      "execution_count": null,
      "outputs": [
        {
          "output_type": "stream",
          "text": [
            "{'Sara': 95, 'Mary': 100}\n"
          ],
          "name": "stdout"
        }
      ]
    },
    {
      "cell_type": "code",
      "metadata": {
        "id": "kaXwTSZr8PVa",
        "colab": {
          "base_uri": "https://localhost:8080/",
          "height": 198
        },
        "outputId": "bfb51dc1-455c-4796-f24e-8fea91dc4e95"
      },
      "source": [
        "grades = { 'Sara' : 95, 'Mary': 100, 'Marc': 85 }\n",
        "# Trying to delete a key that doesn't exist will cause a runtime error.\n",
        "del grades['Fred']"
      ],
      "execution_count": null,
      "outputs": [
        {
          "output_type": "error",
          "ename": "KeyError",
          "evalue": "ignored",
          "traceback": [
            "\u001b[0;31m---------------------------------------------------------------------------\u001b[0m",
            "\u001b[0;31mKeyError\u001b[0m                                  Traceback (most recent call last)",
            "\u001b[0;32m<ipython-input-285-a7e696e33cbd>\u001b[0m in \u001b[0;36m<module>\u001b[0;34m()\u001b[0m\n\u001b[1;32m      1\u001b[0m \u001b[0mgrades\u001b[0m \u001b[0;34m=\u001b[0m \u001b[0;34m{\u001b[0m \u001b[0;34m'Sara'\u001b[0m \u001b[0;34m:\u001b[0m \u001b[0;36m95\u001b[0m\u001b[0;34m,\u001b[0m \u001b[0;34m'Mary'\u001b[0m\u001b[0;34m:\u001b[0m \u001b[0;36m100\u001b[0m\u001b[0;34m,\u001b[0m \u001b[0;34m'Marc'\u001b[0m\u001b[0;34m:\u001b[0m \u001b[0;36m85\u001b[0m \u001b[0;34m}\u001b[0m\u001b[0;34m\u001b[0m\u001b[0;34m\u001b[0m\u001b[0m\n\u001b[1;32m      2\u001b[0m \u001b[0;31m# Trying to delete a key that doesn't exist will cause a runtime error.\u001b[0m\u001b[0;34m\u001b[0m\u001b[0;34m\u001b[0m\u001b[0;34m\u001b[0m\u001b[0m\n\u001b[0;32m----> 3\u001b[0;31m \u001b[0;32mdel\u001b[0m \u001b[0mgrades\u001b[0m\u001b[0;34m[\u001b[0m\u001b[0;34m'Fred'\u001b[0m\u001b[0;34m]\u001b[0m\u001b[0;34m\u001b[0m\u001b[0;34m\u001b[0m\u001b[0m\n\u001b[0m",
            "\u001b[0;31mKeyError\u001b[0m: 'Fred'"
          ]
        }
      ]
    },
    {
      "cell_type": "markdown",
      "metadata": {
        "id": "4Luh_ie4gvHg"
      },
      "source": [
        "## Nested Dictionaries\n",
        "Just like we can have nested if statements, nested loops, nested tuples, and nested lists, we can also have nested dictionaries.\n",
        "- dictionary of tuples:  ```{'key1': (1,2), 'key2': (3,4)}```\n",
        "- dictionary of lists:  ```{'key1': [1,2], 'key2': [3,4]}```\n",
        "- dictionary of dictionaries:\n",
        "```\n",
        "{\n",
        "    'key1' : {\n",
        "      'key1' : [1, 2],\n",
        "      'key2' : [3, 4]\n",
        "    }\n",
        "    'key2' : {\n",
        "      'key1' : [1, 2],\n",
        "      'key2' : [3, 4]  \n",
        "    }\n",
        "}\n",
        "```\n",
        "This can get arbitrarily complex (dictionaries of lists of tuples of dictionaries of...).\n",
        "\n",
        "Once again, imagine I want to maintain a list of students and their quiz scores. If I think about just one particular student, I might like to store the student's name and each quiz score up to the current lesson. I need a mutable sequence (i.e. a list) because I'm going to want to add quiz results every week, like this:\n",
        "```\n",
        "student = [ 'Jeff', 95, 100, 90 ]\n",
        "```\n",
        "Even more convenient would be to organize the test scores by student name that way I can efficiently find any given student's scores by their name (i.e. by indexing on the dictionary key).\n",
        "\n",
        "This leads us to a dictionary of lists:\n",
        "```\n",
        "grades = {\n",
        "           'Sara' : [95, 100, 90],\n",
        "           'Mary' : [90, 95, 100]\n",
        "         }\n",
        "```\n",
        "To add a student:\n",
        "```\n",
        "grades[student] = []\n",
        "```\n",
        "To delete a student:\n",
        "```\n",
        "del grades[student]\n",
        "```\n",
        "To add a new score for a student:\n",
        "```\n",
        "grades[student].append(new_score)\n",
        "```\n",
        "To replace the 2nd quiz score for a student:\n",
        "```\n",
        "grades[student][1] = new_score\n",
        "```\n"
      ]
    },
    {
      "cell_type": "markdown",
      "metadata": {
        "id": "YRZI1Ve7zUJw"
      },
      "source": [
        "## Rule of thumb for truth value of tuples, lists, and dictionaries\n",
        "\n",
        "All of these objects may be used as boolean values. The rules for converting a tuple, list, or map into a boolean value are as follows:\n",
        "- if the object is empty, it evaluates to False\n",
        "- if the object is non-empty, it evaluates to True"
      ]
    },
    {
      "cell_type": "code",
      "metadata": {
        "id": "1xaW489fbHTL",
        "colab": {
          "base_uri": "https://localhost:8080/",
          "height": 102
        },
        "outputId": "f6d66462-200c-48ef-abf1-e1c51c72ddeb"
      },
      "source": [
        "def empty(collection):\n",
        "  if collection:\n",
        "    return 'is NOT empty.'\n",
        "  else:\n",
        "    return 'is empty.'\n",
        "\n",
        "print('tuple test...')\n",
        "for i in (), (1,2,3), ('a', 1), (None,):\n",
        "  print(i, empty(i))"
      ],
      "execution_count": null,
      "outputs": [
        {
          "output_type": "stream",
          "text": [
            "tuple test...\n",
            "() is empty.\n",
            "(1, 2, 3) is NOT empty.\n",
            "('a', 1) is NOT empty.\n",
            "(None,) is NOT empty.\n"
          ],
          "name": "stdout"
        }
      ]
    },
    {
      "cell_type": "code",
      "metadata": {
        "id": "xb_0X9Vw9AHZ"
      },
      "source": [
        "def empty(collection):\n",
        "  if collection:\n",
        "    return 'is NOT empty.'\n",
        "  else:\n",
        "    return 'is empty.'\n",
        "\n",
        "print('list test...')\n",
        "for i in [], [1,2,3], ['a', 1], [None]:\n",
        "  print(i, empty(i))\n"
      ],
      "execution_count": null,
      "outputs": []
    },
    {
      "cell_type": "code",
      "metadata": {
        "id": "knhDAp5E9Bs7"
      },
      "source": [
        "def empty(collection):\n",
        "  if collection:\n",
        "    return 'is NOT empty.'\n",
        "  else:\n",
        "    return 'is empty.'\n",
        "\n",
        "print('dictionary test...')\n",
        "for i in {}, {1: 2, 3: 4}, {'a':1, 'b':2, 'c':3}, {None:None}:\n",
        "  print(i, empty(i))"
      ],
      "execution_count": null,
      "outputs": []
    },
    {
      "cell_type": "markdown",
      "metadata": {
        "id": "klcCyx2t5Sjz"
      },
      "source": [
        "<h1> Learn Python Operators </h1>\n",
        "\n",
        "\n",
        "**April 2021**<br>\n",
        "\n",
        "Instruction, media content, examples and links to resources that will help you build a foundation for Python competency. Jupyter Notebooks are available on Google Colab and [Github](https://github.com/AlphaWaveData/Jupyter-Notebooks/blob/master/Learn%20Python%20Operators.ipynb).\n",
        "\n",
        "<b>Web Resources</b>\n",
        "<br> <a href='https://www.geeksforgeeks.org/basic-operators-python/'>Basic Operators in Python</a>\n",
        "\n",
        "\n",
        "#### What are Operators?####\n",
        "\n",
        "Python operators are symbols that perform an operation on one or more operands. An operand is a variable or a value on which we perform the operation.\n",
        "\n",
        "\n",
        "#### Why use Operators?####\n",
        "\n",
        "Operators can manipulate individual items and return a result. Operators manipulate individual items by conducting mathematical operations and/or returning a Boolean value (True or False).\n",
        "\n",
        "\n",
        "#### What are Mathematical Operators?####\n",
        "\n",
        "Mathematical operators are basic arithmetic symbols used to perform addition, subtraction, multiplication, and more.\n",
        "\n",
        "|Operator                  |Description                                                                        |Example |\n",
        "|-------------------------|-------------------------------------------------------------------------------|-------------|\n",
        "|Assignment (=)        |Assigns a variable a value. |(x = 5)       |\n",
        "|+       | Addition.                   |(1 + 2) |\n",
        "|-         | Subtraction. | (2 - 1)\n",
        "|* | Multiplication. |(1 * 2) |\n",
        "|/             |Division. |(10 / 5)|\n",
        "|% | Modulus. |(15 % 2)\n",
        "\n",
        "\n",
        "#### What are Comparison Operators?####\n",
        "\n",
        "Comparison operators are used to compare values, they either return True or False.\n",
        "\n",
        "|Operator                  |Description                                                                        |Example |\n",
        "|-------------------------|-------------------------------------------------------------------------------|-------------|\n",
        "|Equal to (==)        |If the values of the two operands are equal, then the condition becomes true. |(a == a) is True.       |\n",
        "|Not Equal to (!=)       |If the values of the two operands are not equal, then the condition becomes true.                    |(a != b) is True.|\n",
        "|Greater Than, Greater than or Equal to (>, >=)          |If the value of the left operand is greater than the value of the right operand then the condition becomes true. | (2>1) is True.\n",
        "|Less Than, Less than or Equal to (<, <=) |If the value of the left operand is less than the value of the right operand then the condition becomes true. |(1<2) is True.|\n",
        "|and              |Returns True if all statements are True. |(1<2 and 2>1) is True.|\n",
        "|or | Returns True if one of the statements is True. |(1<2 or 2<4) is True.\n",
        "|not | Reverse the result, returns False if the statement is True.| not(1<5 and 5>3) is not True.\n",
        "\n",
        "#### What are Membership Operators?####\n",
        "\n",
        "Membership operators are used to test whether a value or a variable is found in a sequence (string, tuple, list, set or dictionary). These operators become essential when we discuss loops.\n",
        "\n",
        "|Operator                  |Description                                                                        |Example |\n",
        "|-------------------------|-------------------------------------------------------------------------------|-------------|\n",
        "|in| Returns True if a sequence with the specified value is present in the object. | 3 in [1,2,3] is True.\n",
        "|not in| Returns True if a sequence with the specified value is not present in the object. | 4 not in [1,2,3] is True."
      ]
    },
    {
      "cell_type": "markdown",
      "metadata": {
        "id": "wxrnoPf05Sj6"
      },
      "source": [
        "<h2> Operators on Numbers </h2>\n",
        "Numerical operations in Python are similar to Excel or any other programming language.\n",
        "\n",
        "You can use these operations to do basic arithmetic."
      ]
    },
    {
      "cell_type": "code",
      "execution_count": null,
      "metadata": {
        "id": "_nnNWbcw5Sj7",
        "outputId": "6db30adb-cf95-4574-e38a-5aaf449c97e7"
      },
      "outputs": [
        {
          "data": {
            "text/plain": [
              "5"
            ]
          },
          "execution_count": 1,
          "metadata": {},
          "output_type": "execute_result"
        }
      ],
      "source": [
        "y = 15 % 10\n",
        "y"
      ]
    },
    {
      "cell_type": "code",
      "execution_count": null,
      "metadata": {
        "id": "a8LjdOup5Sj9",
        "outputId": "4423484d-0393-4f92-9b42-42a5d118c0b9"
      },
      "outputs": [
        {
          "data": {
            "text/plain": [
              "1.2764480400000002"
            ]
          },
          "execution_count": 3,
          "metadata": {},
          "output_type": "execute_result"
        }
      ],
      "source": [
        "j = (1.05 * 1.076) ** 2\n",
        "j"
      ]
    },
    {
      "cell_type": "code",
      "execution_count": null,
      "metadata": {
        "id": "XeWG062v5Sj-",
        "outputId": "3dc48cbf-004c-4086-f13d-b7954fd891ba"
      },
      "outputs": [
        {
          "data": {
            "text/plain": [
              "16.38"
            ]
          },
          "execution_count": 4,
          "metadata": {},
          "output_type": "execute_result"
        }
      ],
      "source": [
        "x = 126 * 0.13\n",
        "x"
      ]
    },
    {
      "cell_type": "markdown",
      "metadata": {
        "id": "VwkV7FCm5Sj_"
      },
      "source": [
        "<h3> Comparison Operators always result in a Boolean (True/False)</h3>"
      ]
    },
    {
      "cell_type": "code",
      "execution_count": null,
      "metadata": {
        "id": "lm4_vfx55Sj_",
        "outputId": "01ac2d10-f612-4906-ba24-d138dc69cdde"
      },
      "outputs": [
        {
          "data": {
            "text/plain": [
              "False"
            ]
          },
          "execution_count": 5,
          "metadata": {},
          "output_type": "execute_result"
        }
      ],
      "source": [
        "y == x"
      ]
    },
    {
      "cell_type": "code",
      "execution_count": null,
      "metadata": {
        "id": "z0s7J1zu5SkA",
        "outputId": "fca3a882-ae34-4c41-9eed-0f302bc3fa3a"
      },
      "outputs": [
        {
          "data": {
            "text/plain": [
              "True"
            ]
          },
          "execution_count": 6,
          "metadata": {},
          "output_type": "execute_result"
        }
      ],
      "source": [
        "j < 7"
      ]
    },
    {
      "cell_type": "code",
      "execution_count": null,
      "metadata": {
        "id": "mUJ8q2815SkA",
        "outputId": "b42868e2-d870-4624-9609-67d35eea9e3b"
      },
      "outputs": [
        {
          "data": {
            "text/plain": [
              "True"
            ]
          },
          "execution_count": 7,
          "metadata": {},
          "output_type": "execute_result"
        }
      ],
      "source": [
        "x > y and j < 5"
      ]
    },
    {
      "cell_type": "markdown",
      "metadata": {
        "id": "7fGlSGGk5SkB"
      },
      "source": [
        "<h2> Operators on Strings</h2>\n",
        "We can also use these operators on strings.\n",
        "    \n",
        "    \n",
        "<h5> The addition sign (+) will concatenate a string.</h5>"
      ]
    },
    {
      "cell_type": "code",
      "execution_count": null,
      "metadata": {
        "id": "nrhf7J_o5SkB",
        "outputId": "3b475e8d-42fc-443b-f421-5d2972b49621"
      },
      "outputs": [
        {
          "name": "stdout",
          "output_type": "stream",
          "text": [
            "Hello World\n"
          ]
        }
      ],
      "source": [
        "sentence = 'Hello' + ' ' + 'World'\n",
        "print(sentence)"
      ]
    },
    {
      "cell_type": "code",
      "execution_count": null,
      "metadata": {
        "id": "fdm8KZXl5SkC",
        "outputId": "c616a63d-7b85-45e0-e641-4c6c43bd58c3"
      },
      "outputs": [
        {
          "name": "stdout",
          "output_type": "stream",
          "text": [
            "HaHaHaHaHa!\n"
          ]
        }
      ],
      "source": [
        "k = 'Ha'\n",
        "print(k * 5 + '!')"
      ]
    },
    {
      "cell_type": "markdown",
      "metadata": {
        "id": "9nbBAVpl5SkC"
      },
      "source": [
        "<h5>You can also use the double equals sign (==) to check if two strings are identical.</h5>"
      ]
    },
    {
      "cell_type": "code",
      "execution_count": null,
      "metadata": {
        "id": "8mNmZeuo5SkC",
        "outputId": "a3a2a34c-47d1-493b-ecd4-2de0b141c6ed"
      },
      "outputs": [
        {
          "data": {
            "text/plain": [
              "False"
            ]
          },
          "execution_count": 10,
          "metadata": {},
          "output_type": "execute_result"
        }
      ],
      "source": [
        "'ABCD' == 'ABCE'"
      ]
    },
    {
      "cell_type": "markdown",
      "metadata": {
        "id": "7YOvkFU15SkC"
      },
      "source": [
        "<h5>The double equals sign is case sensitive.</h5>"
      ]
    },
    {
      "cell_type": "code",
      "execution_count": null,
      "metadata": {
        "id": "cAU-CghU5SkD",
        "outputId": "6b3d0c89-61c1-4c4e-ad61-632ddee763ef"
      },
      "outputs": [
        {
          "data": {
            "text/plain": [
              "False"
            ]
          },
          "execution_count": 11,
          "metadata": {},
          "output_type": "execute_result"
        }
      ],
      "source": [
        "'ABC' == 'ABc'"
      ]
    },
    {
      "cell_type": "markdown",
      "metadata": {
        "id": "4RDfJZcQ5SkD"
      },
      "source": [
        "<h5> > and < will check if one string has more characters than the other. </h5>"
      ]
    },
    {
      "cell_type": "code",
      "execution_count": null,
      "metadata": {
        "id": "cLTauWEO5SkE",
        "outputId": "3041af39-b35c-41d4-b5db-0ef75d622f49"
      },
      "outputs": [
        {
          "data": {
            "text/plain": [
              "True"
            ]
          },
          "execution_count": 12,
          "metadata": {},
          "output_type": "execute_result"
        }
      ],
      "source": [
        "'1234567' > '12345'"
      ]
    },
    {
      "cell_type": "code",
      "execution_count": null,
      "metadata": {
        "id": "gTh7bLaN5SkE",
        "outputId": "149e7588-15fc-42c4-f3cd-26bbc75b4acd"
      },
      "outputs": [
        {
          "data": {
            "text/plain": [
              "False"
            ]
          },
          "execution_count": 13,
          "metadata": {},
          "output_type": "execute_result"
        }
      ],
      "source": [
        "1 > 2"
      ]
    },
    {
      "cell_type": "code",
      "execution_count": null,
      "metadata": {
        "id": "eHED2hFo5SkE",
        "outputId": "3e024b89-4e3e-4ca2-e5c1-c75a442a7324"
      },
      "outputs": [
        {
          "data": {
            "text/plain": [
              "False"
            ]
          },
          "execution_count": 16,
          "metadata": {},
          "output_type": "execute_result"
        }
      ],
      "source": [
        "'abcdefg' > 'zyxw'"
      ]
    },
    {
      "cell_type": "markdown",
      "metadata": {
        "id": "c31VmBNO5SkE"
      },
      "source": [
        "<h5> not reverses the result, meaning it returns True if the statement is False. </h5>"
      ]
    },
    {
      "cell_type": "code",
      "execution_count": null,
      "metadata": {
        "id": "mpDb5-j85SkF",
        "outputId": "e04595ec-590b-4d18-e74a-2ad642cc4992"
      },
      "outputs": [
        {
          "data": {
            "text/plain": [
              "True"
            ]
          },
          "execution_count": 14,
          "metadata": {},
          "output_type": "execute_result"
        }
      ],
      "source": [
        "not(1>2 and 3==4)"
      ]
    },
    {
      "cell_type": "markdown",
      "metadata": {
        "id": "bPx0Mqbk5SkF"
      },
      "source": [
        "<h5> not in returns True if a sequence with the specified value is not present in the object. </h5>"
      ]
    },
    {
      "cell_type": "code",
      "execution_count": null,
      "metadata": {
        "id": "zpQAY6da5SkF",
        "outputId": "83daa2fe-b651-42fc-f0c7-05c4d8542610"
      },
      "outputs": [
        {
          "data": {
            "text/plain": [
              "True"
            ]
          },
          "execution_count": 15,
          "metadata": {},
          "output_type": "execute_result"
        }
      ],
      "source": [
        "'geese' not in ['dog','cat','mouse']"
      ]
    },
    {
      "cell_type": "markdown",
      "metadata": {
        "id": "hobfxsGb5SkF"
      },
      "source": [
        "<h5> You can print Boolean values. </h5>"
      ]
    },
    {
      "cell_type": "code",
      "execution_count": null,
      "metadata": {
        "id": "g2ghVN3f5SkF",
        "outputId": "faa3bbae-81be-4b87-d8a3-5975c2738cdc"
      },
      "outputs": [
        {
          "name": "stdout",
          "output_type": "stream",
          "text": [
            "The two variables are 3 and 10\n"
          ]
        }
      ],
      "source": [
        "var1 = 3\n",
        "var2 = 10\n",
        "\n",
        "print(\"The two variables are {} and {}\".format(var1,var2))"
      ]
    },
    {
      "cell_type": "code",
      "execution_count": null,
      "metadata": {
        "id": "5rLOQBAe5SkG",
        "outputId": "3d5d512b-ed55-457d-e622-d0307ead7a3b"
      },
      "outputs": [
        {
          "name": "stdout",
          "output_type": "stream",
          "text": [
            "The two expressions returned Boolean values of True and True\n"
          ]
        }
      ],
      "source": [
        "Boolean1 = var2>var1\n",
        "Boolean2 = (var2 % var1) == 1\n",
        "\n",
        "print(\"The two expressions returned Boolean values of {} and {}\".format(Boolean1,Boolean2))"
      ]
    },
    {
      "cell_type": "code",
      "execution_count": null,
      "metadata": {
        "id": "272Wo3Xr5SkG",
        "outputId": "9af88836-8059-44a8-e587-1486feeeae42"
      },
      "outputs": [
        {
          "name": "stdout",
          "output_type": "stream",
          "text": [
            "The two expressions returned Boolean values of False and False\n"
          ]
        }
      ],
      "source": [
        "Boolean3 = (var2 + var1) > 13\n",
        "Boolean4 = (var2 % var1) > 2\n",
        "\n",
        "print(\"The two expressions returned Boolean values of {} and {}\".format(Boolean3,Boolean4))"
      ]
    },
    {
      "cell_type": "code",
      "execution_count": null,
      "metadata": {
        "id": "ikk-M6aG5SkG",
        "outputId": "6362277a-9b71-4f7c-b006-72f2a5bd8b21"
      },
      "outputs": [
        {
          "name": "stdout",
          "output_type": "stream",
          "text": [
            "The car is in the list? True\n"
          ]
        }
      ],
      "source": [
        "Boolean5 = 'car' in ['boat','truck','car','house','garage']\n",
        "\n",
        "print(\"The car is in the list? {}\".format(Boolean5))"
      ]
    }
  ]
}