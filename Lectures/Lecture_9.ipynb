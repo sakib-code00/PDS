{
  "cells": [
    {
      "cell_type": "markdown",
      "metadata": {
        "id": "B7XYFHcfyrBS"
      },
      "source": [
        "# Data Manipulation with Pandas"
      ]
    },
    {
      "cell_type": "markdown",
      "metadata": {
        "id": "gFjRkeITyrBV"
      },
      "source": [
        "In [Part 2](02.00-Introduction-to-NumPy.ipynb), we dove into detail on NumPy and its `ndarray` object, which enables efficient storage and manipulation of dense typed arrays in Python.\n",
        "Here we'll build on this knowledge by looking in depth at the data structures provided by the Pandas library.\n",
        "Pandas is a newer package built on top of NumPy that provides an efficient implementation of a `DataFrame`.\n",
        "``DataFrame``s are essentially multidimensional arrays with attached row and column labels, often with heterogeneous types and/or missing data.\n",
        "As well as offering a convenient storage interface for labeled data, Pandas implements a number of powerful data operations familiar to users of both database frameworks and spreadsheet programs.\n",
        "\n",
        "As we've seen, NumPy's `ndarray` data structure provides essential features for the type of clean, well-organized data typically seen in numerical computing tasks.\n",
        "While it serves this purpose very well, its limitations become clear when we need more flexibility (e.g., attaching labels to data, working with missing data, etc.) and when attempting operations that do not map well to element-wise broadcasting (e.g., groupings, pivots, etc.), each of which is an important piece of analyzing the less structured data available in many forms in the world around us.\n",
        "Pandas, and in particular its `Series` and `DataFrame` objects, builds on the NumPy array structure and provides efficient access to these sorts of \"data munging\" tasks that occupy much of a data scientist's time.\n",
        "\n",
        "In this part of the book, we will focus on the mechanics of using `Series`, `DataFrame`, and related structures effectively.\n",
        "We will use examples drawn from real datasets where appropriate, but these examples are not necessarily the focus."
      ]
    },
    {
      "cell_type": "markdown",
      "metadata": {
        "id": "QhN23hxoyrBZ"
      },
      "source": [
        "This import convention will be used throughout the remainder of this book."
      ]
    },
    {
      "cell_type": "code",
      "execution_count": null,
      "metadata": {
        "id": "48ySIHhTzJDK",
        "tags": []
      },
      "outputs": [],
      "source": [
        "import numpy as np\n",
        "import pandas as pd"
      ]
    },
    {
      "cell_type": "markdown",
      "metadata": {
        "id": "ikCvUDnezJDL"
      },
      "source": [
        "## The Pandas Series Object\n",
        "\n",
        "A Pandas `Series` is a one-dimensional array of indexed data.\n",
        "It can be created from a list or array as follows:"
      ]
    },
    {
      "cell_type": "code",
      "execution_count": null,
      "metadata": {
        "id": "olg20L94zJDM",
        "jupyter": {
          "outputs_hidden": false
        },
        "outputId": "83feeb8d-19cc-489a-fb3a-bd6701f7ad6c"
      },
      "outputs": [
        {
          "data": {
            "text/plain": [
              "0    0.25\n",
              "1    0.50\n",
              "2    0.75\n",
              "3    1.00\n",
              "dtype: float64"
            ]
          },
          "execution_count": 2,
          "metadata": {},
          "output_type": "execute_result"
        }
      ],
      "source": [
        "data = pd.Series([0.25, 0.5, 0.75, 1.0])\n",
        "data"
      ]
    },
    {
      "cell_type": "markdown",
      "metadata": {
        "id": "jNVTfyOnzJDN"
      },
      "source": [
        "The `Series` combines a sequence of values with an explicit sequence of indices, which we can access with the `values` and `index` attributes.\n",
        "The `values` are simply a familiar NumPy array:"
      ]
    },
    {
      "cell_type": "code",
      "execution_count": null,
      "metadata": {
        "id": "KM6V_dvvzJDN",
        "jupyter": {
          "outputs_hidden": false
        },
        "outputId": "57de58ea-57bb-4ebc-f3bb-23d395cc0f24"
      },
      "outputs": [
        {
          "data": {
            "text/plain": [
              "array([0.25, 0.5 , 0.75, 1.  ])"
            ]
          },
          "execution_count": 3,
          "metadata": {},
          "output_type": "execute_result"
        }
      ],
      "source": [
        "data.values"
      ]
    },
    {
      "cell_type": "markdown",
      "metadata": {
        "id": "_vkOM_5_zJDO"
      },
      "source": [
        "The `index` is an array-like object of type `pd.Index`, which we'll discuss in more detail momentarily:"
      ]
    },
    {
      "cell_type": "code",
      "execution_count": null,
      "metadata": {
        "id": "lVe7V1MrzJDO",
        "jupyter": {
          "outputs_hidden": false
        },
        "outputId": "ec22b6ef-d06b-4691-acd0-77a8c3e0684a"
      },
      "outputs": [
        {
          "data": {
            "text/plain": [
              "RangeIndex(start=0, stop=4, step=1)"
            ]
          },
          "execution_count": 4,
          "metadata": {},
          "output_type": "execute_result"
        }
      ],
      "source": [
        "data.index"
      ]
    },
    {
      "cell_type": "markdown",
      "metadata": {
        "id": "7kbKsr10zJDO"
      },
      "source": [
        "Like with a NumPy array, data can be accessed by the associated index via the familiar Python square-bracket notation:"
      ]
    },
    {
      "cell_type": "code",
      "execution_count": null,
      "metadata": {
        "id": "3u6XSztLzJDP",
        "jupyter": {
          "outputs_hidden": false
        },
        "outputId": "0a9c9b18-56bc-4db1-f7b9-81c539132966"
      },
      "outputs": [
        {
          "data": {
            "text/plain": [
              "0.5"
            ]
          },
          "execution_count": 5,
          "metadata": {},
          "output_type": "execute_result"
        }
      ],
      "source": [
        "data[1]"
      ]
    },
    {
      "cell_type": "code",
      "execution_count": null,
      "metadata": {
        "id": "seerbQrezJDP",
        "jupyter": {
          "outputs_hidden": false
        },
        "outputId": "a4fae665-8796-4214-a8cc-6941d42a527b"
      },
      "outputs": [
        {
          "data": {
            "text/plain": [
              "1    0.50\n",
              "2    0.75\n",
              "dtype: float64"
            ]
          },
          "execution_count": 6,
          "metadata": {},
          "output_type": "execute_result"
        }
      ],
      "source": [
        "data[1:3]"
      ]
    },
    {
      "cell_type": "markdown",
      "metadata": {
        "id": "Qlfr2a1jzJDP"
      },
      "source": [
        "As we will see, though, the Pandas `Series` is much more general and flexible than the one-dimensional NumPy array that it emulates."
      ]
    },
    {
      "cell_type": "markdown",
      "metadata": {
        "id": "4FcvEISrzJDP"
      },
      "source": [
        "### Series as Generalized NumPy Array"
      ]
    },
    {
      "cell_type": "markdown",
      "metadata": {
        "id": "OK7QZ87EzJDQ"
      },
      "source": [
        "From what we've seen so far, the `Series` object may appear to be basically interchangeable with a one-dimensional NumPy array.\n",
        "The essential difference is that while the NumPy array has an *implicitly defined* integer index used to access the values, the Pandas `Series` has an *explicitly defined* index associated with the values.\n",
        "\n",
        "This explicit index definition gives the `Series` object additional capabilities. For example, the index need not be an integer, but can consist of values of any desired type.\n",
        "So, if we wish, we can use strings as an index:"
      ]
    },
    {
      "cell_type": "code",
      "execution_count": null,
      "metadata": {
        "id": "8E7Yb3cMzJDQ",
        "jupyter": {
          "outputs_hidden": false
        },
        "outputId": "90bc8e47-eab7-48f2-a3df-ced3841a1b20"
      },
      "outputs": [
        {
          "data": {
            "text/plain": [
              "a    0.25\n",
              "b    0.50\n",
              "c    0.75\n",
              "d    1.00\n",
              "dtype: float64"
            ]
          },
          "execution_count": 7,
          "metadata": {},
          "output_type": "execute_result"
        }
      ],
      "source": [
        "data = pd.Series([0.25, 0.5, 0.75, 1.0],\n",
        "                 index=['a', 'b', 'c', 'd'])\n",
        "data"
      ]
    },
    {
      "cell_type": "markdown",
      "metadata": {
        "id": "yIpOj-PizJDQ"
      },
      "source": [
        "And the item access works as expected:"
      ]
    },
    {
      "cell_type": "code",
      "execution_count": null,
      "metadata": {
        "id": "RAdEnsQCzJDQ",
        "jupyter": {
          "outputs_hidden": false
        },
        "outputId": "af86891f-0410-4d4f-dcb0-9b9aa25c4cb4"
      },
      "outputs": [
        {
          "data": {
            "text/plain": [
              "0.5"
            ]
          },
          "execution_count": 8,
          "metadata": {},
          "output_type": "execute_result"
        }
      ],
      "source": [
        "data['b']"
      ]
    },
    {
      "cell_type": "markdown",
      "metadata": {
        "id": "8dwGsSZ1zJDQ"
      },
      "source": [
        "We can even use noncontiguous or nonsequential indices:"
      ]
    },
    {
      "cell_type": "code",
      "execution_count": null,
      "metadata": {
        "id": "avPu6xEEzJDQ",
        "jupyter": {
          "outputs_hidden": false
        },
        "outputId": "17f75d62-912f-4e38-d851-f23552116feb"
      },
      "outputs": [
        {
          "data": {
            "text/plain": [
              "2    0.25\n",
              "5    0.50\n",
              "3    0.75\n",
              "7    1.00\n",
              "dtype: float64"
            ]
          },
          "execution_count": 9,
          "metadata": {},
          "output_type": "execute_result"
        }
      ],
      "source": [
        "data = pd.Series([0.25, 0.5, 0.75, 1.0],\n",
        "                 index=[2, 5, 3, 7])\n",
        "data"
      ]
    },
    {
      "cell_type": "code",
      "execution_count": null,
      "metadata": {
        "id": "t4xQvdTkzJDR",
        "jupyter": {
          "outputs_hidden": false
        },
        "outputId": "0511ada9-0b7e-4d6b-990d-83c09ba68b38"
      },
      "outputs": [
        {
          "data": {
            "text/plain": [
              "0.5"
            ]
          },
          "execution_count": 10,
          "metadata": {},
          "output_type": "execute_result"
        }
      ],
      "source": [
        "data[5]"
      ]
    },
    {
      "cell_type": "markdown",
      "metadata": {
        "id": "xyOk3TUjzJDR"
      },
      "source": [
        "### Series as Specialized Dictionary\n",
        "\n",
        "In this way, you can think of a Pandas `Series` a bit like a specialization of a Python dictionary.\n",
        "A dictionary is a structure that maps arbitrary keys to a set of arbitrary values, and a `Series` is a structure that maps typed keys to a set of typed values.\n",
        "This typing is important: just as the type-specific compiled code behind a NumPy array makes it more efficient than a Python list for certain operations, the type information of a Pandas `Series` makes it more efficient than Python dictionaries for certain operations.\n",
        "\n",
        "The `Series`-as-dictionary analogy can be made even more clear by constructing a `Series` object directly from a Python dictionary, here the five most populous US states according to the 2020 census:"
      ]
    },
    {
      "cell_type": "code",
      "execution_count": null,
      "metadata": {
        "id": "KGBZXXVpzJDR",
        "jupyter": {
          "outputs_hidden": false
        },
        "outputId": "648fd150-c3d1-4a08-abaf-55ec68bb2395"
      },
      "outputs": [
        {
          "data": {
            "text/plain": [
              "California      39538223\n",
              "Texas           29145505\n",
              "Florida         21538187\n",
              "New York        20201249\n",
              "Pennsylvania    13002700\n",
              "dtype: int64"
            ]
          },
          "execution_count": 11,
          "metadata": {},
          "output_type": "execute_result"
        }
      ],
      "source": [
        "population_dict = {'California': 39538223, 'Texas': 29145505,\n",
        "                   'Florida': 21538187, 'New York': 20201249,\n",
        "                   'Pennsylvania': 13002700}\n",
        "population = pd.Series(population_dict)\n",
        "population"
      ]
    },
    {
      "cell_type": "markdown",
      "metadata": {
        "id": "SSWjpyKVzJDS"
      },
      "source": [
        "From here, typical dictionary-style item access can be performed:"
      ]
    },
    {
      "cell_type": "code",
      "execution_count": null,
      "metadata": {
        "id": "yrR7opcfzJDS",
        "jupyter": {
          "outputs_hidden": false
        },
        "outputId": "1b930489-67db-49a2-dfdc-44b5084b72d2"
      },
      "outputs": [
        {
          "data": {
            "text/plain": [
              "39538223"
            ]
          },
          "execution_count": 12,
          "metadata": {},
          "output_type": "execute_result"
        }
      ],
      "source": [
        "population['California']"
      ]
    },
    {
      "cell_type": "markdown",
      "metadata": {
        "id": "qjNFDoqIzJDS"
      },
      "source": [
        "Unlike a dictionary, though, the `Series` also supports array-style operations such as slicing:"
      ]
    },
    {
      "cell_type": "code",
      "execution_count": null,
      "metadata": {
        "id": "6EFhDphczJDS",
        "jupyter": {
          "outputs_hidden": false
        },
        "outputId": "9a332909-6844-4c8b-b257-c5c0a8c8fbc3"
      },
      "outputs": [
        {
          "data": {
            "text/plain": [
              "California    39538223\n",
              "Texas         29145505\n",
              "Florida       21538187\n",
              "dtype: int64"
            ]
          },
          "execution_count": 13,
          "metadata": {},
          "output_type": "execute_result"
        }
      ],
      "source": [
        "population['California':'Florida']"
      ]
    },
    {
      "cell_type": "markdown",
      "metadata": {
        "id": "TuyABYe1zJDS"
      },
      "source": [
        "We'll discuss some of the quirks of Pandas indexing and slicing in [Data Indexing and Selection](03.02-Data-Indexing-and-Selection.ipynb)."
      ]
    },
    {
      "cell_type": "markdown",
      "metadata": {
        "id": "JpqpwmGJzJDS"
      },
      "source": [
        "### Constructing Series Objects\n",
        "\n",
        "We've already seen a few ways of constructing a Pandas `Series` from scratch. All of them are some version of the following:\n",
        "\n",
        "```python\n",
        "pd.Series(data, index=index)\n",
        "```\n",
        "\n",
        "where `index` is an optional argument, and `data` can be one of many entities.\n",
        "\n",
        "For example, `data` can be a list or NumPy array, in which case `index` defaults to an integer sequence:"
      ]
    },
    {
      "cell_type": "code",
      "execution_count": null,
      "metadata": {
        "id": "Vbm8YOiBzJDS",
        "jupyter": {
          "outputs_hidden": false
        },
        "outputId": "c9fff0c3-41b5-4b45-a85d-16783e8db1a5"
      },
      "outputs": [
        {
          "data": {
            "text/plain": [
              "0    2\n",
              "1    4\n",
              "2    6\n",
              "dtype: int64"
            ]
          },
          "execution_count": 14,
          "metadata": {},
          "output_type": "execute_result"
        }
      ],
      "source": [
        "pd.Series([2, 4, 6])"
      ]
    },
    {
      "cell_type": "markdown",
      "metadata": {
        "id": "e_f1_GqkzJDT"
      },
      "source": [
        "Or `data` can be a scalar, which is repeated to fill the specified index:"
      ]
    },
    {
      "cell_type": "code",
      "execution_count": null,
      "metadata": {
        "id": "1HmB2RzyzJDT",
        "jupyter": {
          "outputs_hidden": false
        },
        "outputId": "7b6de085-dde5-48a9-f438-944fc42b94f1"
      },
      "outputs": [
        {
          "data": {
            "text/plain": [
              "100    5\n",
              "200    5\n",
              "300    5\n",
              "dtype: int64"
            ]
          },
          "execution_count": 15,
          "metadata": {},
          "output_type": "execute_result"
        }
      ],
      "source": [
        "pd.Series(5, index=[100, 200, 300])"
      ]
    },
    {
      "cell_type": "markdown",
      "metadata": {
        "id": "OWlb2GJ7zJDT"
      },
      "source": [
        "Or it can be a dictionary, in which case `index` defaults to the dictionary keys:"
      ]
    },
    {
      "cell_type": "code",
      "execution_count": null,
      "metadata": {
        "id": "PODq4LQyzJDT",
        "jupyter": {
          "outputs_hidden": false
        },
        "outputId": "5eab489a-a295-427e-bf7a-7d42c973633b"
      },
      "outputs": [
        {
          "data": {
            "text/plain": [
              "2    a\n",
              "1    b\n",
              "3    c\n",
              "dtype: object"
            ]
          },
          "execution_count": 16,
          "metadata": {},
          "output_type": "execute_result"
        }
      ],
      "source": [
        "pd.Series({2:'a', 1:'b', 3:'c'})"
      ]
    },
    {
      "cell_type": "markdown",
      "metadata": {
        "id": "RWh0V3luzJDT"
      },
      "source": [
        "In each case, the index can be explicitly set to control the order or the subset of keys used:"
      ]
    },
    {
      "cell_type": "markdown",
      "metadata": {
        "id": "8fAG7IOwzJDU"
      },
      "source": [
        "## The Pandas DataFrame Object\n",
        "\n",
        "The next fundamental structure in Pandas is the `DataFrame`.\n",
        "Like the `Series` object discussed in the previous section, the `DataFrame` can be thought of either as a generalization of a NumPy array, or as a specialization of a Python dictionary.\n",
        "We'll now take a look at each of these perspectives."
      ]
    },
    {
      "cell_type": "markdown",
      "metadata": {
        "id": "W3A9DwD7zJDU"
      },
      "source": [
        "### DataFrame as Generalized NumPy Array\n",
        "If a `Series` is an analog of a one-dimensional array with explicit indices, a `DataFrame` is an analog of a two-dimensional array with explicit row and column indices.\n",
        "Just as you might think of a two-dimensional array as an ordered sequence of aligned one-dimensional columns, you can think of a `DataFrame` as a sequence of aligned `Series` objects.\n",
        "Here, by \"aligned\" we mean that they share the same index.\n",
        "\n",
        "To demonstrate this, let's first construct a new `Series` listing the area of each of the five states discussed in the previous section (in square kilometers):"
      ]
    },
    {
      "cell_type": "code",
      "execution_count": null,
      "metadata": {
        "id": "SxXlcA_XzJDU",
        "jupyter": {
          "outputs_hidden": false
        },
        "outputId": "d9cd9500-cc0b-4935-b1fb-8d2081b20ffb"
      },
      "outputs": [
        {
          "data": {
            "text/plain": [
              "California      423967\n",
              "Texas           695662\n",
              "Florida         170312\n",
              "New York        141297\n",
              "Pennsylvania    119280\n",
              "dtype: int64"
            ]
          },
          "execution_count": 18,
          "metadata": {},
          "output_type": "execute_result"
        }
      ],
      "source": [
        "area_dict = {'California': 423967, 'Texas': 695662, 'Florida': 170312,\n",
        "             'New York': 141297, 'Pennsylvania': 119280}\n",
        "area = pd.Series(area_dict)\n",
        "area"
      ]
    },
    {
      "cell_type": "markdown",
      "metadata": {
        "id": "xfOVaYGJzJDU"
      },
      "source": [
        "Now that we have this along with the `population` Series from before, we can use a dictionary to construct a single two-dimensional object containing this information:"
      ]
    },
    {
      "cell_type": "code",
      "execution_count": null,
      "metadata": {
        "id": "NQCY-HOHzJDV",
        "jupyter": {
          "outputs_hidden": false
        },
        "outputId": "a937ae70-6866-41b7-b14b-34ceb94859fc"
      },
      "outputs": [
        {
          "data": {
            "text/html": [
              "<div>\n",
              "<style scoped>\n",
              "    .dataframe tbody tr th:only-of-type {\n",
              "        vertical-align: middle;\n",
              "    }\n",
              "\n",
              "    .dataframe tbody tr th {\n",
              "        vertical-align: top;\n",
              "    }\n",
              "\n",
              "    .dataframe thead th {\n",
              "        text-align: right;\n",
              "    }\n",
              "</style>\n",
              "<table border=\"1\" class=\"dataframe\">\n",
              "  <thead>\n",
              "    <tr style=\"text-align: right;\">\n",
              "      <th></th>\n",
              "      <th>population</th>\n",
              "      <th>area</th>\n",
              "    </tr>\n",
              "  </thead>\n",
              "  <tbody>\n",
              "    <tr>\n",
              "      <th>California</th>\n",
              "      <td>39538223</td>\n",
              "      <td>423967</td>\n",
              "    </tr>\n",
              "    <tr>\n",
              "      <th>Texas</th>\n",
              "      <td>29145505</td>\n",
              "      <td>695662</td>\n",
              "    </tr>\n",
              "    <tr>\n",
              "      <th>Florida</th>\n",
              "      <td>21538187</td>\n",
              "      <td>170312</td>\n",
              "    </tr>\n",
              "    <tr>\n",
              "      <th>New York</th>\n",
              "      <td>20201249</td>\n",
              "      <td>141297</td>\n",
              "    </tr>\n",
              "    <tr>\n",
              "      <th>Pennsylvania</th>\n",
              "      <td>13002700</td>\n",
              "      <td>119280</td>\n",
              "    </tr>\n",
              "  </tbody>\n",
              "</table>\n",
              "</div>"
            ],
            "text/plain": [
              "              population    area\n",
              "California      39538223  423967\n",
              "Texas           29145505  695662\n",
              "Florida         21538187  170312\n",
              "New York        20201249  141297\n",
              "Pennsylvania    13002700  119280"
            ]
          },
          "execution_count": 19,
          "metadata": {},
          "output_type": "execute_result"
        }
      ],
      "source": [
        "states = pd.DataFrame({'population': population,\n",
        "                       'area': area})\n",
        "states"
      ]
    },
    {
      "cell_type": "markdown",
      "metadata": {
        "id": "IMaD5nkGzJDV"
      },
      "source": [
        "Like the `Series` object, the `DataFrame` has an `index` attribute that gives access to the index labels:"
      ]
    },
    {
      "cell_type": "code",
      "execution_count": null,
      "metadata": {
        "id": "vY1jKpaPzJDV",
        "jupyter": {
          "outputs_hidden": false
        },
        "outputId": "96d985bd-85fe-4579-ba68-d56830a105d1"
      },
      "outputs": [
        {
          "data": {
            "text/plain": [
              "Index(['California', 'Texas', 'Florida', 'New York', 'Pennsylvania'], dtype='object')"
            ]
          },
          "execution_count": 20,
          "metadata": {},
          "output_type": "execute_result"
        }
      ],
      "source": [
        "states.index"
      ]
    },
    {
      "cell_type": "markdown",
      "metadata": {
        "id": "_OSRFkRXzJDV"
      },
      "source": [
        "Additionally, the `DataFrame` has a `columns` attribute, which is an `Index` object holding the column labels:"
      ]
    },
    {
      "cell_type": "code",
      "execution_count": null,
      "metadata": {
        "id": "gKaCZviHzJDV",
        "jupyter": {
          "outputs_hidden": false
        },
        "outputId": "c6c233cc-3937-42b0-8d15-f35943e16033"
      },
      "outputs": [
        {
          "data": {
            "text/plain": [
              "Index(['population', 'area'], dtype='object')"
            ]
          },
          "execution_count": 21,
          "metadata": {},
          "output_type": "execute_result"
        }
      ],
      "source": [
        "states.columns"
      ]
    },
    {
      "cell_type": "markdown",
      "metadata": {
        "id": "JcImFiYjzJDW"
      },
      "source": [
        "Thus the `DataFrame` can be thought of as a generalization of a two-dimensional NumPy array, where both the rows and columns have a generalized index for accessing the data."
      ]
    },
    {
      "cell_type": "markdown",
      "metadata": {
        "id": "rx21tk9szJDW"
      },
      "source": [
        "### Constructing DataFrame Objects\n",
        "\n",
        "A Pandas `DataFrame` can be constructed in a variety of ways.\n",
        "Here we'll explore several examples."
      ]
    },
    {
      "cell_type": "markdown",
      "metadata": {
        "id": "rYU0Wu2KzJDW"
      },
      "source": [
        "#### From a single Series object\n",
        "\n",
        "A `DataFrame` is a collection of `Series` objects, and a single-column `DataFrame` can be constructed from a single `Series`:"
      ]
    },
    {
      "cell_type": "code",
      "execution_count": null,
      "metadata": {
        "id": "nmBnkCRozJDW",
        "jupyter": {
          "outputs_hidden": false
        },
        "outputId": "62ce4b24-9e94-4345-c220-6a4541a33eb8"
      },
      "outputs": [
        {
          "data": {
            "text/html": [
              "<div>\n",
              "<style scoped>\n",
              "    .dataframe tbody tr th:only-of-type {\n",
              "        vertical-align: middle;\n",
              "    }\n",
              "\n",
              "    .dataframe tbody tr th {\n",
              "        vertical-align: top;\n",
              "    }\n",
              "\n",
              "    .dataframe thead th {\n",
              "        text-align: right;\n",
              "    }\n",
              "</style>\n",
              "<table border=\"1\" class=\"dataframe\">\n",
              "  <thead>\n",
              "    <tr style=\"text-align: right;\">\n",
              "      <th></th>\n",
              "      <th>population</th>\n",
              "    </tr>\n",
              "  </thead>\n",
              "  <tbody>\n",
              "    <tr>\n",
              "      <th>California</th>\n",
              "      <td>39538223</td>\n",
              "    </tr>\n",
              "    <tr>\n",
              "      <th>Texas</th>\n",
              "      <td>29145505</td>\n",
              "    </tr>\n",
              "    <tr>\n",
              "      <th>Florida</th>\n",
              "      <td>21538187</td>\n",
              "    </tr>\n",
              "    <tr>\n",
              "      <th>New York</th>\n",
              "      <td>20201249</td>\n",
              "    </tr>\n",
              "    <tr>\n",
              "      <th>Pennsylvania</th>\n",
              "      <td>13002700</td>\n",
              "    </tr>\n",
              "  </tbody>\n",
              "</table>\n",
              "</div>"
            ],
            "text/plain": [
              "              population\n",
              "California      39538223\n",
              "Texas           29145505\n",
              "Florida         21538187\n",
              "New York        20201249\n",
              "Pennsylvania    13002700"
            ]
          },
          "execution_count": 23,
          "metadata": {},
          "output_type": "execute_result"
        }
      ],
      "source": [
        "pd.DataFrame(population, columns=['population'])"
      ]
    },
    {
      "cell_type": "markdown",
      "metadata": {
        "id": "0pUvhBFczJDX"
      },
      "source": [
        "#### From a list of dicts\n",
        "\n",
        "Any list of dictionaries can be made into a `DataFrame`.\n",
        "We'll use a simple list comprehension to create some data:"
      ]
    },
    {
      "cell_type": "code",
      "execution_count": null,
      "metadata": {
        "id": "JAtC03E6zJDX",
        "jupyter": {
          "outputs_hidden": false
        },
        "outputId": "b0519264-b03e-4e5e-9b6b-d415dacefce2"
      },
      "outputs": [
        {
          "data": {
            "text/html": [
              "<div>\n",
              "<style scoped>\n",
              "    .dataframe tbody tr th:only-of-type {\n",
              "        vertical-align: middle;\n",
              "    }\n",
              "\n",
              "    .dataframe tbody tr th {\n",
              "        vertical-align: top;\n",
              "    }\n",
              "\n",
              "    .dataframe thead th {\n",
              "        text-align: right;\n",
              "    }\n",
              "</style>\n",
              "<table border=\"1\" class=\"dataframe\">\n",
              "  <thead>\n",
              "    <tr style=\"text-align: right;\">\n",
              "      <th></th>\n",
              "      <th>a</th>\n",
              "      <th>b</th>\n",
              "    </tr>\n",
              "  </thead>\n",
              "  <tbody>\n",
              "    <tr>\n",
              "      <th>0</th>\n",
              "      <td>0</td>\n",
              "      <td>0</td>\n",
              "    </tr>\n",
              "    <tr>\n",
              "      <th>1</th>\n",
              "      <td>1</td>\n",
              "      <td>2</td>\n",
              "    </tr>\n",
              "    <tr>\n",
              "      <th>2</th>\n",
              "      <td>2</td>\n",
              "      <td>4</td>\n",
              "    </tr>\n",
              "  </tbody>\n",
              "</table>\n",
              "</div>"
            ],
            "text/plain": [
              "   a  b\n",
              "0  0  0\n",
              "1  1  2\n",
              "2  2  4"
            ]
          },
          "execution_count": 24,
          "metadata": {},
          "output_type": "execute_result"
        }
      ],
      "source": [
        "data = [{'a': i, 'b': 2 * i}\n",
        "        for i in range(3)]\n",
        "pd.DataFrame(data)"
      ]
    },
    {
      "cell_type": "markdown",
      "metadata": {
        "id": "LpAwVtbAzJDX"
      },
      "source": [
        "Even if some keys in the dictionary are missing, Pandas will fill them in with `NaN` values (i.e., \"Not a Number\"; see [Handling Missing Data](03.04-Missing-Values.ipynb)):"
      ]
    },
    {
      "cell_type": "code",
      "execution_count": null,
      "metadata": {
        "id": "ocXGWuIhzJDX",
        "jupyter": {
          "outputs_hidden": false
        },
        "outputId": "191c6e78-03c6-49ce-bfcc-b0f13227bff0"
      },
      "outputs": [
        {
          "data": {
            "text/html": [
              "<div>\n",
              "<style scoped>\n",
              "    .dataframe tbody tr th:only-of-type {\n",
              "        vertical-align: middle;\n",
              "    }\n",
              "\n",
              "    .dataframe tbody tr th {\n",
              "        vertical-align: top;\n",
              "    }\n",
              "\n",
              "    .dataframe thead th {\n",
              "        text-align: right;\n",
              "    }\n",
              "</style>\n",
              "<table border=\"1\" class=\"dataframe\">\n",
              "  <thead>\n",
              "    <tr style=\"text-align: right;\">\n",
              "      <th></th>\n",
              "      <th>a</th>\n",
              "      <th>b</th>\n",
              "      <th>c</th>\n",
              "    </tr>\n",
              "  </thead>\n",
              "  <tbody>\n",
              "    <tr>\n",
              "      <th>0</th>\n",
              "      <td>1.0</td>\n",
              "      <td>2</td>\n",
              "      <td>NaN</td>\n",
              "    </tr>\n",
              "    <tr>\n",
              "      <th>1</th>\n",
              "      <td>NaN</td>\n",
              "      <td>3</td>\n",
              "      <td>4.0</td>\n",
              "    </tr>\n",
              "  </tbody>\n",
              "</table>\n",
              "</div>"
            ],
            "text/plain": [
              "     a  b    c\n",
              "0  1.0  2  NaN\n",
              "1  NaN  3  4.0"
            ]
          },
          "execution_count": 25,
          "metadata": {},
          "output_type": "execute_result"
        }
      ],
      "source": [
        "pd.DataFrame([{'a': 1, 'b': 2}, {'b': 3, 'c': 4}])"
      ]
    },
    {
      "cell_type": "markdown",
      "metadata": {
        "id": "RI_LQNB7zJDX"
      },
      "source": [
        "#### From a dictionary of Series objects\n",
        "\n",
        "As we saw before, a `DataFrame` can be constructed from a dictionary of `Series` objects as well:"
      ]
    },
    {
      "cell_type": "code",
      "execution_count": null,
      "metadata": {
        "id": "tHpVY40mzJDX",
        "jupyter": {
          "outputs_hidden": false
        },
        "outputId": "3f9ed1d1-c739-41c7-ce9a-57e55ce2d232"
      },
      "outputs": [
        {
          "data": {
            "text/html": [
              "<div>\n",
              "<style scoped>\n",
              "    .dataframe tbody tr th:only-of-type {\n",
              "        vertical-align: middle;\n",
              "    }\n",
              "\n",
              "    .dataframe tbody tr th {\n",
              "        vertical-align: top;\n",
              "    }\n",
              "\n",
              "    .dataframe thead th {\n",
              "        text-align: right;\n",
              "    }\n",
              "</style>\n",
              "<table border=\"1\" class=\"dataframe\">\n",
              "  <thead>\n",
              "    <tr style=\"text-align: right;\">\n",
              "      <th></th>\n",
              "      <th>population</th>\n",
              "      <th>area</th>\n",
              "    </tr>\n",
              "  </thead>\n",
              "  <tbody>\n",
              "    <tr>\n",
              "      <th>California</th>\n",
              "      <td>39538223</td>\n",
              "      <td>423967</td>\n",
              "    </tr>\n",
              "    <tr>\n",
              "      <th>Texas</th>\n",
              "      <td>29145505</td>\n",
              "      <td>695662</td>\n",
              "    </tr>\n",
              "    <tr>\n",
              "      <th>Florida</th>\n",
              "      <td>21538187</td>\n",
              "      <td>170312</td>\n",
              "    </tr>\n",
              "    <tr>\n",
              "      <th>New York</th>\n",
              "      <td>20201249</td>\n",
              "      <td>141297</td>\n",
              "    </tr>\n",
              "    <tr>\n",
              "      <th>Pennsylvania</th>\n",
              "      <td>13002700</td>\n",
              "      <td>119280</td>\n",
              "    </tr>\n",
              "  </tbody>\n",
              "</table>\n",
              "</div>"
            ],
            "text/plain": [
              "              population    area\n",
              "California      39538223  423967\n",
              "Texas           29145505  695662\n",
              "Florida         21538187  170312\n",
              "New York        20201249  141297\n",
              "Pennsylvania    13002700  119280"
            ]
          },
          "execution_count": 26,
          "metadata": {},
          "output_type": "execute_result"
        }
      ],
      "source": [
        "pd.DataFrame({'population': population,\n",
        "              'area': area})"
      ]
    },
    {
      "cell_type": "markdown",
      "metadata": {
        "id": "pTcWmk_EzJDY"
      },
      "source": [
        "## The Pandas Index Object\n",
        "\n",
        "As you've seen, the `Series` and `DataFrame` objects both contain an explicit *index* that lets you reference and modify data.\n",
        "This `Index` object is an interesting structure in itself, and it can be thought of either as an *immutable array* or as an *ordered set* (technically a multiset, as `Index` objects may contain repeated values).\n",
        "Those views have some interesting consequences in terms of the operations available on `Index` objects.\n",
        "As a simple example, let's construct an `Index` from a list of integers:"
      ]
    },
    {
      "cell_type": "code",
      "execution_count": null,
      "metadata": {
        "id": "t12cQx2nzJDZ",
        "jupyter": {
          "outputs_hidden": false
        },
        "outputId": "61a2cbea-9c71-43be-d56f-8f790d66ce01"
      },
      "outputs": [
        {
          "data": {
            "text/plain": [
              "Int64Index([2, 3, 5, 7, 11], dtype='int64')"
            ]
          },
          "execution_count": 30,
          "metadata": {},
          "output_type": "execute_result"
        }
      ],
      "source": [
        "ind = pd.Index([2, 3, 5, 7, 11])\n",
        "ind"
      ]
    },
    {
      "cell_type": "markdown",
      "metadata": {
        "id": "eDRa9t-7zJDb"
      },
      "source": [
        "### Index as Ordered Set\n",
        "\n",
        "Pandas objects are designed to facilitate operations such as joins across datasets, which depend on many aspects of set arithmetic.\n",
        "The `Index` object follows many of the conventions used by Python's built-in `set` data structure, so that unions, intersections, differences, and other combinations can be computed in a familiar way:"
      ]
    },
    {
      "cell_type": "code",
      "execution_count": null,
      "metadata": {
        "id": "A4P_57WBzJDb",
        "jupyter": {
          "outputs_hidden": false
        }
      },
      "outputs": [],
      "source": [
        "indA = pd.Index([1, 3, 5, 7, 9])\n",
        "indB = pd.Index([2, 3, 5, 7, 11])"
      ]
    },
    {
      "cell_type": "code",
      "execution_count": null,
      "metadata": {
        "id": "0-zbeVN5zJDb",
        "jupyter": {
          "outputs_hidden": false
        },
        "outputId": "adeb9c59-4128-480d-da0f-c7c0e101c251"
      },
      "outputs": [
        {
          "data": {
            "text/plain": [
              "Int64Index([3, 5, 7], dtype='int64')"
            ]
          },
          "execution_count": 36,
          "metadata": {},
          "output_type": "execute_result"
        }
      ],
      "source": [
        "indA.intersection(indB)"
      ]
    },
    {
      "cell_type": "code",
      "execution_count": null,
      "metadata": {
        "id": "JdJimpBHzJDb",
        "jupyter": {
          "outputs_hidden": false
        },
        "outputId": "4fe2fbc1-33fc-456e-86cf-875d317d4a69"
      },
      "outputs": [
        {
          "data": {
            "text/plain": [
              "Int64Index([1, 2, 3, 5, 7, 9, 11], dtype='int64')"
            ]
          },
          "execution_count": 37,
          "metadata": {},
          "output_type": "execute_result"
        }
      ],
      "source": [
        "indA.union(indB)"
      ]
    },
    {
      "cell_type": "code",
      "execution_count": null,
      "metadata": {
        "id": "uRqicbDhzJDb",
        "jupyter": {
          "outputs_hidden": false
        },
        "outputId": "8d126cd2-c40f-40a7-a3e4-a300c43a733b"
      },
      "outputs": [
        {
          "data": {
            "text/plain": [
              "Int64Index([1, 2, 9, 11], dtype='int64')"
            ]
          },
          "execution_count": 38,
          "metadata": {},
          "output_type": "execute_result"
        }
      ],
      "source": [
        "indA.symmetric_difference(indB)"
      ]
    },
    {
      "cell_type": "markdown",
      "metadata": {
        "id": "U5hVKeIlzheL"
      },
      "source": [
        "# Data Indexing and Selection"
      ]
    },
    {
      "cell_type": "markdown",
      "metadata": {
        "id": "_Q2I2IYbzheN"
      },
      "source": [
        "In [Part 2](02.00-Introduction-to-NumPy.ipynb), we looked in detail at methods and tools to access, set, and modify values in NumPy arrays.\n",
        "These included indexing (e.g., `arr[2, 1]`), slicing (e.g., `arr[:, 1:5]`), masking (e.g., `arr[arr > 0]`), fancy indexing (e.g., `arr[0, [1, 5]]`), and combinations thereof (e.g., `arr[:, [1, 5]]`).\n",
        "Here we'll look at similar means of accessing and modifying values in Pandas `Series` and `DataFrame` objects.\n",
        "If you have used the NumPy patterns, the corresponding patterns in Pandas will feel very familiar, though there are a few quirks to be aware of.\n",
        "\n",
        "We'll start with the simple case of the one-dimensional `Series` object, and then move on to the more complicated two-dimensional `DataFrame` object."
      ]
    },
    {
      "cell_type": "markdown",
      "metadata": {
        "id": "zQz3numazheN"
      },
      "source": [
        "## Data Selection in Series\n",
        "\n",
        "As you saw in the previous chapter, a `Series` object acts in many ways like a one-dimensional NumPy array, and in many ways like a standard Python dictionary.\n",
        "If you keep these two overlapping analogies in mind, it will help you understand the patterns of data indexing and selection in these arrays."
      ]
    },
    {
      "cell_type": "markdown",
      "metadata": {
        "id": "UWJbYKBTzheO"
      },
      "source": [
        "### Series as Dictionary\n",
        "\n",
        "Like a dictionary, the `Series` object provides a mapping from a collection of keys to a collection of values:"
      ]
    },
    {
      "cell_type": "code",
      "execution_count": null,
      "metadata": {
        "id": "UqH4x-D-zheO",
        "jupyter": {
          "outputs_hidden": false
        },
        "outputId": "b63db573-3b3e-4c12-a41b-32a9c477a3e0"
      },
      "outputs": [
        {
          "data": {
            "text/plain": [
              "a    0.25\n",
              "b    0.50\n",
              "c    0.75\n",
              "d    1.00\n",
              "dtype: float64"
            ]
          },
          "execution_count": 1,
          "metadata": {},
          "output_type": "execute_result"
        }
      ],
      "source": [
        "import pandas as pd\n",
        "data = pd.Series([0.25, 0.5, 0.75, 1.0],\n",
        "                 index=['a', 'b', 'c', 'd'])\n",
        "data"
      ]
    },
    {
      "cell_type": "code",
      "execution_count": null,
      "metadata": {
        "id": "pTKdZNxxzheQ",
        "jupyter": {
          "outputs_hidden": false
        },
        "outputId": "cff8ccb5-ed42-49d5-98e2-8664900e517b"
      },
      "outputs": [
        {
          "data": {
            "text/plain": [
              "0.5"
            ]
          },
          "execution_count": 2,
          "metadata": {},
          "output_type": "execute_result"
        }
      ],
      "source": [
        "data['b']"
      ]
    },
    {
      "cell_type": "markdown",
      "metadata": {
        "id": "vo3hvkakzheQ"
      },
      "source": [
        "We can also use dictionary-like Python expressions and methods to examine the keys/indices and values:"
      ]
    },
    {
      "cell_type": "code",
      "execution_count": null,
      "metadata": {
        "id": "gJmaA2eTzheQ",
        "jupyter": {
          "outputs_hidden": false
        },
        "outputId": "ae16e28d-8e47-4f32-fe64-db5ce30e16aa"
      },
      "outputs": [
        {
          "data": {
            "text/plain": [
              "True"
            ]
          },
          "execution_count": 3,
          "metadata": {},
          "output_type": "execute_result"
        }
      ],
      "source": [
        "'a' in data"
      ]
    },
    {
      "cell_type": "code",
      "execution_count": null,
      "metadata": {
        "id": "4LMWjs5EzheR",
        "jupyter": {
          "outputs_hidden": false
        },
        "outputId": "0726bf7c-95fa-450b-de8c-7659aac3ed01"
      },
      "outputs": [
        {
          "data": {
            "text/plain": [
              "Index(['a', 'b', 'c', 'd'], dtype='object')"
            ]
          },
          "execution_count": 4,
          "metadata": {},
          "output_type": "execute_result"
        }
      ],
      "source": [
        "data.keys()"
      ]
    },
    {
      "cell_type": "code",
      "execution_count": null,
      "metadata": {
        "id": "nNg5Qc8mzheR",
        "jupyter": {
          "outputs_hidden": false
        },
        "outputId": "3680bb55-73a1-49a8-9158-783f36d9dadd"
      },
      "outputs": [
        {
          "data": {
            "text/plain": [
              "[('a', 0.25), ('b', 0.5), ('c', 0.75), ('d', 1.0)]"
            ]
          },
          "execution_count": 5,
          "metadata": {},
          "output_type": "execute_result"
        }
      ],
      "source": [
        "list(data.items())"
      ]
    },
    {
      "cell_type": "markdown",
      "metadata": {
        "id": "hbHzRIAazheS"
      },
      "source": [
        "`Series` objects can also be modified with a dictionary-like syntax.\n",
        "Just as you can extend a dictionary by assigning to a new key, you can extend a `Series` by assigning to a new index value:"
      ]
    },
    {
      "cell_type": "code",
      "execution_count": null,
      "metadata": {
        "id": "ACe9X5ZRzheS",
        "jupyter": {
          "outputs_hidden": false
        },
        "outputId": "373654fd-8964-40b0-d5cb-4cc5618900bc"
      },
      "outputs": [
        {
          "data": {
            "text/plain": [
              "a    0.25\n",
              "b    0.50\n",
              "c    0.75\n",
              "d    1.00\n",
              "e    1.25\n",
              "dtype: float64"
            ]
          },
          "execution_count": 6,
          "metadata": {},
          "output_type": "execute_result"
        }
      ],
      "source": [
        "data['e'] = 1.25\n",
        "data"
      ]
    },
    {
      "cell_type": "markdown",
      "metadata": {
        "id": "iqOdQtJlzheS"
      },
      "source": [
        "This easy mutability of the objects is a convenient feature: under the hood, Pandas is making decisions about memory layout and data copying that might need to take place, and the user generally does not need to worry about these issues."
      ]
    },
    {
      "cell_type": "markdown",
      "metadata": {
        "id": "nXYZ6bF_zheS"
      },
      "source": [
        "### Series as One-Dimensional Array"
      ]
    },
    {
      "cell_type": "markdown",
      "metadata": {
        "id": "geazt9IAzheT"
      },
      "source": [
        "A `Series` builds on this dictionary-like interface and provides array-style item selection via the same basic mechanisms as NumPy arrays—that is, slices, masking, and fancy indexing.\n",
        "Examples of these are as follows:"
      ]
    },
    {
      "cell_type": "code",
      "execution_count": null,
      "metadata": {
        "id": "cLynRvl4zheT",
        "jupyter": {
          "outputs_hidden": false
        },
        "outputId": "d3c8e50e-91d8-41b8-fcd9-bb47d3f2a410"
      },
      "outputs": [
        {
          "data": {
            "text/plain": [
              "a    0.25\n",
              "b    0.50\n",
              "c    0.75\n",
              "dtype: float64"
            ]
          },
          "execution_count": 7,
          "metadata": {},
          "output_type": "execute_result"
        }
      ],
      "source": [
        "# slicing by explicit index\n",
        "data['a':'c']"
      ]
    },
    {
      "cell_type": "code",
      "execution_count": null,
      "metadata": {
        "id": "mQ6CCyfDzheT",
        "jupyter": {
          "outputs_hidden": false
        },
        "outputId": "16688e6d-f02c-49e0-a2de-d2793556b6a3"
      },
      "outputs": [
        {
          "data": {
            "text/plain": [
              "a    0.25\n",
              "b    0.50\n",
              "dtype: float64"
            ]
          },
          "execution_count": 8,
          "metadata": {},
          "output_type": "execute_result"
        }
      ],
      "source": [
        "# slicing by implicit integer index\n",
        "data[0:2]"
      ]
    },
    {
      "cell_type": "code",
      "execution_count": null,
      "metadata": {
        "id": "Tw8TbdT9zheU",
        "jupyter": {
          "outputs_hidden": false
        },
        "outputId": "d219d09d-8561-4025-ebd3-2cc6ce8facd8"
      },
      "outputs": [
        {
          "data": {
            "text/plain": [
              "b    0.50\n",
              "c    0.75\n",
              "dtype: float64"
            ]
          },
          "execution_count": 9,
          "metadata": {},
          "output_type": "execute_result"
        }
      ],
      "source": [
        "# masking\n",
        "data[(data > 0.3) & (data < 0.8)]"
      ]
    },
    {
      "cell_type": "code",
      "execution_count": null,
      "metadata": {
        "id": "WMIQKiUWzheU",
        "jupyter": {
          "outputs_hidden": false
        },
        "outputId": "7a63ffa4-7089-4230-ee07-f3713058e215"
      },
      "outputs": [
        {
          "data": {
            "text/plain": [
              "a    0.25\n",
              "e    1.25\n",
              "dtype: float64"
            ]
          },
          "execution_count": 10,
          "metadata": {},
          "output_type": "execute_result"
        }
      ],
      "source": [
        "# fancy indexing\n",
        "data[['a', 'e']]"
      ]
    },
    {
      "cell_type": "markdown",
      "metadata": {
        "id": "5eV_iJ3VzheV"
      },
      "source": [
        "Of these, slicing may be the source of the most confusion.\n",
        "Notice that when slicing with an explicit index (e.g., `data['a':'c']`), the final index is *included* in the slice, while when slicing with an implicit index (e.g., `data[0:2]`), the final index is *excluded* from the slice."
      ]
    },
    {
      "cell_type": "markdown",
      "metadata": {
        "id": "5ZDE2m28zheY"
      },
      "source": [
        "## Data Selection in DataFrames\n",
        "\n",
        "Recall that a `DataFrame` acts in many ways like a two-dimensional or structured array, and in other ways like a dictionary of `Series` structures sharing the same index.\n",
        "These analogies can be helpful to keep in mind as we explore data selection within this structure."
      ]
    },
    {
      "cell_type": "markdown",
      "metadata": {
        "id": "3Ke4fIVtzheY"
      },
      "source": [
        "### DataFrame as Dictionary\n",
        "\n",
        "The first analogy we will consider is the `DataFrame` as a dictionary of related `Series` objects.\n",
        "Let's return to our example of areas and populations of states:"
      ]
    },
    {
      "cell_type": "code",
      "execution_count": null,
      "metadata": {
        "id": "fF3CRQqqzheZ",
        "jupyter": {
          "outputs_hidden": false
        },
        "outputId": "9bb82657-f56a-4072-e285-89d39238bfe8"
      },
      "outputs": [
        {
          "data": {
            "text/html": [
              "<div>\n",
              "<style scoped>\n",
              "    .dataframe tbody tr th:only-of-type {\n",
              "        vertical-align: middle;\n",
              "    }\n",
              "\n",
              "    .dataframe tbody tr th {\n",
              "        vertical-align: top;\n",
              "    }\n",
              "\n",
              "    .dataframe thead th {\n",
              "        text-align: right;\n",
              "    }\n",
              "</style>\n",
              "<table border=\"1\" class=\"dataframe\">\n",
              "  <thead>\n",
              "    <tr style=\"text-align: right;\">\n",
              "      <th></th>\n",
              "      <th>area</th>\n",
              "      <th>pop</th>\n",
              "    </tr>\n",
              "  </thead>\n",
              "  <tbody>\n",
              "    <tr>\n",
              "      <th>California</th>\n",
              "      <td>423967</td>\n",
              "      <td>39538223</td>\n",
              "    </tr>\n",
              "    <tr>\n",
              "      <th>Texas</th>\n",
              "      <td>695662</td>\n",
              "      <td>29145505</td>\n",
              "    </tr>\n",
              "    <tr>\n",
              "      <th>Florida</th>\n",
              "      <td>170312</td>\n",
              "      <td>21538187</td>\n",
              "    </tr>\n",
              "    <tr>\n",
              "      <th>New York</th>\n",
              "      <td>141297</td>\n",
              "      <td>20201249</td>\n",
              "    </tr>\n",
              "    <tr>\n",
              "      <th>Pennsylvania</th>\n",
              "      <td>119280</td>\n",
              "      <td>13002700</td>\n",
              "    </tr>\n",
              "  </tbody>\n",
              "</table>\n",
              "</div>"
            ],
            "text/plain": [
              "                area       pop\n",
              "California    423967  39538223\n",
              "Texas         695662  29145505\n",
              "Florida       170312  21538187\n",
              "New York      141297  20201249\n",
              "Pennsylvania  119280  13002700"
            ]
          },
          "execution_count": 18,
          "metadata": {},
          "output_type": "execute_result"
        }
      ],
      "source": [
        "area = pd.Series({'California': 423967, 'Texas': 695662,\n",
        "                  'Florida': 170312, 'New York': 141297,\n",
        "                  'Pennsylvania': 119280})\n",
        "pop = pd.Series({'California': 39538223, 'Texas': 29145505,\n",
        "                 'Florida': 21538187, 'New York': 20201249,\n",
        "                 'Pennsylvania': 13002700})\n",
        "data = pd.DataFrame({'area':area, 'pop':pop})\n",
        "data"
      ]
    },
    {
      "cell_type": "markdown",
      "metadata": {
        "id": "XUBxab2-zheZ"
      },
      "source": [
        "The individual `Series` that make up the columns of the `DataFrame` can be accessed via dictionary-style indexing of the column name:"
      ]
    },
    {
      "cell_type": "code",
      "execution_count": null,
      "metadata": {
        "id": "o8WBeQcozheZ",
        "jupyter": {
          "outputs_hidden": false
        },
        "outputId": "7f8dee23-6d7e-4c4b-f072-7d42c529126c"
      },
      "outputs": [
        {
          "data": {
            "text/plain": [
              "California      423967\n",
              "Texas           695662\n",
              "Florida         170312\n",
              "New York        141297\n",
              "Pennsylvania    119280\n",
              "Name: area, dtype: int64"
            ]
          },
          "execution_count": 19,
          "metadata": {},
          "output_type": "execute_result"
        }
      ],
      "source": [
        "data['area']"
      ]
    },
    {
      "cell_type": "markdown",
      "metadata": {
        "id": "KgAoOK4tzheZ"
      },
      "source": [
        "Equivalently, we can use attribute-style access with column names that are strings:"
      ]
    },
    {
      "cell_type": "code",
      "execution_count": null,
      "metadata": {
        "id": "aayKLmNszheZ",
        "jupyter": {
          "outputs_hidden": false
        },
        "outputId": "6084f0a1-5142-4277-d05d-151554d31dac"
      },
      "outputs": [
        {
          "data": {
            "text/plain": [
              "California      423967\n",
              "Texas           695662\n",
              "Florida         170312\n",
              "New York        141297\n",
              "Pennsylvania    119280\n",
              "Name: area, dtype: int64"
            ]
          },
          "execution_count": 20,
          "metadata": {},
          "output_type": "execute_result"
        }
      ],
      "source": [
        "data.area"
      ]
    },
    {
      "cell_type": "markdown",
      "metadata": {
        "id": "X-gb97xQzheZ"
      },
      "source": [
        "Though this is a useful shorthand, keep in mind that it does not work for all cases!\n",
        "For example, if the column names are not strings, or if the column names conflict with methods of the `DataFrame`, this attribute-style access is not possible.\n",
        "For example, the `DataFrame` has a `pop` method, so `data.pop` will point to this rather than the `pop` column:"
      ]
    },
    {
      "cell_type": "code",
      "execution_count": null,
      "metadata": {
        "id": "uR0GGEy0zhea",
        "jupyter": {
          "outputs_hidden": false
        },
        "outputId": "98f8458a-3faa-4f63-d132-c40671c82242"
      },
      "outputs": [
        {
          "data": {
            "text/plain": [
              "False"
            ]
          },
          "execution_count": 21,
          "metadata": {},
          "output_type": "execute_result"
        }
      ],
      "source": [
        "data.pop is data[\"pop\"]"
      ]
    },
    {
      "cell_type": "markdown",
      "metadata": {
        "id": "v_YHWCdAzhea"
      },
      "source": [
        "In particular, you should avoid the temptation to try column assignment via attributes (i.e., use `data['pop'] = z` rather than `data.pop = z`).\n",
        "\n",
        "Like with the `Series` objects discussed earlier, this dictionary-style syntax can also be used to modify the object, in this case adding a new column:"
      ]
    },
    {
      "cell_type": "code",
      "execution_count": null,
      "metadata": {
        "id": "Hysip-Kizhea",
        "jupyter": {
          "outputs_hidden": false
        },
        "outputId": "ce8ce22a-822b-4814-9e6e-7ea441a88f01"
      },
      "outputs": [
        {
          "data": {
            "text/html": [
              "<div>\n",
              "<style scoped>\n",
              "    .dataframe tbody tr th:only-of-type {\n",
              "        vertical-align: middle;\n",
              "    }\n",
              "\n",
              "    .dataframe tbody tr th {\n",
              "        vertical-align: top;\n",
              "    }\n",
              "\n",
              "    .dataframe thead th {\n",
              "        text-align: right;\n",
              "    }\n",
              "</style>\n",
              "<table border=\"1\" class=\"dataframe\">\n",
              "  <thead>\n",
              "    <tr style=\"text-align: right;\">\n",
              "      <th></th>\n",
              "      <th>area</th>\n",
              "      <th>pop</th>\n",
              "      <th>density</th>\n",
              "    </tr>\n",
              "  </thead>\n",
              "  <tbody>\n",
              "    <tr>\n",
              "      <th>California</th>\n",
              "      <td>423967</td>\n",
              "      <td>39538223</td>\n",
              "      <td>93.257784</td>\n",
              "    </tr>\n",
              "    <tr>\n",
              "      <th>Texas</th>\n",
              "      <td>695662</td>\n",
              "      <td>29145505</td>\n",
              "      <td>41.896072</td>\n",
              "    </tr>\n",
              "    <tr>\n",
              "      <th>Florida</th>\n",
              "      <td>170312</td>\n",
              "      <td>21538187</td>\n",
              "      <td>126.463121</td>\n",
              "    </tr>\n",
              "    <tr>\n",
              "      <th>New York</th>\n",
              "      <td>141297</td>\n",
              "      <td>20201249</td>\n",
              "      <td>142.970120</td>\n",
              "    </tr>\n",
              "    <tr>\n",
              "      <th>Pennsylvania</th>\n",
              "      <td>119280</td>\n",
              "      <td>13002700</td>\n",
              "      <td>109.009893</td>\n",
              "    </tr>\n",
              "  </tbody>\n",
              "</table>\n",
              "</div>"
            ],
            "text/plain": [
              "                area       pop     density\n",
              "California    423967  39538223   93.257784\n",
              "Texas         695662  29145505   41.896072\n",
              "Florida       170312  21538187  126.463121\n",
              "New York      141297  20201249  142.970120\n",
              "Pennsylvania  119280  13002700  109.009893"
            ]
          },
          "execution_count": 22,
          "metadata": {},
          "output_type": "execute_result"
        }
      ],
      "source": [
        "data['density'] = data['pop'] / data['area']\n",
        "data"
      ]
    },
    {
      "cell_type": "markdown",
      "metadata": {
        "id": "ZCJ-EEnezheb"
      },
      "source": [
        "This shows a preview of the straightforward syntax of element-by-element arithmetic between `Series` objects; we'll dig into this further in [Operating on Data in Pandas](03.03-Operations-in-Pandas.ipynb)."
      ]
    },
    {
      "cell_type": "markdown",
      "metadata": {
        "id": "_55qzr_qzheb"
      },
      "source": [
        "### DataFrame as Two-Dimensional Array\n",
        "\n",
        "As mentioned previously, we can also view the `DataFrame` as an enhanced two-dimensional array.\n",
        "We can examine the raw underlying data array using the `values` attribute:"
      ]
    },
    {
      "cell_type": "code",
      "execution_count": null,
      "metadata": {
        "id": "wGPYhAF1zheb",
        "jupyter": {
          "outputs_hidden": false
        },
        "outputId": "e02a7c43-6652-4420-e9e4-42c4170e7b7f"
      },
      "outputs": [
        {
          "data": {
            "text/plain": [
              "array([[4.23967000e+05, 3.95382230e+07, 9.32577842e+01],\n",
              "       [6.95662000e+05, 2.91455050e+07, 4.18960717e+01],\n",
              "       [1.70312000e+05, 2.15381870e+07, 1.26463121e+02],\n",
              "       [1.41297000e+05, 2.02012490e+07, 1.42970120e+02],\n",
              "       [1.19280000e+05, 1.30027000e+07, 1.09009893e+02]])"
            ]
          },
          "execution_count": 23,
          "metadata": {},
          "output_type": "execute_result"
        }
      ],
      "source": [
        "data.values"
      ]
    },
    {
      "cell_type": "markdown",
      "metadata": {
        "id": "M_psbrcdzheb"
      },
      "source": [
        "With this picture in mind, many familiar array-like operations can be done on the `DataFrame` itself.\n",
        "For example, we can transpose the full `DataFrame` to swap rows and columns:"
      ]
    },
    {
      "cell_type": "code",
      "execution_count": null,
      "metadata": {
        "id": "UTNVzL5-zheb",
        "jupyter": {
          "outputs_hidden": false
        },
        "outputId": "bf78005a-72c3-4dec-d07e-d76779a791e2"
      },
      "outputs": [
        {
          "data": {
            "text/html": [
              "<div>\n",
              "<style scoped>\n",
              "    .dataframe tbody tr th:only-of-type {\n",
              "        vertical-align: middle;\n",
              "    }\n",
              "\n",
              "    .dataframe tbody tr th {\n",
              "        vertical-align: top;\n",
              "    }\n",
              "\n",
              "    .dataframe thead th {\n",
              "        text-align: right;\n",
              "    }\n",
              "</style>\n",
              "<table border=\"1\" class=\"dataframe\">\n",
              "  <thead>\n",
              "    <tr style=\"text-align: right;\">\n",
              "      <th></th>\n",
              "      <th>California</th>\n",
              "      <th>Texas</th>\n",
              "      <th>Florida</th>\n",
              "      <th>New York</th>\n",
              "      <th>Pennsylvania</th>\n",
              "    </tr>\n",
              "  </thead>\n",
              "  <tbody>\n",
              "    <tr>\n",
              "      <th>area</th>\n",
              "      <td>4.239670e+05</td>\n",
              "      <td>6.956620e+05</td>\n",
              "      <td>1.703120e+05</td>\n",
              "      <td>1.412970e+05</td>\n",
              "      <td>1.192800e+05</td>\n",
              "    </tr>\n",
              "    <tr>\n",
              "      <th>pop</th>\n",
              "      <td>3.953822e+07</td>\n",
              "      <td>2.914550e+07</td>\n",
              "      <td>2.153819e+07</td>\n",
              "      <td>2.020125e+07</td>\n",
              "      <td>1.300270e+07</td>\n",
              "    </tr>\n",
              "    <tr>\n",
              "      <th>density</th>\n",
              "      <td>9.325778e+01</td>\n",
              "      <td>4.189607e+01</td>\n",
              "      <td>1.264631e+02</td>\n",
              "      <td>1.429701e+02</td>\n",
              "      <td>1.090099e+02</td>\n",
              "    </tr>\n",
              "  </tbody>\n",
              "</table>\n",
              "</div>"
            ],
            "text/plain": [
              "           California         Texas       Florida      New York  Pennsylvania\n",
              "area     4.239670e+05  6.956620e+05  1.703120e+05  1.412970e+05  1.192800e+05\n",
              "pop      3.953822e+07  2.914550e+07  2.153819e+07  2.020125e+07  1.300270e+07\n",
              "density  9.325778e+01  4.189607e+01  1.264631e+02  1.429701e+02  1.090099e+02"
            ]
          },
          "execution_count": 24,
          "metadata": {},
          "output_type": "execute_result"
        }
      ],
      "source": [
        "data.T"
      ]
    },
    {
      "cell_type": "markdown",
      "metadata": {
        "id": "ul6avTPozhec"
      },
      "source": [
        "When it comes to indexing of a `DataFrame` object, however, it is clear that the dictionary-style indexing of columns precludes our ability to simply treat it as a NumPy array.\n",
        "In particular, passing a single index to an array accesses a row:"
      ]
    },
    {
      "cell_type": "code",
      "execution_count": null,
      "metadata": {
        "id": "dMVgsmejzhec",
        "jupyter": {
          "outputs_hidden": false
        },
        "outputId": "31a8f18f-7054-414f-9bb4-417703480cad"
      },
      "outputs": [
        {
          "data": {
            "text/plain": [
              "array([4.23967000e+05, 3.95382230e+07, 9.32577842e+01])"
            ]
          },
          "execution_count": 25,
          "metadata": {},
          "output_type": "execute_result"
        }
      ],
      "source": [
        "data.values[0]"
      ]
    },
    {
      "cell_type": "markdown",
      "metadata": {
        "id": "-hsPV0mnzhec"
      },
      "source": [
        "and passing a single \"index\" to a `DataFrame` accesses a column:"
      ]
    },
    {
      "cell_type": "code",
      "execution_count": null,
      "metadata": {
        "id": "Vy96k1xpzhec",
        "jupyter": {
          "outputs_hidden": false
        },
        "outputId": "9cc61771-2130-472a-9a48-bde2a28c3b01"
      },
      "outputs": [
        {
          "data": {
            "text/plain": [
              "California      423967\n",
              "Texas           695662\n",
              "Florida         170312\n",
              "New York        141297\n",
              "Pennsylvania    119280\n",
              "Name: area, dtype: int64"
            ]
          },
          "execution_count": 26,
          "metadata": {},
          "output_type": "execute_result"
        }
      ],
      "source": [
        "data['area']"
      ]
    },
    {
      "cell_type": "markdown",
      "metadata": {
        "id": "FurO6yEqzzL8"
      },
      "source": [
        "# Operating on Data in Pandas"
      ]
    },
    {
      "cell_type": "markdown",
      "metadata": {
        "id": "nwqBZbI3zzMM"
      },
      "source": [
        "One of the strengths of NumPy is that it allows us to perform quick element-wise operations, both with basic arithmetic (addition, subtraction, multiplication, etc.) and with more complicated operations (trigonometric functions, exponential and logarithmic functions, etc.).\n",
        "Pandas inherits much of this functionality from NumPy, and the ufuncs introduced in [Computation on NumPy Arrays: Universal Functions](02.03-Computation-on-arrays-ufuncs.ipynb) are key to this.\n",
        "\n",
        "Pandas includes a couple of useful twists, however: for unary operations like negation and trigonometric functions, these ufuncs will *preserve index and column labels* in the output, and for binary operations such as addition and multiplication, Pandas will automatically *align indices* when passing the objects to the ufunc.\n",
        "This means that keeping the context of data and combining data from different sources—both potentially error-prone tasks with raw NumPy arrays—become essentially foolproof with Pandas.\n",
        "We will additionally see that there are well-defined operations between one-dimensional `Series` structures and two-dimensional `DataFrame` structures."
      ]
    },
    {
      "cell_type": "markdown",
      "metadata": {
        "id": "x-cdrJzuzzMO"
      },
      "source": [
        "## Ufuncs: Index Preservation\n",
        "\n",
        "Because Pandas is designed to work with NumPy, any NumPy ufunc will work on Pandas `Series` and `DataFrame` objects.\n",
        "Let's start by defining a simple `Series` and `DataFrame` on which to demonstrate this:"
      ]
    },
    {
      "cell_type": "code",
      "execution_count": null,
      "metadata": {
        "id": "dVh0EQ14zzMO",
        "tags": []
      },
      "outputs": [],
      "source": [
        "import pandas as pd\n",
        "import numpy as np"
      ]
    },
    {
      "cell_type": "code",
      "execution_count": null,
      "metadata": {
        "id": "soc6H6UAzzMR",
        "jupyter": {
          "outputs_hidden": false
        },
        "outputId": "237a8ab0-6fe5-4602-f443-587e7bf5a6d7"
      },
      "outputs": [
        {
          "data": {
            "text/plain": [
              "0    0\n",
              "1    7\n",
              "2    6\n",
              "3    4\n",
              "dtype: int64"
            ]
          },
          "execution_count": 2,
          "metadata": {},
          "output_type": "execute_result"
        }
      ],
      "source": [
        "rng = np.random.default_rng(42)\n",
        "ser = pd.Series(rng.integers(0, 10, 4))\n",
        "ser"
      ]
    },
    {
      "cell_type": "code",
      "execution_count": null,
      "metadata": {
        "id": "lwp96-jXzzMd",
        "jupyter": {
          "outputs_hidden": false
        },
        "outputId": "73a37b1d-c3b2-47d3-e8a8-40a8288bbc74"
      },
      "outputs": [
        {
          "data": {
            "text/html": [
              "<div>\n",
              "<style scoped>\n",
              "    .dataframe tbody tr th:only-of-type {\n",
              "        vertical-align: middle;\n",
              "    }\n",
              "\n",
              "    .dataframe tbody tr th {\n",
              "        vertical-align: top;\n",
              "    }\n",
              "\n",
              "    .dataframe thead th {\n",
              "        text-align: right;\n",
              "    }\n",
              "</style>\n",
              "<table border=\"1\" class=\"dataframe\">\n",
              "  <thead>\n",
              "    <tr style=\"text-align: right;\">\n",
              "      <th></th>\n",
              "      <th>A</th>\n",
              "      <th>B</th>\n",
              "      <th>C</th>\n",
              "      <th>D</th>\n",
              "    </tr>\n",
              "  </thead>\n",
              "  <tbody>\n",
              "    <tr>\n",
              "      <th>0</th>\n",
              "      <td>4</td>\n",
              "      <td>8</td>\n",
              "      <td>0</td>\n",
              "      <td>6</td>\n",
              "    </tr>\n",
              "    <tr>\n",
              "      <th>1</th>\n",
              "      <td>2</td>\n",
              "      <td>0</td>\n",
              "      <td>5</td>\n",
              "      <td>9</td>\n",
              "    </tr>\n",
              "    <tr>\n",
              "      <th>2</th>\n",
              "      <td>7</td>\n",
              "      <td>7</td>\n",
              "      <td>7</td>\n",
              "      <td>7</td>\n",
              "    </tr>\n",
              "  </tbody>\n",
              "</table>\n",
              "</div>"
            ],
            "text/plain": [
              "   A  B  C  D\n",
              "0  4  8  0  6\n",
              "1  2  0  5  9\n",
              "2  7  7  7  7"
            ]
          },
          "execution_count": 3,
          "metadata": {},
          "output_type": "execute_result"
        }
      ],
      "source": [
        "df = pd.DataFrame(rng.integers(0, 10, (3, 4)),\n",
        "                  columns=['A', 'B', 'C', 'D'])\n",
        "df"
      ]
    },
    {
      "cell_type": "markdown",
      "metadata": {
        "id": "rlKpBcFfzzMe"
      },
      "source": [
        "If we apply a NumPy ufunc on either of these objects, the result will be another Pandas object *with the indices preserved:*"
      ]
    },
    {
      "cell_type": "code",
      "execution_count": null,
      "metadata": {
        "id": "2VFfTaKozzMf",
        "jupyter": {
          "outputs_hidden": false
        },
        "outputId": "8050e559-788e-407b-de8c-72d2345437d3"
      },
      "outputs": [
        {
          "data": {
            "text/plain": [
              "0       1.000000\n",
              "1    1096.633158\n",
              "2     403.428793\n",
              "3      54.598150\n",
              "dtype: float64"
            ]
          },
          "execution_count": 4,
          "metadata": {},
          "output_type": "execute_result"
        }
      ],
      "source": [
        "np.exp(ser)"
      ]
    },
    {
      "cell_type": "markdown",
      "metadata": {
        "id": "fEsRxmvHzzMf"
      },
      "source": [
        "This is true also for more involved sequences of operations:"
      ]
    },
    {
      "cell_type": "code",
      "execution_count": null,
      "metadata": {
        "id": "9z0NmMjkzzMg",
        "jupyter": {
          "outputs_hidden": false
        },
        "outputId": "bd0b87f5-4977-4c71-e795-3b2c2598aad6"
      },
      "outputs": [
        {
          "data": {
            "text/html": [
              "<div>\n",
              "<style scoped>\n",
              "    .dataframe tbody tr th:only-of-type {\n",
              "        vertical-align: middle;\n",
              "    }\n",
              "\n",
              "    .dataframe tbody tr th {\n",
              "        vertical-align: top;\n",
              "    }\n",
              "\n",
              "    .dataframe thead th {\n",
              "        text-align: right;\n",
              "    }\n",
              "</style>\n",
              "<table border=\"1\" class=\"dataframe\">\n",
              "  <thead>\n",
              "    <tr style=\"text-align: right;\">\n",
              "      <th></th>\n",
              "      <th>A</th>\n",
              "      <th>B</th>\n",
              "      <th>C</th>\n",
              "      <th>D</th>\n",
              "    </tr>\n",
              "  </thead>\n",
              "  <tbody>\n",
              "    <tr>\n",
              "      <th>0</th>\n",
              "      <td>1.224647e-16</td>\n",
              "      <td>-2.449294e-16</td>\n",
              "      <td>0.000000</td>\n",
              "      <td>-1.000000</td>\n",
              "    </tr>\n",
              "    <tr>\n",
              "      <th>1</th>\n",
              "      <td>1.000000e+00</td>\n",
              "      <td>0.000000e+00</td>\n",
              "      <td>-0.707107</td>\n",
              "      <td>0.707107</td>\n",
              "    </tr>\n",
              "    <tr>\n",
              "      <th>2</th>\n",
              "      <td>-7.071068e-01</td>\n",
              "      <td>-7.071068e-01</td>\n",
              "      <td>-0.707107</td>\n",
              "      <td>-0.707107</td>\n",
              "    </tr>\n",
              "  </tbody>\n",
              "</table>\n",
              "</div>"
            ],
            "text/plain": [
              "              A             B         C         D\n",
              "0  1.224647e-16 -2.449294e-16  0.000000 -1.000000\n",
              "1  1.000000e+00  0.000000e+00 -0.707107  0.707107\n",
              "2 -7.071068e-01 -7.071068e-01 -0.707107 -0.707107"
            ]
          },
          "execution_count": 5,
          "metadata": {},
          "output_type": "execute_result"
        }
      ],
      "source": [
        "np.sin(df * np.pi / 4)"
      ]
    },
    {
      "cell_type": "markdown",
      "metadata": {
        "id": "ghKDyU15zzMg"
      },
      "source": [
        "Any of the ufuncs discussed in [Computation on NumPy Arrays: Universal Functions](02.03-Computation-on-arrays-ufuncs.ipynb) can be used in a similar manner."
      ]
    },
    {
      "cell_type": "markdown",
      "metadata": {
        "id": "FqNYqCj4zzMh"
      },
      "source": [
        "## Ufuncs: Index Alignment\n",
        "\n",
        "For binary operations on two `Series` or `DataFrame` objects, Pandas will align indices in the process of performing the operation.\n",
        "This is very convenient when working with incomplete data, as we'll see in some of the examples that follow."
      ]
    },
    {
      "cell_type": "markdown",
      "metadata": {
        "id": "Gp_j2q4EzzMh"
      },
      "source": [
        "### Index Alignment in Series\n",
        "\n",
        "As an example, suppose we are combining two different data sources and wish to find only the top three US states by *area* and the top three US states by *population*:"
      ]
    },
    {
      "cell_type": "code",
      "execution_count": null,
      "metadata": {
        "id": "h1v1T0K6zzMh",
        "jupyter": {
          "outputs_hidden": false
        }
      },
      "outputs": [],
      "source": [
        "area = pd.Series({'Alaska': 1723337, 'Texas': 695662,\n",
        "                  'California': 423967}, name='area')\n",
        "population = pd.Series({'California': 39538223, 'Texas': 29145505,\n",
        "                        'Florida': 21538187}, name='population')"
      ]
    },
    {
      "cell_type": "markdown",
      "metadata": {
        "id": "CddAHX4FzzMh"
      },
      "source": [
        "Let's see what happens when we divide these to compute the population density:"
      ]
    },
    {
      "cell_type": "code",
      "execution_count": null,
      "metadata": {
        "id": "GvSJOVl5zzMh",
        "jupyter": {
          "outputs_hidden": false
        },
        "outputId": "5e2b16dd-34af-4211-eee8-4b10cdda80ec"
      },
      "outputs": [
        {
          "data": {
            "text/plain": [
              "Alaska              NaN\n",
              "California    93.257784\n",
              "Florida             NaN\n",
              "Texas         41.896072\n",
              "dtype: float64"
            ]
          },
          "execution_count": 7,
          "metadata": {},
          "output_type": "execute_result"
        }
      ],
      "source": [
        "population / area"
      ]
    },
    {
      "cell_type": "markdown",
      "metadata": {
        "id": "cTNH0tEGzzMi"
      },
      "source": [
        "The resulting array contains the *union* of indices of the two input arrays, which could be determined directly from these indices:"
      ]
    },
    {
      "cell_type": "code",
      "execution_count": null,
      "metadata": {
        "id": "nP8pk0dLzzMi",
        "jupyter": {
          "outputs_hidden": false
        },
        "outputId": "480a2962-2122-423e-99ef-b343eb17c68d"
      },
      "outputs": [
        {
          "data": {
            "text/plain": [
              "Index(['Alaska', 'California', 'Florida', 'Texas'], dtype='object')"
            ]
          },
          "execution_count": 8,
          "metadata": {},
          "output_type": "execute_result"
        }
      ],
      "source": [
        "area.index.union(population.index)"
      ]
    },
    {
      "cell_type": "markdown",
      "metadata": {
        "id": "-zM41tZLzzMi"
      },
      "source": [
        "Any item for which one or the other does not have an entry is marked with `NaN`, or \"Not a Number,\" which is how Pandas marks missing data (see further discussion of missing data in [Handling Missing Data](03.04-Missing-Values.ipynb)).\n",
        "This index matching is implemented this way for any of Python's built-in arithmetic expressions; any missing values are marked by `NaN`:"
      ]
    },
    {
      "cell_type": "code",
      "execution_count": null,
      "metadata": {
        "id": "lCHMVdr3zzMi",
        "jupyter": {
          "outputs_hidden": false
        },
        "outputId": "ffca1568-56ff-44e3-dc34-cc1cfeb192da"
      },
      "outputs": [
        {
          "data": {
            "text/plain": [
              "0    NaN\n",
              "1    5.0\n",
              "2    9.0\n",
              "3    NaN\n",
              "dtype: float64"
            ]
          },
          "execution_count": 9,
          "metadata": {},
          "output_type": "execute_result"
        }
      ],
      "source": [
        "A = pd.Series([2, 4, 6], index=[0, 1, 2])\n",
        "B = pd.Series([1, 3, 5], index=[1, 2, 3])\n",
        "A + B"
      ]
    },
    {
      "cell_type": "markdown",
      "metadata": {
        "id": "G-rOWZU_zzMj"
      },
      "source": [
        "If using `NaN` values is not the desired behavior, the fill value can be modified using appropriate object methods in place of the operators.\n",
        "For example, calling ``A.add(B)`` is equivalent to calling ``A + B``, but allows optional explicit specification of the fill value for any elements in ``A`` or ``B`` that might be missing:"
      ]
    },
    {
      "cell_type": "code",
      "execution_count": null,
      "metadata": {
        "id": "bDphu0aszzMk",
        "jupyter": {
          "outputs_hidden": false
        },
        "outputId": "6121d57c-bcf2-4ed1-b494-b701dfab5f9a"
      },
      "outputs": [
        {
          "data": {
            "text/plain": [
              "0    2.0\n",
              "1    5.0\n",
              "2    9.0\n",
              "3    5.0\n",
              "dtype: float64"
            ]
          },
          "execution_count": 10,
          "metadata": {},
          "output_type": "execute_result"
        }
      ],
      "source": [
        "A.add(B, fill_value=0)"
      ]
    }
  ],
  "metadata": {
    "colab": {
      "provenance": []
    },
    "kernelspec": {
      "display_name": "Python 3",
      "name": "python3"
    },
    "language_info": {
      "name": "python"
    }
  },
  "nbformat": 4,
  "nbformat_minor": 0
}
