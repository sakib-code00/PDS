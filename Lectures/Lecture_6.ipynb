{
  "nbformat": 4,
  "nbformat_minor": 0,
  "metadata": {
    "colab": {
      "provenance": []
    },
    "kernelspec": {
      "name": "python3",
      "display_name": "Python 3"
    },
    "language_info": {
      "name": "python"
    }
  },
  "cells": [
    {
      "cell_type": "markdown",
      "metadata": {
        "id": "4n6ODTvkngFz"
      },
      "source": [
        "# <font color=\"red\">What are Conditional Statements? </font>\n",
        "\n",
        "- Conditional statements are part of our everyday lives. As people, we can think about situations and make decisions based on what we observe or know to be true.\n",
        "    - Is it raining?\n",
        "    - Do I have milk in the house?\n",
        "    - Do I have a enough money to pay for new shoes?\n",
        "- In computer programming, conditional statements are used to instruct the computer on the decision to make when given some conditions.\n",
        "- These decisions are made if and only if the pre-stated conditions are either true or false , depending on the functions the programmer has in mind.\n",
        "- Conditional statements work by using Boolean expressions in the form of logical `if/else` and `then` statements evaluating if something is true or false.\n",
        "\n",
        "\n",
        "![fig_cond](https://downloads.intercomcdn.com/i/o/151547499/3b47db4be649cc99ae72f1fa/ConditionDiagram.jpg)\n",
        "Image Source: [http://support.kodable.com/](http://support.kodable.com/en/articles/417311-what-are-conditional-statements)\n",
        "\n",
        "\n",
        "**We use conditional statements when we want to execute a particular block of code when a given condition is true or false.**"
      ]
    },
    {
      "cell_type": "markdown",
      "metadata": {
        "id": "DH4IX3WsngF0"
      },
      "source": [
        "# <font color=\"red\">Booleans</font>\n",
        "\n",
        "---\n",
        "\n",
        "- Either `True` or `False` represent booleans.\n",
        "- You can also use repsectively `1` or `0` for binary booleans."
      ]
    },
    {
      "cell_type": "markdown",
      "metadata": {
        "id": "7vB87KqXngF0"
      },
      "source": [
        "# <font color=\"red\">The `if` Statement</font>\n",
        "\n",
        "---\n",
        "\n",
        "```python\n",
        "   if <expr>:\n",
        "       <statement>\n",
        "```\n",
        "\n",
        "In the form shown above:\n",
        "\n",
        "- `<expr>` is an expression evaluated in Boolean context.\n",
        "- `<statement>` is a valid Python statement, which must be indented."
      ]
    },
    {
      "cell_type": "markdown",
      "metadata": {
        "id": "-RIIip9nngF0"
      },
      "source": [
        "#### <font color=\"orange\">Example 1 </font>\n",
        "\n",
        "Let us set the values of `x` and `y`."
      ]
    },
    {
      "cell_type": "code",
      "execution_count": null,
      "metadata": {
        "id": "ycmFhBDsngF1"
      },
      "outputs": [],
      "source": [
        "x = 5\n",
        "y = 2"
      ]
    },
    {
      "cell_type": "markdown",
      "metadata": {
        "id": "8NTFGItZngF1"
      },
      "source": [
        "What happens if you run the following cell?"
      ]
    },
    {
      "cell_type": "code",
      "execution_count": null,
      "metadata": {
        "id": "U5FmE5CmngF2"
      },
      "outputs": [],
      "source": [
        "if y < x:\n",
        "    print('yes')"
      ]
    },
    {
      "cell_type": "markdown",
      "metadata": {
        "id": "awwhq4T4ngF2"
      },
      "source": [
        "What happens if you run the following cell?"
      ]
    },
    {
      "cell_type": "code",
      "execution_count": null,
      "metadata": {
        "id": "YgLgugG6ngF2"
      },
      "outputs": [],
      "source": [
        "if x < y:\n",
        "    print('yes')"
      ]
    },
    {
      "cell_type": "markdown",
      "metadata": {
        "id": "H8cxkbnvngF2"
      },
      "source": [
        "# <font color=\"red\">The `if`-`else` Statement</font>\n",
        "\n",
        "---\n",
        "\n",
        "```python\n",
        "   if <expr>:\n",
        "       <statement> when the expression is true\n",
        "   else:\n",
        "       <statement> when the expression is false    \n",
        "```\n",
        "\n",
        "![fig_ifelse](https://www.tutorialspoint.com/python/images/if_else_statement.jpg)\n",
        "Image Source: tutorialspoint.com"
      ]
    },
    {
      "cell_type": "markdown",
      "metadata": {
        "id": "emBwcfrOngF3"
      },
      "source": [
        "__Note:__ You cannot have an __`else`__ statement without an __`if`__ statement."
      ]
    },
    {
      "cell_type": "markdown",
      "metadata": {
        "id": "D9JFJl4_ngF3"
      },
      "source": [
        "#### <font color=\"orange\">Example 2</font>: Checking the Password"
      ]
    },
    {
      "cell_type": "code",
      "execution_count": null,
      "metadata": {
        "id": "o5_7MVbMngF3"
      },
      "outputs": [],
      "source": [
        "# Get a password from the user.\n",
        "password = input('Enter the password: ')\n",
        "\n",
        "# Determine whether the correct password was entered.\n",
        "\n",
        "if password == 'hello':\n",
        "    print('Great! You can proceed.')\n",
        "else:\n",
        "    print('Sorry, you entered the wrong password.')"
      ]
    },
    {
      "cell_type": "markdown",
      "metadata": {
        "id": "45USRB-OngF3"
      },
      "source": [
        "# <font color=\"red\">More Choices: The `elif` Statement</font>\n",
        "\n",
        "---\n",
        "\n",
        "```python\n",
        "   if <expr1>:\n",
        "       <statement>\n",
        "   elif <expr2>:\n",
        "       <statement>\n",
        "   elif <expr3>:\n",
        "       <statement>\n",
        "   # and so on\n",
        "```"
      ]
    },
    {
      "cell_type": "markdown",
      "metadata": {
        "id": "OjyqJsBGngF5"
      },
      "source": [
        "__Note:__ Notice that there is no __`else`__ statement above. It is not required, but the __`else`__ statement is availble to be used if all the above conditionasl evaluate to be False."
      ]
    },
    {
      "cell_type": "markdown",
      "metadata": {
        "id": "iG0R8DNangF5"
      },
      "source": [
        "#### <font color=\"orange\">Example 3</font>: Body Temperature"
      ]
    },
    {
      "cell_type": "code",
      "execution_count": null,
      "metadata": {
        "id": "6xu1AWnangF5"
      },
      "outputs": [],
      "source": [
        "# provide the temperature of the patient.\n",
        "temp = float(input('Enter the temperature of the patient: '))\n",
        "\n",
        "if temp > 105.8:\n",
        "    print(f'Patient ({temp} degrees) has a very high fever.')\n",
        "elif temp > 103.1:\n",
        "    print(f'Patient ({temp} degrees) has a high fever.')\n",
        "elif temp > 100.4:\n",
        "    print(f'Patient ({temp} degrees) has fever.')\n",
        "elif temp > 97.9:\n",
        "    print(f'Patient ({temp} degrees) is fine.')\n",
        "else:\n",
        "    print(f'Patient ({temp} degrees) has low temperature.')"
      ]
    },
    {
      "cell_type": "markdown",
      "metadata": {
        "id": "hDGKXmr_ngF6"
      },
      "source": [
        "### <font color=\"blue\">Breakout</font>\n",
        "\n",
        "- What happens when you execute the example below?"
      ]
    },
    {
      "cell_type": "code",
      "execution_count": null,
      "metadata": {
        "id": "pZk9wQY0ngF6"
      },
      "outputs": [],
      "source": [
        "a = 2.0001\n",
        "if a > 10:\n",
        "    print('I am greater than 10.')\n",
        "elif a == 2:\n",
        "    print('My value is equal to 2.')\n",
        "elif not True:\n",
        "    print('I do not care about value, all I know is that I am not True.')"
      ]
    },
    {
      "cell_type": "markdown",
      "metadata": {
        "id": "nf7Xzy42ngF6"
      },
      "source": [
        "- Change the value of `a` and run again."
      ]
    },
    {
      "cell_type": "markdown",
      "metadata": {
        "id": "f72jF6QqngF6"
      },
      "source": [
        "# <font color=\"red\">Conditional Testing</font>\n",
        "\n",
        "---"
      ]
    },
    {
      "cell_type": "markdown",
      "metadata": {
        "id": "V1fttRwongF6"
      },
      "source": [
        "There are various ways to insert booleans:\n",
        "\n",
        "- True/False\n",
        "- Variables (i.e. the value of variable)\n",
        "- Numbers (1 and greater is True; 0 is False)\n",
        "- Empty objects (you will learn more about these later; [], {}, None, '')\n",
        "- Comparisons between things:\n",
        "    - `a > b`\n",
        "    - `a == b`\n",
        "    - `a >= b`\n",
        "    - `a != b`\n",
        "    - `a is b` (be careful! this looks at the memory `id` of the object)\n",
        "    - `a is not b`\n",
        "    - `a in b` (works only in lists, strings, and other iterable objects)\n",
        "- Evaluated values (a + b)"
      ]
    },
    {
      "cell_type": "markdown",
      "metadata": {
        "id": "f-4GnlKHngF6"
      },
      "source": [
        "### <font color=\"blue\"> Breakout</font>\n",
        "\n",
        "---\n",
        "\n",
        "We're going to create a simple traffic light with three options: Red, Yellow, and Green.\n",
        "\n",
        "![fig_traffic](https://www.allaboutcircuits.com/uploads/articles/trafficlightJPG.jpg)\n",
        "Image Source: Joseph Corleto (www.allaboutcircuits.com)\n",
        "\n",
        "Create three variables to store which lights are on. These variables will hold only True/False values, or you can get creative with the conditions you put in them.\n",
        "\n",
        "After setting the three variables, write one conditional per light to test the values of these and print out the street light as such:\n",
        "\n",
        "__Red: Off  \n",
        "Yellow: Off  \n",
        "Green: On__\n",
        "\n",
        "Don't worry about formatting either. As long as you can tell which ones are off/on, that's sufficient.\n",
        "\n",
        "It's a simple interface, but you can easily get more creative with this application.\n",
        "\n",
        "For instance, what if you named the variables top, middle, and bottom and still want to print out the color names, as before?"
      ]
    },
    {
      "cell_type": "markdown",
      "metadata": {
        "id": "EXFL26NUngF7"
      },
      "source": [
        "<p>\n",
        "<p>\n",
        "\n",
        "<details><summary><b>CLICK HERE TO ACCESS THE SOLUTION</b></summary>\n",
        "<p>\n",
        "    \n",
        "```python\n",
        "Red = \"off\"\n",
        "Yellow = \"off\"\n",
        "Green = \"on\"\n",
        "\n",
        "red = False\n",
        "if Red == \"on\":\n",
        "    red = True\n",
        "\n",
        "yellow = False\n",
        "if Yellow == \"on\":\n",
        "    yellow = True\n",
        "\n",
        "green = False\n",
        "if Green == \"on\":\n",
        "    green = True\n",
        "       \n",
        "if green:\n",
        "    print(\"You can proceed!\")\n",
        "elif yellow:\n",
        "    print(\"Slow down to stop!\")\n",
        "elif red:\n",
        "    print(\"Stop!\")\n",
        "```\n",
        "\n",
        "</p>\n",
        "</details>"
      ]
    },
    {
      "cell_type": "markdown",
      "metadata": {
        "id": "aNGPcs1FngF7"
      },
      "source": [
        "# <font color='red'> Combining Expressions</font>"
      ]
    },
    {
      "cell_type": "code",
      "execution_count": null,
      "metadata": {
        "id": "SGqIWOyCngF7"
      },
      "outputs": [],
      "source": [
        "a = 5\n",
        "b = 5\n",
        "c = 5\n",
        "\n",
        "if a != b and b != c and a != c:\n",
        "    print('This is a scalene triangle')\n",
        "elif a == b and b == c:\n",
        "    print('This is an equilateral triangle')\n",
        "else:\n",
        "    print('This is an isosceles triangle')"
      ]
    },
    {
      "cell_type": "markdown",
      "metadata": {
        "id": "wzxdqPqongF7"
      },
      "source": [
        "## <font color=\"purple\">Going Deeper: Python Ternary Operator</font>\n",
        "\n",
        "If we have an `if...else` block, we can use the ternary operator and write the `if...else` block in one line:\n",
        "\n",
        "```python\n",
        "   <statement if true> if <expr> else <statement if false>\n",
        "```"
      ]
    },
    {
      "cell_type": "markdown",
      "metadata": {
        "id": "77KFQBTcngF7"
      },
      "source": [
        "#### <font color=\"orange\">Example 4</font>"
      ]
    },
    {
      "cell_type": "code",
      "execution_count": null,
      "metadata": {
        "id": "TMN7IJq8ngF7"
      },
      "outputs": [],
      "source": [
        "# We print a if a>b otherwise, we print b\n",
        "a = 100\n",
        "b = 200\n",
        "print(f'A = {a}') if a > b else print(f'B = {b}')"
      ]
    },
    {
      "cell_type": "markdown",
      "metadata": {
        "id": "LF4BbDVVngF7"
      },
      "source": [
        "# <font color=\"purple\"> Going Deeper: Truth Value Testing</font>\n",
        "\n",
        "- Each Python built-in type has a __truthiness__ value that can be explicitly checked using the bool built-in function:"
      ]
    },
    {
      "cell_type": "code",
      "execution_count": null,
      "metadata": {
        "id": "aPqZGmR2ngF8"
      },
      "outputs": [],
      "source": [
        "print(bool(0))"
      ]
    },
    {
      "cell_type": "code",
      "execution_count": null,
      "metadata": {
        "id": "nZwyPHn8ngF8"
      },
      "outputs": [],
      "source": [
        "print(bool(1))"
      ]
    },
    {
      "cell_type": "code",
      "execution_count": null,
      "metadata": {
        "id": "By4tCMjungF8"
      },
      "outputs": [],
      "source": [
        "print(bool('Hello world!'))"
      ]
    },
    {
      "cell_type": "code",
      "execution_count": null,
      "metadata": {
        "id": "VeKvuM68ngF8"
      },
      "outputs": [],
      "source": [
        "print(bool(\"\"))"
      ]
    },
    {
      "cell_type": "code",
      "execution_count": null,
      "metadata": {
        "id": "vJ-Gsey-ngF8"
      },
      "outputs": [],
      "source": [
        "print(bool(10.75))"
      ]
    },
    {
      "cell_type": "markdown",
      "metadata": {
        "id": "-JNhaheEngF9"
      },
      "source": [
        "Individual values can evaluate to either `True` or `False`."
      ]
    },
    {
      "cell_type": "markdown",
      "metadata": {
        "id": "oEQDGIaangF9"
      },
      "source": [
        "This can be useful as when used in an `if` condition or as operand of the Boolean operations (and, or, not)\n",
        "\n",
        "- Some given names:\n",
        "    - Values that evaluate to `False` are considered **Falsy**.\n",
        "    - Values that evaluate to `True` are considered **Truthy**.\n",
        "    \n",
        "### Falsy Values\n",
        "\n",
        "| Sequences and Collections | Numbers | Constants |\n",
        "| --- | --- | --- |\n",
        "| Empty lists `list()` | Zero of any numeric type | `None` |\n",
        "| Empty tuples `tuple()` | Integer: `0` | `False` |\n",
        "| Empty dictionaries `dict()` | Float: `0.0` |  |\n",
        "| Empty sets `set()` | Complex: `0j` | |\n",
        "| Empty strings `\"\"` |  | |\n",
        "| Empty ranges `range(0)` | | |\n",
        "\n",
        "### Truthy Values\n",
        "\n",
        "- Non-empty sequences or collections (lists, tuples, strings, dictionaries, sets).\n",
        "- Numeric values that are not zero.\n",
        "- `True`\n",
        "\n",
        "\n",
        "Using the truthy and falsy concepts, the follwing code:\n",
        "\n",
        "```python\n",
        "    if len(my_list) != 0:\n",
        "       print(\"Not empty!\")\n",
        "```\n",
        "\n",
        "can be written as:\n",
        "\n",
        "```python\n",
        "    if my_list:\n",
        "       print(\"Not empty!\")\n",
        "```"
      ]
    },
    {
      "cell_type": "markdown",
      "metadata": {
        "id": "htSANwk8nNST"
      },
      "source": [
        "# Loops\n",
        "- Iterate over arrays or lists easily. `for` or `while` loops can be nested.\n",
        "- BUT, in many cases for loops don't scale well and are slower than alternate methods involving functions.\n",
        "- BUT, don't worry about prematurely optimizing code.\n",
        "- Often if you are doing a loop, there is a function that is faster.  You might not care for small data applications.\n",
        "- Keep in mind the [Zen of Python](https://www.python.org/dev/peps/pep-0020/#id3) when writing `for` statements."
      ]
    },
    {
      "cell_type": "code",
      "execution_count": null,
      "metadata": {
        "id": "pphKcDktnNST",
        "outputId": "cb92518f-1430-4ad0-9d6c-5e066f75e841"
      },
      "outputs": [
        {
          "name": "stdout",
          "output_type": "stream",
          "text": [
            "1\n",
            "3\n",
            "6\n",
            "England\n",
            "Spain\n",
            "India\n"
          ]
        }
      ],
      "source": [
        "#Here we are iterating on lists.\n",
        "sum=0\n",
        "for ad in [1, 2, 3]:\n",
        "    sum+=ad    #This is short hand for sum = sum+ad\n",
        "    print(sum)\n",
        "\n",
        "for country in ['England', 'Spain', 'India']:\n",
        "    print(country)"
      ]
    },
    {
      "cell_type": "code",
      "execution_count": null,
      "metadata": {
        "id": "sWMe6BJKnNSU",
        "outputId": "fe2ac0a4-e80a-40b6-cd84-bc3a41baeab5"
      },
      "outputs": [
        {
          "name": "stdout",
          "output_type": "stream",
          "text": [
            "0 a\n",
            "0 b\n",
            "0 c\n",
            "1 a\n",
            "1 b\n",
            "1 c\n",
            "2 a\n",
            "2 b\n",
            "2 c\n"
          ]
        }
      ],
      "source": [
        "x=[0,1,2]\n",
        "y=['a','b','c']\n",
        "#Nested for loops\n",
        "for a in x:\n",
        "    for b in y:\n",
        "        print(a,b)\n"
      ]
    },
    {
      "cell_type": "markdown",
      "metadata": {
        "id": "s5mN8-T4nNSW"
      },
      "source": [
        "## The `for` Loop\n",
        "- Can accept a `range(start, stop, step)` or `range(stop)` object\n",
        "- Can break out of it with a `break` command"
      ]
    },
    {
      "cell_type": "code",
      "execution_count": null,
      "metadata": {
        "id": "IZ1g0UL8nNSW",
        "outputId": "7c8d6600-432c-45fe-c727-c1eda05033ad"
      },
      "outputs": [
        {
          "data": {
            "text/plain": [
              "range(0, 5)"
            ]
          },
          "execution_count": 21,
          "metadata": {},
          "output_type": "execute_result"
        }
      ],
      "source": [
        "z=range(5)\n",
        "z"
      ]
    },
    {
      "cell_type": "code",
      "execution_count": null,
      "metadata": {
        "id": "gzC6QkwYnNSW",
        "outputId": "610078d9-aa2d-493e-95cb-0a1265cf643b"
      },
      "outputs": [
        {
          "name": "stdout",
          "output_type": "stream",
          "text": [
            "range(0, 5) <class 'range'>\n",
            "Printing ten\n",
            "Printing ten\n",
            "Printing ten\n",
            "Printing ten\n",
            "Printing ten\n",
            "Print five more\n",
            "Print five more\n",
            "Print five more\n",
            "Print five more\n",
            "Print five more\n",
            "i: 5 is the value\n",
            "i:5  is the value\n",
            "i: 7 is the value\n",
            "i:7  is the value\n",
            "i: 9 is the value\n",
            "i:9  is the value\n",
            "i: 11 is the value\n",
            "i:11  is the value\n",
            "i: 13 is the value\n",
            "i:13  is the value\n",
            "i: 15 is the value\n",
            "i:15  is the value\n",
            "i: 17 is the value\n",
            "i:17  is the value\n",
            "i: 19 is the value\n",
            "i:19  is the value\n"
          ]
        }
      ],
      "source": [
        "#Range is a built in function that can be passed to a for loop\n",
        "#https://docs.python.org/3/library/functions.html#func-range\n",
        "#Range accepts a number and a (start/stop/step) like the arrange command.\n",
        "z=range(5)\n",
        "print(z, type(z))\n",
        "#Range\n",
        "for i in z:\n",
        "    print('Printing ten')\n",
        "for i in range(5):\n",
        "    print('Print five more')\n",
        "for i in range(5,20,2):\n",
        "    print('i: %d is the value' % (i))\n",
        "    print(f'i:{i}  is the value' ) #This is an alternate way of embedding values in text."
      ]
    },
    {
      "cell_type": "code",
      "execution_count": null,
      "metadata": {
        "id": "UTd1WUmRnNSW",
        "outputId": "0ed24795-3ce4-4a98-c5cf-d1cf9759c034"
      },
      "outputs": [
        {
          "name": "stdout",
          "output_type": "stream",
          "text": [
            "x: 0\n",
            "x: 1\n",
            "x: 2\n"
          ]
        }
      ],
      "source": [
        "#Sometimes you need to break out of a loop\n",
        "for x in range(3):\n",
        "    print('x:',x)\n",
        "    if x == 2:\n",
        "        break\n"
      ]
    },
    {
      "cell_type": "markdown",
      "metadata": {
        "id": "lN67wGkMnNSX"
      },
      "source": [
        "### List, Set, and Dict Comprehension (Fancy for Loops)\n",
        "- Python has a special way of compressing list building to a single line.\n",
        "- Set Comprehension is very similar, but with the `{` bracket.\n",
        "- Can incorporate conditionals.\n",
        "- S\n"
      ]
    },
    {
      "cell_type": "code",
      "execution_count": null,
      "metadata": {
        "id": "PknGVPKknNSX",
        "outputId": "994626f1-2c17-4463-cea0-c901b706d3fe"
      },
      "outputs": [
        {
          "data": {
            "text/plain": [
              "[0, 1, 4, 9, 16, 25, 36, 49, 64, 81]"
            ]
          },
          "execution_count": 26,
          "metadata": {},
          "output_type": "execute_result"
        }
      ],
      "source": [
        "#This is the long way of building lists.\n",
        "L = []\n",
        "for n in range(10):\n",
        "    L.append(n ** 2)\n",
        "L"
      ]
    },
    {
      "cell_type": "code",
      "execution_count": null,
      "metadata": {
        "id": "U_gxFac_nNSX",
        "outputId": "bc578da5-24c4-480e-dfb8-148553282dfc"
      },
      "outputs": [
        {
          "data": {
            "text/plain": [
              "[0, 1, 4, 9, 16, 25, 36, 49, 64, 81]"
            ]
          },
          "execution_count": 22,
          "metadata": {},
          "output_type": "execute_result"
        }
      ],
      "source": [
        "#With list comprehension.\n",
        "L=[n ** 2 for n in range(10)]\n",
        "L"
      ]
    },
    {
      "cell_type": "code",
      "execution_count": null,
      "metadata": {
        "id": "E92gR0ydnNSX",
        "outputId": "6fc92daa-de8e-4a7e-d876-69202ec7332e"
      },
      "outputs": [
        {
          "data": {
            "text/plain": [
              "[0, 3, 6, 9, 12, 15, 18]"
            ]
          },
          "execution_count": 28,
          "metadata": {},
          "output_type": "execute_result"
        }
      ],
      "source": [
        "#Any actions are on left side, any conditionals on right side\n",
        "[i for i in range(20) if i % 3 == 0]"
      ]
    },
    {
      "cell_type": "markdown",
      "metadata": {
        "id": "RLU9jlAnnNSY"
      },
      "source": [
        "### Multiple Interators\n",
        "- Iterating on multiple values"
      ]
    },
    {
      "cell_type": "code",
      "execution_count": null,
      "metadata": {
        "id": "qJtuYyGqnNSY",
        "outputId": "1d753a07-0791-480f-a775-d5e777e94268"
      },
      "outputs": [
        {
          "data": {
            "text/plain": [
              "[(0, 0), (0, 1), (0, 2), (1, 0), (1, 1), (1, 2)]"
            ]
          },
          "execution_count": 29,
          "metadata": {},
          "output_type": "execute_result"
        }
      ],
      "source": [
        "[(i, j) for i in range(2) for j in range(3)]"
      ]
    },
    {
      "cell_type": "markdown",
      "metadata": {
        "id": "VGC8bok2nNSZ"
      },
      "source": [
        "### Set Comprehension\n",
        "- Remember sets must have unique values."
      ]
    },
    {
      "cell_type": "code",
      "execution_count": null,
      "metadata": {
        "id": "aVlS2qgdnNSZ",
        "outputId": "bfece717-61ed-4a0a-d817-3ccdf615e90f"
      },
      "outputs": [
        {
          "data": {
            "text/plain": [
              "{0, 1, 4, 9, 16, 25}"
            ]
          },
          "execution_count": 30,
          "metadata": {},
          "output_type": "execute_result"
        }
      ],
      "source": [
        "#We can change it to a setby just changing the brackets.\n",
        "{n**2 for n in range(6)}"
      ]
    },
    {
      "cell_type": "markdown",
      "metadata": {
        "id": "e6dWFwKNnNSZ"
      },
      "source": [
        "### Dict Comprehension\n",
        "- Remember sets must have unique values."
      ]
    },
    {
      "cell_type": "code",
      "execution_count": null,
      "metadata": {
        "id": "Pe9tMUKJnNSZ",
        "outputId": "494b5573-0932-47ca-92a8-2982964249b7"
      },
      "outputs": [
        {
          "data": {
            "text/plain": [
              "{0: 0, 1: 1, 2: 4, 3: 9, 4: 16, 5: 25}"
            ]
          },
          "execution_count": 30,
          "metadata": {},
          "output_type": "execute_result"
        }
      ],
      "source": [
        "#We can change it to a dictionary by just changing the brackets and adding a colon.\n",
        "{n:n**2 for n in range(6)}"
      ]
    },
    {
      "cell_type": "markdown",
      "metadata": {
        "id": "8RQ1VjM6nNSa"
      },
      "source": [
        "## While Loops\n",
        "- Performs a loop while a conditional is True.\n",
        "- Doesn't auto-increment.\n"
      ]
    },
    {
      "cell_type": "code",
      "execution_count": null,
      "metadata": {
        "id": "1TxFLrbtnNSa",
        "outputId": "d5ae6e29-bf70-4168-a4a3-aa0304b5cd47"
      },
      "outputs": [
        {
          "name": "stdout",
          "output_type": "stream",
          "text": [
            "Printing x= 1 sum= 0\n",
            "Printing x= 2 sum= 10\n",
            "Printing x= 3 sum= 20\n",
            "Printing x= 4 sum= 30\n",
            "Printing x= 5 sum= 40\n",
            "Printing x= 6 sum= 50\n",
            "Printing x= 7 sum= 60\n",
            "Printing x= 8 sum= 70\n",
            "Printing x= 9 sum= 80\n"
          ]
        }
      ],
      "source": [
        "# While loop is a very interesting\n",
        "x = 1\n",
        "sum=0\n",
        "while x<10:\n",
        "    print (\"Printing x= %d sum= %d\" % (x, sum)) #Note this alternate way of specufiy\n",
        "    x += 1\n",
        "    sum+=10"
      ]
    },
    {
      "cell_type": "markdown",
      "metadata": {
        "id": "nLHhWPHXnNSa"
      },
      "source": [
        "## Recoding Variables/Creating Features with `for/if`\n",
        "- Often we want to recode data applying some type of conditional statement to each value of a series, list, or column of a data frame.\n",
        "- [Regular Expressions](https://docs.python.org/3/howto/regex.html) can be useful in recoding"
      ]
    },
    {
      "cell_type": "code",
      "execution_count": null,
      "metadata": {
        "id": "4MJOPN_lnNSa",
        "outputId": "b93a908c-464c-4570-dbd2-e36bd99a6860"
      },
      "outputs": [
        {
          "name": "stdout",
          "output_type": "stream",
          "text": [
            "['Survived', 'Survived', 'Survived', 'Died', 'Died', 'Died']\n"
          ]
        }
      ],
      "source": [
        "#Titanic Preview Women and Children first\n",
        "\n",
        "gender=['Female', 'Female','Female', 'Male', 'Male', 'Male' ]\n",
        "age=[75, 45, 15, 1, 45, 4 ]\n",
        "name = ['Ms. Sally White', 'Mrs. Susan King', 'Amanda Russ', 'Rev. John Smith' ]\n",
        "survived=[]\n",
        "for i in range(len(gender)):\n",
        "#This is encoding a simple model that women survived.\n",
        "    if gender[i]=='Female':\n",
        "        survived.append('Survived')\n",
        "    else:\n",
        "        survived.append('Died')\n",
        "print(survived)\n",
        "\n",
        "#BUT, we won't typically be using this type of recoding, so we aren't going to do a lot of exercises on it."
      ]
    },
    {
      "cell_type": "markdown",
      "metadata": {
        "id": "lm0cKV5hoQlo"
      },
      "source": [
        "# Functions\n",
        "\n",
        "\n",
        "<a id='index-0'></a>"
      ]
    },
    {
      "cell_type": "markdown",
      "metadata": {
        "id": "X6L0c1nAoQlp"
      },
      "source": [
        "## Contents\n",
        "\n",
        "- [Functions](#Functions)  \n",
        "  - [Overview](#Overview)  \n",
        "  - [Function Basics](#Function-Basics)  \n",
        "  - [Defining Functions](#Defining-Functions)  \n",
        "  - [Applications](#Applications)  \n",
        "  - [Exercises](#Exercises)  \n",
        "  - [Solutions](#Solutions)  "
      ]
    },
    {
      "cell_type": "markdown",
      "metadata": {
        "id": "jfnCgJQ1oQlq"
      },
      "source": [
        "## Overview\n",
        "\n",
        "One construct that’s extremely useful and provided by almost all programming\n",
        "languages is **functions**.\n",
        "\n",
        "We have already met several functions, such as\n",
        "\n",
        "- the `sqrt()` function from NumPy and  \n",
        "- the built-in `print()` function  \n",
        "\n",
        "\n",
        "In this lecture we’ll treat functions systematically and begin to learn just how\n",
        "useful and important they are.\n",
        "\n",
        "One of the things we will learn to do is build our own user-defined functions\n",
        "\n",
        "We will use the following imports."
      ]
    },
    {
      "cell_type": "code",
      "execution_count": 2,
      "metadata": {
        "hide-output": false,
        "id": "N512qCCjoQlr"
      },
      "outputs": [],
      "source": [
        "import numpy as np\n",
        "import matplotlib.pyplot as plt\n",
        "%matplotlib inline"
      ]
    },
    {
      "cell_type": "markdown",
      "metadata": {
        "id": "IND_2sVvoQls"
      },
      "source": [
        "## Function Basics\n",
        "\n",
        "A function is a named section of a program that implements a specific task.\n",
        "\n",
        "Many functions exist already and we can use them off the shelf.\n",
        "\n",
        "First we review these functions and then discuss how we can build our own."
      ]
    },
    {
      "cell_type": "markdown",
      "metadata": {
        "id": "n7UBq9fnoQlt"
      },
      "source": [
        "### Built-In Functions\n",
        "\n",
        "Python has a number of *built-in* functions that are available without `import`.\n",
        "\n",
        "We have already met some"
      ]
    },
    {
      "cell_type": "code",
      "execution_count": 3,
      "metadata": {
        "hide-output": false,
        "id": "eCacT5hxoQlt",
        "colab": {
          "base_uri": "https://localhost:8080/"
        },
        "outputId": "9750edc3-d30d-43c4-b8fc-495a811d7df3"
      },
      "outputs": [
        {
          "output_type": "execute_result",
          "data": {
            "text/plain": [
              "20"
            ]
          },
          "metadata": {},
          "execution_count": 3
        }
      ],
      "source": [
        "max(19, 20)"
      ]
    },
    {
      "cell_type": "code",
      "execution_count": 4,
      "metadata": {
        "hide-output": false,
        "id": "T2g107NaoQlu",
        "colab": {
          "base_uri": "https://localhost:8080/"
        },
        "outputId": "4de1cac9-3f1e-425c-f488-5dfd167a3e09"
      },
      "outputs": [
        {
          "output_type": "stream",
          "name": "stdout",
          "text": [
            "foobar\n"
          ]
        }
      ],
      "source": [
        "print('foobar')"
      ]
    },
    {
      "cell_type": "code",
      "execution_count": 5,
      "metadata": {
        "hide-output": false,
        "id": "rMvlYZAHoQlu",
        "colab": {
          "base_uri": "https://localhost:8080/",
          "height": 35
        },
        "outputId": "fa2ef112-6405-4e26-bc85-e02c4742b387"
      },
      "outputs": [
        {
          "output_type": "execute_result",
          "data": {
            "text/plain": [
              "'22'"
            ],
            "application/vnd.google.colaboratory.intrinsic+json": {
              "type": "string"
            }
          },
          "metadata": {},
          "execution_count": 5
        }
      ],
      "source": [
        "str(22)"
      ]
    },
    {
      "cell_type": "code",
      "execution_count": 6,
      "metadata": {
        "hide-output": false,
        "id": "TUyrTfs3oQlv",
        "colab": {
          "base_uri": "https://localhost:8080/"
        },
        "outputId": "e6db1340-66e8-4c8a-e37f-ea50e5b68221"
      },
      "outputs": [
        {
          "output_type": "execute_result",
          "data": {
            "text/plain": [
              "int"
            ]
          },
          "metadata": {},
          "execution_count": 6
        }
      ],
      "source": [
        "type(22)"
      ]
    },
    {
      "cell_type": "markdown",
      "metadata": {
        "id": "ak2Rqle5oQlw"
      },
      "source": [
        "Two more useful built-in functions are `any()` and `all()`"
      ]
    },
    {
      "cell_type": "code",
      "execution_count": 7,
      "metadata": {
        "hide-output": false,
        "id": "iJaRlYzroQlw",
        "colab": {
          "base_uri": "https://localhost:8080/"
        },
        "outputId": "9808aea4-8de5-46de-a84a-1be0a6f11da8"
      },
      "outputs": [
        {
          "output_type": "execute_result",
          "data": {
            "text/plain": [
              "False"
            ]
          },
          "metadata": {},
          "execution_count": 7
        }
      ],
      "source": [
        "bools = False, True, True\n",
        "all(bools)  # True if all are True and False otherwise"
      ]
    },
    {
      "cell_type": "code",
      "execution_count": 8,
      "metadata": {
        "hide-output": false,
        "id": "BORueCh6oQlw",
        "colab": {
          "base_uri": "https://localhost:8080/"
        },
        "outputId": "b6b8dc6b-2fea-4277-dff8-4027f408c100"
      },
      "outputs": [
        {
          "output_type": "execute_result",
          "data": {
            "text/plain": [
              "True"
            ]
          },
          "metadata": {},
          "execution_count": 8
        }
      ],
      "source": [
        "any(bools)  # False if all are False and True otherwise"
      ]
    },
    {
      "cell_type": "markdown",
      "metadata": {
        "id": "WsPs2v8AoQly"
      },
      "source": [
        "The full list of Python built-ins is [here](https://docs.python.org/library/functions.html)."
      ]
    },
    {
      "cell_type": "markdown",
      "metadata": {
        "id": "7tYxd71FoQlz"
      },
      "source": [
        "### Third Party Functions\n",
        "\n",
        "If the built-in functions don’t cover what we need, we either need to import\n",
        "functions or create our own.\n",
        "\n",
        "Examples of importing and using functions\n",
        "were given in the [previous lecture](https://python.quantecon.org/python_by_example.html)\n",
        "\n",
        "Here’s another one, which tests whether a given year is a leap year:"
      ]
    },
    {
      "cell_type": "code",
      "execution_count": 9,
      "metadata": {
        "hide-output": false,
        "id": "_VBbaxBPoQlz",
        "colab": {
          "base_uri": "https://localhost:8080/"
        },
        "outputId": "ed0888e4-2b3e-45e7-dc4e-3625f6853b15"
      },
      "outputs": [
        {
          "output_type": "execute_result",
          "data": {
            "text/plain": [
              "True"
            ]
          },
          "metadata": {},
          "execution_count": 9
        }
      ],
      "source": [
        "import calendar\n",
        "\n",
        "calendar.isleap(2020)"
      ]
    },
    {
      "cell_type": "markdown",
      "metadata": {
        "id": "vtDk0-lmoQlz"
      },
      "source": [
        "## Defining Functions\n",
        "\n",
        "In many instances, it is useful to be able to define our own functions.\n",
        "\n",
        "This will become clearer as you see more examples.\n",
        "\n",
        "Let’s start by discussing how it’s done."
      ]
    },
    {
      "cell_type": "markdown",
      "metadata": {
        "id": "a-JpitJaoQlz"
      },
      "source": [
        "### Syntax\n",
        "\n",
        "Here’s a very simple Python function, that implements the mathematical function\n",
        "$ f(x) = 2 x + 1 $"
      ]
    },
    {
      "cell_type": "code",
      "execution_count": 10,
      "metadata": {
        "hide-output": false,
        "id": "G-vZslU4oQlz"
      },
      "outputs": [],
      "source": [
        "def f(x):\n",
        "    return 2 * x + 1"
      ]
    },
    {
      "cell_type": "markdown",
      "metadata": {
        "id": "k6rLbUWXoQl0"
      },
      "source": [
        "Now that we’ve *defined* this function, let’s *call* it and check whether it\n",
        "does what we expect:"
      ]
    },
    {
      "cell_type": "code",
      "execution_count": 11,
      "metadata": {
        "hide-output": false,
        "id": "0A5Z0sp2oQl0",
        "colab": {
          "base_uri": "https://localhost:8080/"
        },
        "outputId": "0a36df48-2557-4164-b3d9-097d79c22e45"
      },
      "outputs": [
        {
          "output_type": "execute_result",
          "data": {
            "text/plain": [
              "3"
            ]
          },
          "metadata": {},
          "execution_count": 11
        }
      ],
      "source": [
        "f(1)"
      ]
    },
    {
      "cell_type": "code",
      "execution_count": 12,
      "metadata": {
        "hide-output": false,
        "id": "wrrFHyUuoQl0",
        "colab": {
          "base_uri": "https://localhost:8080/"
        },
        "outputId": "9aa8572b-1318-4557-a375-63e58d073e65"
      },
      "outputs": [
        {
          "output_type": "execute_result",
          "data": {
            "text/plain": [
              "21"
            ]
          },
          "metadata": {},
          "execution_count": 12
        }
      ],
      "source": [
        "f(10)"
      ]
    },
    {
      "cell_type": "markdown",
      "metadata": {
        "id": "K3Li3kY-oQl0"
      },
      "source": [
        "Here’s a longer function, that computes the absolute value of a given number.\n",
        "\n",
        "(Such a function already exists as a built-in, but let’s write our own for the\n",
        "exercise.)"
      ]
    },
    {
      "cell_type": "code",
      "execution_count": 13,
      "metadata": {
        "hide-output": false,
        "id": "nA-gEp7OoQl0"
      },
      "outputs": [],
      "source": [
        "def new_abs_function(x):\n",
        "\n",
        "    if x < 0:\n",
        "        abs_value = -x\n",
        "    else:\n",
        "        abs_value = x\n",
        "\n",
        "    return abs_value"
      ]
    },
    {
      "cell_type": "markdown",
      "metadata": {
        "id": "WWyaebG5oQl1"
      },
      "source": [
        "Let’s review the syntax here.\n",
        "\n",
        "- `def` is a Python keyword used to start function definitions.  \n",
        "- `def new_abs_function(x):` indicates that the function is called `new_abs_function` and that it has a single argument `x`.  \n",
        "- The indented code is a code block called the *function body*.  \n",
        "- The `return` keyword indicates that `abs_value` is the object that should be returned to the calling code.  \n",
        "\n",
        "\n",
        "This whole function definition is read by the Python interpreter and stored in memory.\n",
        "\n",
        "Let’s call it to check that it works:"
      ]
    },
    {
      "cell_type": "code",
      "execution_count": 14,
      "metadata": {
        "hide-output": false,
        "id": "pRCq83OHoQl1",
        "colab": {
          "base_uri": "https://localhost:8080/"
        },
        "outputId": "482209f0-992d-41c8-a198-410614cd86fe"
      },
      "outputs": [
        {
          "output_type": "stream",
          "name": "stdout",
          "text": [
            "3\n",
            "3\n"
          ]
        }
      ],
      "source": [
        "print(new_abs_function(3))\n",
        "print(new_abs_function(-3))"
      ]
    },
    {
      "cell_type": "markdown",
      "metadata": {
        "id": "ZtAKerNLoQl1"
      },
      "source": [
        "### Why Write Functions?\n",
        "\n",
        "User-defined functions are important for improving the clarity of your code by\n",
        "\n",
        "- separating different strands of logic  \n",
        "- facilitating code reuse  \n",
        "\n",
        "\n",
        "(Writing the same thing twice is [almost always a bad idea](https://en.wikipedia.org/wiki/Don%27t_repeat_yourself))\n",
        "\n",
        "We will say more about this [later](https://python.quantecon.org/writing_good_code.html)."
      ]
    },
    {
      "cell_type": "markdown",
      "metadata": {
        "id": "OEDEun1moQl1"
      },
      "source": [
        "## Applications"
      ]
    },
    {
      "cell_type": "markdown",
      "metadata": {
        "id": "j02J7teAoQl1"
      },
      "source": [
        "### Random Draws\n",
        "\n",
        "Consider again this code from the [previous lecture](https://python.quantecon.org/python_by_example.html)"
      ]
    },
    {
      "cell_type": "code",
      "execution_count": 15,
      "metadata": {
        "hide-output": false,
        "id": "old9ZeiuoQl2",
        "colab": {
          "base_uri": "https://localhost:8080/",
          "height": 430
        },
        "outputId": "b5377c5e-3164-4bf9-a4ea-26e6d621a3f9"
      },
      "outputs": [
        {
          "output_type": "display_data",
          "data": {
            "text/plain": [
              "<Figure size 640x480 with 1 Axes>"
            ],
            "image/png": "[encoded data removed]"
          },
          "metadata": {}
        }
      ],
      "source": [
        "ts_length = 100\n",
        "ϵ_values = []   # empty list\n",
        "\n",
        "for i in range(ts_length):\n",
        "    e = np.random.randn()\n",
        "    ϵ_values.append(e)\n",
        "\n",
        "plt.plot(ϵ_values)\n",
        "plt.show()"
      ]
    },
    {
      "cell_type": "markdown",
      "metadata": {
        "id": "IH8sTaf2oQl3"
      },
      "source": [
        "We will break this program into two parts:\n",
        "\n",
        "1. A user-defined function that generates a list of random variables.  \n",
        "1. The main part of the program that  \n",
        "  \n",
        "  1. calls this function to get data  \n",
        "  1. plots the data  \n",
        "  \n",
        "\n",
        "\n",
        "This is accomplished in the next program\n",
        "\n",
        "\n",
        "<a id='funcloopprog'></a>"
      ]
    },
    {
      "cell_type": "code",
      "execution_count": 16,
      "metadata": {
        "hide-output": false,
        "id": "NYuYO0WYoQl3",
        "colab": {
          "base_uri": "https://localhost:8080/",
          "height": 430
        },
        "outputId": "9b5ed40c-1319-4df3-d052-9dee4c02afbf"
      },
      "outputs": [
        {
          "output_type": "display_data",
          "data": {
            "text/plain": [
              "<Figure size 640x480 with 1 Axes>"
            ],
            "image/png": "[encoded data removed]"
          },
          "metadata": {}
        }
      ],
      "source": [
        "def generate_data(n):\n",
        "    ϵ_values = []\n",
        "    for i in range(n):\n",
        "        e = np.random.randn()\n",
        "        ϵ_values.append(e)\n",
        "    return ϵ_values\n",
        "\n",
        "data = generate_data(100)\n",
        "plt.plot(data)\n",
        "plt.show()"
      ]
    },
    {
      "cell_type": "markdown",
      "metadata": {
        "id": "8ceRrPuboQl8"
      },
      "source": [
        "When the interpreter gets to the expression `generate_data(100)`, it executes the function body with `n` set equal to 100.\n",
        "\n",
        "The net result is that the name `data` is *bound* to the list `ϵ_values` returned by the function."
      ]
    },
    {
      "cell_type": "markdown",
      "metadata": {
        "id": "DO22smb3oQl8"
      },
      "source": [
        "### Adding Conditions\n",
        "\n",
        "\n",
        "<a id='index-1'></a>\n",
        "Our function `generate_data()` is rather limited.\n",
        "\n",
        "Let’s make it slightly more useful by giving it the ability to return either standard normals or uniform random variables on $ (0, 1) $ as required.\n",
        "\n",
        "This is achieved in the next piece of code.\n",
        "\n",
        "\n",
        "<a id='funcloopprog2'></a>"
      ]
    },
    {
      "cell_type": "code",
      "execution_count": 17,
      "metadata": {
        "hide-output": false,
        "id": "QGnxXxAWoQl-",
        "colab": {
          "base_uri": "https://localhost:8080/",
          "height": 430
        },
        "outputId": "51da9f7a-061d-41bd-dac8-27425afc65ed"
      },
      "outputs": [
        {
          "output_type": "display_data",
          "data": {
            "text/plain": [
              "<Figure size 640x480 with 1 Axes>"
            ],
            "image/png": "[encoded data removed]"
          },
          "metadata": {}
        }
      ],
      "source": [
        "def generate_data(n, generator_type):\n",
        "    ϵ_values = []\n",
        "    for i in range(n):\n",
        "        if generator_type == 'U':\n",
        "            e = np.random.uniform(0, 1)\n",
        "        else:\n",
        "            e = np.random.randn()\n",
        "        ϵ_values.append(e)\n",
        "    return ϵ_values\n",
        "\n",
        "data = generate_data(100, 'U')\n",
        "plt.plot(data)\n",
        "plt.show()"
      ]
    },
    {
      "cell_type": "markdown",
      "metadata": {
        "id": "-bTmEP-1oQl-"
      },
      "source": [
        "Hopefully, the syntax of the if/else clause is self-explanatory, with indentation again delimiting the extent of the code blocks.\n",
        "\n",
        "Notes\n",
        "\n",
        "- We are passing the argument `U` as a string, which is why we write it as `'U'`.  \n",
        "- Notice that equality is tested with the `==` syntax, not `=`.  \n",
        "  \n",
        "  - For example, the statement `a = 10` assigns the name `a` to the value `10`.  \n",
        "  - The expression `a == 10` evaluates to either `True` or `False`, depending on the value of `a`.  \n",
        "  \n",
        "\n",
        "\n",
        "Now, there are several ways that we can simplify the code above.\n",
        "\n",
        "For example, we can get rid of the conditionals all together by just passing the desired generator type *as a function*.\n",
        "\n",
        "To understand this, consider the following version.\n",
        "\n",
        "\n",
        "<a id='test-program-6'></a>"
      ]
    },
    {
      "cell_type": "code",
      "execution_count": null,
      "metadata": {
        "hide-output": false,
        "id": "OiqnVl_3oQl-"
      },
      "outputs": [],
      "source": [
        "def generate_data(n, generator_type):\n",
        "    ϵ_values = []\n",
        "    for i in range(n):\n",
        "        e = generator_type()\n",
        "        ϵ_values.append(e)\n",
        "    return ϵ_values\n",
        "\n",
        "data = generate_data(100, np.random.uniform)\n",
        "plt.plot(data)\n",
        "plt.show()"
      ]
    },
    {
      "cell_type": "markdown",
      "metadata": {
        "id": "xd1oNkQQoQl-"
      },
      "source": [
        "Now, when we call the function `generate_data()`, we pass `np.random.uniform`\n",
        "as the second argument.\n",
        "\n",
        "This object is a *function*.\n",
        "\n",
        "When the function call  `generate_data(100, np.random.uniform)` is executed, Python runs the function code block with `n` equal to 100 and the name `generator_type` “bound” to the function `np.random.uniform`.\n",
        "\n",
        "- While these lines are executed, the names `generator_type` and `np.random.uniform` are “synonyms”, and can be used in identical ways.  \n",
        "\n",
        "\n",
        "This principle works more generally—for example, consider the following piece of code"
      ]
    },
    {
      "cell_type": "code",
      "execution_count": null,
      "metadata": {
        "hide-output": false,
        "id": "mP3P_r_CoQl_"
      },
      "outputs": [],
      "source": [
        "max(7, 2, 4)   # max() is a built-in Python function"
      ]
    },
    {
      "cell_type": "code",
      "execution_count": null,
      "metadata": {
        "hide-output": false,
        "id": "MQJ0hYhRoQl_"
      },
      "outputs": [],
      "source": [
        "m = max\n",
        "m(7, 2, 4)"
      ]
    },
    {
      "cell_type": "markdown",
      "metadata": {
        "id": "AP_4_iRvoQl_"
      },
      "source": [
        "Here we created another name for the built-in function `max()`, which could\n",
        "then be used in identical ways.\n",
        "\n",
        "In the context of our program, the ability to bind new names to functions\n",
        "means that there is no problem *passing a function as an argument to another\n",
        "function*—as we did above."
      ]
    }
  ]
}