{
  "cells": [
    {
      "cell_type": "markdown",
      "metadata": {
        "id": "lPlyje5s6ZQY"
      },
      "source": [
        "## What is Python?\n",
        "\n",
        "* Python is a programming language\n",
        "* Specifically, it's a widely used, very flexible, high-level, general-purpose, dynamic programming language\n",
        "* That's a mouthful! Let's explore each of these points in more detail..."
      ]
    },
    {
      "cell_type": "markdown",
      "metadata": {
        "id": "oXOvYV3G6ZQY"
      },
      "source": [
        "### Widely-used\n",
        "* Python is the fastest-growing major programming language\n",
        "* Top 3 overall (with JavaScript, Java) [source of these rankings](https://redmonk.com/sogrady/2021/03/01/language-rankings-1-21/)."
      ]
    },
    {
      "cell_type": "markdown",
      "metadata": {
        "id": "NaN-YO8e6ZQZ"
      },
      "source": [
        "<img src=\"https://redmonk.com/sogrady/files/2021/03/lang.rank_.0121.wm_.png\" width=\"800px\" style=\"margin-bottom: 10px;\">"
      ]
    },
    {
      "cell_type": "markdown",
      "metadata": {
        "id": "yemTpqXQ6ZQa"
      },
      "source": [
        "### High-level\n",
        "Python features a high level of abstraction\n",
        "* Many operations that are explicit in lower-level languages (e.g., C/C++) are implicit in Python\n",
        "* E.g., memory allocation, garbage collection, etc.\n",
        "* Python lets you write code faster"
      ]
    },
    {
      "cell_type": "markdown",
      "metadata": {
        "id": "EsXHR9zu6ZQb"
      },
      "source": [
        "#### File reading in Java\n",
        "```java\n",
        "import java.io.BufferedReader;\n",
        "import java.io.FileReader;\n",
        "import java.io.IOException;\n",
        "\n",
        "public class ReadFile {\n",
        "    public static void main(String[] args) throws IOException{\n",
        "        String fileContents = readEntireFile(\"./foo.txt\");\n",
        "    }\n",
        "\n",
        "    private static String readEntireFile(String filename) throws IOException {\n",
        "        FileReader in = new FileReader(filename);\n",
        "        StringBuilder contents = new StringBuilder();\n",
        "        char[] buffer = new char[4096];\n",
        "        int read = 0;\n",
        "        do {\n",
        "            contents.append(buffer, 0, read);\n",
        "            read = in.read(buffer);\n",
        "        } while (read >= 0);\n",
        "        return contents.toString();\n",
        "    }\n",
        "}\n",
        "```"
      ]
    },
    {
      "cell_type": "markdown",
      "metadata": {
        "id": "l8jDDf216ZQb"
      },
      "source": [
        "#### File-reading in Python\n",
        "```python\n",
        "open(filename).read()\n",
        "```"
      ]
    },
    {
      "cell_type": "markdown",
      "metadata": {
        "id": "HGjXH0BA6ZQc"
      },
      "source": [
        "### General-purpose\n",
        "You can do almost everything in Python\n",
        "* Comprehensive standard library\n",
        "* Enormous ecosystem of third-party packages\n",
        "* Widely used in many areas of software development (web, dev-ops, data science, etc.)"
      ]
    },
    {
      "cell_type": "markdown",
      "metadata": {
        "id": "U-ay0751vFhg"
      },
      "source": [
        "<h3 id=\"exp\">Expressions</h3>"
      ]
    },
    {
      "cell_type": "markdown",
      "metadata": {
        "id": "S20Ck7fxvFhj"
      },
      "source": [
        "<p>Expressions in Python can include operations among compatible types (e.g., integers and floats). For example, basic arithmetic operations like adding multiple numbers:</p>"
      ]
    },
    {
      "cell_type": "code",
      "execution_count": null,
      "metadata": {
        "id": "mQNSzgnQvFhk"
      },
      "outputs": [],
      "source": [
        "# Addition operation expression\n",
        "\n",
        "43 + 60 + 16 + 41"
      ]
    },
    {
      "cell_type": "markdown",
      "metadata": {
        "id": "IM8EQFULvFhu"
      },
      "source": [
        "<p>We can perform subtraction operations using the minus operator. In this case the result is a negative number:</p>"
      ]
    },
    {
      "cell_type": "code",
      "execution_count": null,
      "metadata": {
        "id": "frxdKmEzvFhv"
      },
      "outputs": [],
      "source": [
        "# Subtraction operation expression\n",
        "\n",
        "50 - 60"
      ]
    },
    {
      "cell_type": "markdown",
      "metadata": {
        "id": "F4IX6uJ0vFh1"
      },
      "source": [
        "<p>We can do multiplication using an asterisk:</p>"
      ]
    },
    {
      "cell_type": "code",
      "execution_count": null,
      "metadata": {
        "id": "FveFDJEgvFh2"
      },
      "outputs": [],
      "source": [
        "# Multiplication operation expression\n",
        "\n",
        "5 * 5"
      ]
    },
    {
      "cell_type": "markdown",
      "metadata": {
        "id": "B-ycpyVXvFh_"
      },
      "source": [
        "<p>We can also perform division with the forward slash:"
      ]
    },
    {
      "cell_type": "code",
      "execution_count": null,
      "metadata": {
        "id": "KappcErFvFiA"
      },
      "outputs": [],
      "source": [
        "# Division operation expression\n",
        "\n",
        "25 / 5"
      ]
    },
    {
      "cell_type": "code",
      "execution_count": null,
      "metadata": {
        "id": "DCaTPj4RvFiG"
      },
      "outputs": [],
      "source": [
        "# Division operation expression\n",
        "\n",
        "25 / 6"
      ]
    },
    {
      "cell_type": "markdown",
      "metadata": {
        "id": "wTnro5F6vFiO"
      },
      "source": [
        "<p>As seen in the quiz above, we can use the double slash for integer division, where the result is rounded to the nearest integer:"
      ]
    },
    {
      "cell_type": "code",
      "execution_count": null,
      "metadata": {
        "id": "kNTsUhKFvFiP"
      },
      "outputs": [],
      "source": [
        "# Integer division operation expression\n",
        "\n",
        "25 // 5"
      ]
    },
    {
      "cell_type": "code",
      "execution_count": null,
      "metadata": {
        "id": "rB7E01ZDvFiU"
      },
      "outputs": [],
      "source": [
        "# Integer division operation expression\n",
        "\n",
        "25 // 6"
      ]
    },
    {
      "cell_type": "markdown",
      "metadata": {
        "id": "-WgoSFZ-vFic"
      },
      "source": [
        "<h3 id=\"exer_exp\">Exercise: Expression</h3>"
      ]
    },
    {
      "cell_type": "markdown",
      "metadata": {
        "id": "USo3uehUvFie"
      },
      "source": [
        "<p>Let's write an expression that calculates how many hours there are in 160 minutes:"
      ]
    },
    {
      "cell_type": "code",
      "execution_count": null,
      "metadata": {
        "id": "zfrFqG0FvFif"
      },
      "outputs": [],
      "source": [
        "# Write your code below. Don't forget to press Shift+Enter to execute the cell"
      ]
    },
    {
      "cell_type": "markdown",
      "metadata": {
        "id": "AuKJtjcyvFil"
      },
      "source": [
        "Double-click __here__ for the solution.\n",
        "\n",
        "<!-- Your answer is below:\n",
        "160/60\n",
        "# Or\n",
        "160//60\n",
        "-->"
      ]
    },
    {
      "cell_type": "markdown",
      "metadata": {
        "id": "W-d0LBMpvFim"
      },
      "source": [
        "<p>Python follows well accepted mathematical conventions when evaluating mathematical expressions. In the following example, Python adds 30 to the result of the multiplication (i.e., 120)."
      ]
    },
    {
      "cell_type": "code",
      "execution_count": null,
      "metadata": {
        "id": "Twbqti7BvFio"
      },
      "outputs": [],
      "source": [
        "# Mathematical expression\n",
        "\n",
        "30 + 2 * 60"
      ]
    },
    {
      "cell_type": "markdown",
      "metadata": {
        "id": "jgPh5A7RvFiy"
      },
      "source": [
        "<p>And just like mathematics, expressions enclosed in parentheses have priority. So the following multiplies 32 by 60."
      ]
    },
    {
      "cell_type": "code",
      "execution_count": null,
      "metadata": {
        "id": "pxkBMJilvFiz"
      },
      "outputs": [],
      "source": [
        "# Mathematical expression\n",
        "\n",
        "(30 + 2) * 60"
      ]
    },
    {
      "cell_type": "markdown",
      "metadata": {
        "id": "ZzMARBR3vFi3"
      },
      "source": [
        "<h3 id=\"var\">Variables</h3>"
      ]
    },
    {
      "cell_type": "markdown",
      "metadata": {
        "id": "MyN2YvqTvFi4"
      },
      "source": [
        "<p>Just like with most programming languages, we can store values in <i>variables</i>, so we can use them later on. For example:</p>"
      ]
    },
    {
      "cell_type": "code",
      "execution_count": null,
      "metadata": {
        "id": "eQ-w0IR8vFi5"
      },
      "outputs": [],
      "source": [
        "# Store value into variable\n",
        "\n",
        "x = 43 + 60 + 16 + 41"
      ]
    },
    {
      "cell_type": "markdown",
      "metadata": {
        "id": "2VkjwmvkvFi_"
      },
      "source": [
        "<p>To see the value of <code>x</code> in a Notebook, we can simply place it on the last line of a cell:</p>"
      ]
    },
    {
      "cell_type": "code",
      "execution_count": null,
      "metadata": {
        "id": "fap6SGB1vFjA"
      },
      "outputs": [],
      "source": [
        "# Print out the value in variable\n",
        "\n",
        "x"
      ]
    },
    {
      "cell_type": "markdown",
      "metadata": {
        "id": "UaeJTIlrvFjE"
      },
      "source": [
        "<p>We can also perform operations on <code>x</code> and save the result to a new variable:</p>"
      ]
    },
    {
      "cell_type": "code",
      "execution_count": null,
      "metadata": {
        "id": "wXz40h5VvFjF"
      },
      "outputs": [],
      "source": [
        "# Use another variable to store the result of the operation between variable and value\n",
        "\n",
        "y = x / 60\n",
        "y"
      ]
    },
    {
      "cell_type": "markdown",
      "metadata": {
        "id": "46RIbhthvFjL"
      },
      "source": [
        "<p>If we save a value to an existing variable, the new value will overwrite the previous value:</p>"
      ]
    },
    {
      "cell_type": "code",
      "execution_count": null,
      "metadata": {
        "id": "n7hsDxxsvFjN"
      },
      "outputs": [],
      "source": [
        "# Overwrite variable with new value\n",
        "\n",
        "x = x / 60\n",
        "x"
      ]
    },
    {
      "cell_type": "markdown",
      "metadata": {
        "id": "vNBCBGbfvFjT"
      },
      "source": [
        "<p>It's a good practice to use meaningful variable names, so you and others can read the code and understand it more easily:</p>"
      ]
    },
    {
      "cell_type": "code",
      "execution_count": null,
      "metadata": {
        "id": "QT4q4YzSvFjU"
      },
      "outputs": [],
      "source": [
        "# Name the variables meaningfully\n",
        "\n",
        "total_min = 43 + 42 + 57 # Total length of albums in minutes\n",
        "total_min"
      ]
    },
    {
      "cell_type": "code",
      "execution_count": null,
      "metadata": {
        "id": "w-C3_n1TvFja"
      },
      "outputs": [],
      "source": [
        "# Name the variables meaningfully\n",
        "\n",
        "total_hours = total_min / 60 # Total length of albums in hours\n",
        "total_hours"
      ]
    },
    {
      "cell_type": "markdown",
      "metadata": {
        "id": "zWf28ynmvFjf"
      },
      "source": [
        "<p>In the cells above we added the length of three albums in minutes and stored it in <code>total_min</code>. We then divided it by 60 to calculate total length <code>total_hours</code> in hours. You can also do it all at once in a single expression, as long as you use parenthesis to add the albums length before you divide, as shown below.</p>"
      ]
    },
    {
      "cell_type": "code",
      "execution_count": null,
      "metadata": {
        "id": "pa3s73ruvFjf"
      },
      "outputs": [],
      "source": [
        "# Complicate expression\n",
        "\n",
        "total_hours = (43 + 42 + 57) / 60  # Total hours in a single expression\n",
        "total_hours"
      ]
    },
    {
      "cell_type": "markdown",
      "metadata": {
        "id": "RGPFt3egvFjk"
      },
      "source": [
        "<p>If you'd rather have total hours as an integer, you can of course replace the floating point division with integer division (i.e., <code>//</code>).</p>"
      ]
    },
    {
      "cell_type": "markdown",
      "metadata": {
        "id": "fwJLt0tTvFjl"
      },
      "source": [
        "<h3 id=\"exer_exp_var\">Exercise: Expression and Variables in Python</h3>"
      ]
    },
    {
      "cell_type": "markdown",
      "metadata": {
        "id": "ViRHFMr3vFjl"
      },
      "source": [
        "<p>What is the value of <code>x</code> where <code>x = 3 + 2 * 2</code></p>"
      ]
    },
    {
      "cell_type": "code",
      "execution_count": null,
      "metadata": {
        "id": "pneV0xicvFjm"
      },
      "outputs": [],
      "source": [
        "# Write your code below. Don't forget to press Shift+Enter to execute the cell"
      ]
    },
    {
      "cell_type": "markdown",
      "metadata": {
        "id": "atZYnbw8vFjs"
      },
      "source": [
        "Double-click __here__ for the solution.\n",
        "\n",
        "<!-- Your answer is below:\n",
        "7\n",
        "-->\n"
      ]
    },
    {
      "cell_type": "markdown",
      "metadata": {
        "id": "lPnkm7p9vFjt"
      },
      "source": [
        "<p>What is the value of <code>y</code> where <code>y = (3 + 2) * 2</code>?</p>"
      ]
    },
    {
      "cell_type": "code",
      "execution_count": null,
      "metadata": {
        "id": "-OgU0USpvFju"
      },
      "outputs": [],
      "source": [
        "# Write your code below. Don't forget to press Shift+Enter to execute the cell"
      ]
    },
    {
      "cell_type": "markdown",
      "metadata": {
        "id": "83UMIJREvFj0"
      },
      "source": [
        "Double-click __here__ for the solution.\n",
        "\n",
        "<!-- Your answer is below:\n",
        "10\n",
        "-->"
      ]
    },
    {
      "cell_type": "markdown",
      "metadata": {
        "id": "81IyehWIvFj2"
      },
      "source": [
        "<p>What is the value of <code>z</code> where <code>z = x + y</code>?</p>"
      ]
    },
    {
      "cell_type": "code",
      "execution_count": null,
      "metadata": {
        "id": "ps0YS9ApvFj3"
      },
      "outputs": [],
      "source": [
        "# Write your code below. Don't forget to press Shift+Enter to execute the cell"
      ]
    },
    {
      "cell_type": "markdown",
      "metadata": {
        "id": "bcLWGOZd8OM9"
      },
      "source": [
        "# What are conditional statements? Why do we need them?"
      ]
    },
    {
      "cell_type": "markdown",
      "metadata": {
        "id": "b-zThxyy8OM-"
      },
      "source": [
        "## `if` Statements\n",
        "- Enables logical branching and recoding of data.\n",
        "- BUT, `if statements` can result in long code branches, repeated code.\n",
        "- Best to keep if statements short.\n",
        "- Keep in mind the [Zen of Python](https://www.python.org/dev/peps/pep-0020/) when writing if statements.  "
      ]
    },
    {
      "cell_type": "markdown",
      "metadata": {
        "id": "Ui0RuTbl8OM-"
      },
      "source": [
        "## Conditional Statements and Indentation\n",
        "- The syntax for control structures in Python use _colons_ and _indentation_.\n",
        "- Beware that indentation affects flow.\n",
        "- `if` statemenet enable logic.\n",
        "- `elif` give additional conditions.\n",
        "- `else` gives what to do if other conditions are not met."
      ]
    },
    {
      "cell_type": "code",
      "execution_count": null,
      "metadata": {
        "id": "Ob_hl1vB8OM_",
        "outputId": "c9b1edbe-263e-44bf-e2e3-59803a85b51f"
      },
      "outputs": [
        {
          "name": "stdout",
          "output_type": "stream",
          "text": [
            "x is strictly positive\n",
            "3\n",
            "Finished. 3 5\n"
          ]
        },
        {
          "data": {
            "text/plain": [
              "3"
            ]
          },
          "execution_count": 1,
          "metadata": {},
          "output_type": "execute_result"
        }
      ],
      "source": [
        "y = 5\n",
        "x = 3\n",
        "if x > 0:\n",
        "    print ('x is strictly positive')\n",
        "    print (x)\n",
        "print ('Finished.', x, y)\n",
        "x"
      ]
    },
    {
      "cell_type": "code",
      "execution_count": null,
      "metadata": {
        "id": "BSpYzExb8ONC",
        "outputId": "83c1eb28-e49a-40cc-f172-abd4c9853654"
      },
      "outputs": [
        {
          "name": "stdout",
          "output_type": "stream",
          "text": [
            "x is greater than 0\n",
            "& y is equal 0\n",
            "x:  1\n",
            "Finished.\n"
          ]
        }
      ],
      "source": [
        "x = 1\n",
        "y = 0\n",
        "if x > 0:\n",
        "    print ('x is greater than 0')\n",
        "    if y > 0:\n",
        "        print ('& y is also greater than 0')\n",
        "    elif y<0:\n",
        "        print ('& y is  0')\n",
        "    else:\n",
        "        print ('& y is equal 0')\n",
        "print (\"x: \",x)\n",
        "print ('Finished.')"
      ]
    },
    {
      "cell_type": "code",
      "execution_count": null,
      "metadata": {
        "id": "pQSbh2UM8OND",
        "outputId": "56310206-7336-49ba-929d-04e49dbf67e6"
      },
      "outputs": [
        {
          "data": {
            "text/plain": [
              "True"
            ]
          },
          "execution_count": 10,
          "metadata": {},
          "output_type": "execute_result"
        }
      ],
      "source": [
        "x > 0"
      ]
    },
    {
      "cell_type": "code",
      "execution_count": null,
      "metadata": {
        "id": "pEXva8cq8ONE",
        "outputId": "4ffd8890-9993-4d85-ac17-578707007f1e"
      },
      "outputs": [
        {
          "data": {
            "text/plain": [
              "True"
            ]
          },
          "execution_count": 11,
          "metadata": {},
          "output_type": "execute_result"
        }
      ],
      "source": [
        "x != 5 or"
      ]
    },
    {
      "cell_type": "code",
      "execution_count": null,
      "metadata": {
        "id": "Scm5GfJN8ONE",
        "outputId": "ec4dfd73-0135-42fb-d20c-251865b446f1"
      },
      "outputs": [
        {
          "data": {
            "text/plain": [
              "5"
            ]
          },
          "execution_count": 15,
          "metadata": {},
          "output_type": "execute_result"
        }
      ],
      "source": [
        "x=5\n",
        "x"
      ]
    },
    {
      "cell_type": "markdown",
      "metadata": {
        "id": "dk53yFFb8ONF"
      },
      "source": [
        "## Python Logic and Conditions\n",
        "- Less than\t<\n",
        "- Greater than\t\t>\n",
        "- Less than or equal\t≤\t<=\n",
        "- Greater than or equal >=\n",
        "- Equals\t==\n",
        "- Not equal\t!=\n",
        "- `and` can be used to put multiple logical expressions together.\n",
        "- `or` can be used to put multiple logical expressions together."
      ]
    },
    {
      "cell_type": "code",
      "execution_count": null,
      "metadata": {
        "id": "QlJpTGGY8ONG",
        "outputId": "0b3f27aa-6c1f-472c-c865-823ba05bad16"
      },
      "outputs": [
        {
          "name": "stdout",
          "output_type": "stream",
          "text": [
            "y is greater than 0\n"
          ]
        }
      ],
      "source": [
        "x = -1\n",
        "y = 1\n",
        "if x >= 0 and y >= 0:\n",
        "    print ('x and y are greater than 0 or 0')\n",
        "elif  x >= 0 or y >= 0:\n",
        "    if x > 0:\n",
        "        print ('x is greater than 0')\n",
        "    else:\n",
        "        print ('y is greater than 0')\n",
        "else:\n",
        "    print ('neither x nor y greater than 0')\n"
      ]
    },
    {
      "cell_type": "markdown",
      "metadata": {
        "id": "5dPd5FA68ONG"
      },
      "source": [
        "## Python Conditionals (Alt Syntax)\n",
        "- Clean syntax doesn't get complex branching\n",
        "- Python ternary conditional operator `(falseValue, trueValue)[<logicalTest>]`\n",
        "- Lambda Functions as if statement."
      ]
    },
    {
      "cell_type": "code",
      "execution_count": null,
      "metadata": {
        "id": "7I5W4_bO8ONG",
        "outputId": "b8f9ae92-31ac-495b-dcf8-01ddba56df02"
      },
      "outputs": [
        {
          "name": "stdout",
          "output_type": "stream",
          "text": [
            "0\n"
          ]
        }
      ],
      "source": [
        "x=0\n",
        "z = 5 if x > 0 else 0\n",
        "print(z)"
      ]
    },
    {
      "cell_type": "code",
      "execution_count": null,
      "metadata": {
        "id": "lc7Xe40_8ONH",
        "outputId": "be995a81-4530-4bba-c2b7-d5232b960564"
      },
      "outputs": [
        {
          "name": "stdout",
          "output_type": "stream",
          "text": [
            "5\n"
          ]
        }
      ],
      "source": [
        "# This is a form of if statement called ternary conditional operator\n",
        "x=1\n",
        "#The first value is the value if the conditional is false\n",
        "z=(0, 5)[x>0]\n",
        "print(z)"
      ]
    },
    {
      "cell_type": "markdown",
      "metadata": {
        "id": "thUOHcll9Q6h"
      },
      "source": [
        "## <font color=\"red\">Python Primitive Data Types</font>\n",
        "\n",
        "- Data types are the classification or categorization of data items.\n",
        "- Data types represent a kind of value which determines what operations can be performed on that data.\n",
        "- Every value in Python has a datatype.\n",
        "\n",
        "Python has four primitive data types:\n",
        "\n",
        "* Integer\n",
        "* Float\n",
        "* Boolean\n",
        "* String\n",
        "\n",
        "We will cover the above data types in addition to complex numbers."
      ]
    },
    {
      "cell_type": "markdown",
      "metadata": {
        "id": "9h6FsPTA9Q6i"
      },
      "source": [
        "## <font color=\"red\">Concept of Variables in Python</font>\n",
        "\n",
        "#### What are variables?\n",
        "\n",
        "* Variables are the most important aspect of any programming language.\n",
        "* Variables are nothing but reserved memory locations to store values. This means that when you create a variable you reserve some space in memory.\n",
        "* Python variables do not need explicit declaration to reserve memory space.\n",
        "   * The declaration happens automatically when you assign a value to a variable.\n",
        "   * The equal sign (`=`) is used to assign values to variables.\n",
        "   * Based on the data type of a variable, the Python interpreter allocates memory and decides what can be stored in the reserved memory.\n",
        "   * A variable can change its type over the course of the program's execution.\n",
        "   * By assigning different data types to variables, you can store integers, decimals or characters in these variables.\n",
        "\n",
        "#### Basic rules for creating variables\n",
        "It is important to have in mind the following rules when creating variables:\n",
        "- The name of a variable cannot start with a number. It needs to start with either an alphabet or the underscore character.\n",
        "- Variable names are case sensitive.\n",
        "- Reserved words cannot be used as variable names.\n",
        "\n"
      ]
    },
    {
      "cell_type": "markdown",
      "metadata": {
        "id": "MknnM-549Q6j"
      },
      "source": [
        "## <font color=\"red\"> Integers </font>"
      ]
    },
    {
      "cell_type": "markdown",
      "metadata": {
        "id": "1cEpSq8B9Q6k"
      },
      "source": [
        "* An integer is a whole number that could hold a zero, positive or negative value.\n",
        "* Integers can be of any length, it is only limited by the memory available."
      ]
    },
    {
      "cell_type": "code",
      "execution_count": null,
      "metadata": {
        "id": "pu8XtRSC9Q6l"
      },
      "outputs": [],
      "source": [
        "a = 12345678901234567890123456789012345678901234567890\n",
        "print(a)"
      ]
    },
    {
      "cell_type": "code",
      "execution_count": null,
      "metadata": {
        "id": "9mcNsQJN9Q6n"
      },
      "outputs": [],
      "source": [
        "b = a + 11\n",
        "print(b)"
      ]
    },
    {
      "cell_type": "markdown",
      "metadata": {
        "id": "oFvAuKTc9Q6v"
      },
      "source": [
        "- The underlying type of a Python integer, irrespective of the base used to specify it, is called `int`.\n",
        "- We can use the `type()` function to determine the type of any Python data item."
      ]
    },
    {
      "cell_type": "code",
      "execution_count": null,
      "metadata": {
        "id": "zP5-FqVK9Q6w"
      },
      "outputs": [],
      "source": [
        "type(10)"
      ]
    },
    {
      "cell_type": "code",
      "execution_count": null,
      "metadata": {
        "id": "-e5edC019Q6x"
      },
      "outputs": [],
      "source": [
        "type(b)"
      ]
    },
    {
      "cell_type": "markdown",
      "metadata": {
        "id": "-txBjz0K9Q6y"
      },
      "source": [
        "- We can also use the `isinstance()` function to check if a data item belongs to a particular data type."
      ]
    },
    {
      "cell_type": "code",
      "execution_count": null,
      "metadata": {
        "id": "Ufeb8mNt9Q6y"
      },
      "outputs": [],
      "source": [
        "a = 12345678901234567890123456789012345678901234567890\n",
        "print(a, \"is of type\", type(a))\n",
        "print(a, \"is integer?\", isinstance(a, int))"
      ]
    },
    {
      "cell_type": "markdown",
      "metadata": {
        "id": "Gvff-1519Q6z"
      },
      "source": [
        "### Integer Arithmetic"
      ]
    },
    {
      "cell_type": "markdown",
      "metadata": {
        "id": "LhZmgAbW9Q6z"
      },
      "source": [
        "In Python, __variables are not declared__. The type of a variable is determined when it is assigned a value."
      ]
    },
    {
      "cell_type": "markdown",
      "metadata": {
        "id": "1zUCsuHx9Q6z"
      },
      "source": [
        "#### <font color=\"blue\">Example 1</font>"
      ]
    },
    {
      "cell_type": "code",
      "execution_count": null,
      "metadata": {
        "id": "jfCCfrIR9Q60"
      },
      "outputs": [],
      "source": [
        "a = 1\n",
        "b = 2\n",
        "c = 3\n",
        "d = 4\n",
        "e = 5\n",
        "f = 6\n",
        "g = 7\n",
        "h = 8"
      ]
    },
    {
      "cell_type": "code",
      "execution_count": null,
      "metadata": {
        "id": "GKSNV50_9Q60"
      },
      "outputs": [],
      "source": [
        "print(a + b)"
      ]
    },
    {
      "cell_type": "code",
      "execution_count": null,
      "metadata": {
        "id": "WpIzZQwo9Q61"
      },
      "outputs": [],
      "source": [
        "print(c - d)"
      ]
    },
    {
      "cell_type": "code",
      "execution_count": null,
      "metadata": {
        "id": "DozJ0f_V9Q62"
      },
      "outputs": [],
      "source": [
        "print(e * f)"
      ]
    },
    {
      "cell_type": "code",
      "execution_count": null,
      "metadata": {
        "id": "ldXrDLSn9Q63"
      },
      "outputs": [],
      "source": [
        "print(g / h)"
      ]
    },
    {
      "cell_type": "markdown",
      "metadata": {
        "id": "G6f_8EDI9Q65"
      },
      "source": [
        "**What do you see in the operation `g / h`?**\n",
        "- In Python the symbol `/` is used for floating point division.\n",
        "- For integer division, use instead `//`."
      ]
    },
    {
      "cell_type": "markdown",
      "metadata": {
        "id": "0RtJzL3E9Q65"
      },
      "source": [
        "#### <font color=\"blue\">Example 2</font>"
      ]
    },
    {
      "cell_type": "code",
      "execution_count": null,
      "metadata": {
        "id": "Iyce8vj-9Q65"
      },
      "outputs": [],
      "source": [
        "x = 17\n",
        "y = 3"
      ]
    },
    {
      "cell_type": "code",
      "execution_count": null,
      "metadata": {
        "id": "IzSZUUb39Q7R"
      },
      "outputs": [],
      "source": [
        "print(x /  y)  # gives 5.66666666667"
      ]
    },
    {
      "cell_type": "code",
      "execution_count": null,
      "metadata": {
        "id": "cQ9bbC4M9Q7S"
      },
      "outputs": [],
      "source": [
        "print(x // y)  # gives 5"
      ]
    },
    {
      "cell_type": "code",
      "execution_count": null,
      "metadata": {
        "id": "1U2ac5ty9Q7S"
      },
      "outputs": [],
      "source": [
        "print(x %  y)   # gives 2"
      ]
    },
    {
      "cell_type": "markdown",
      "metadata": {
        "id": "OAbdAmoB9Q7S"
      },
      "source": [
        "### <font color=\"purple\"> Going Deeper with Integers</font>\n",
        "\n",
        "The following strings can be prepended to an integer value to indicate a base other than 10:\n",
        "\n",
        "| Prefix |\tInterpretation\t| Base |\n",
        "| --- | --- | --- |\n",
        "| 0b (zero + lowercase letter 'b') | Binary| \t2|\n",
        "| 0B (zero + uppercase letter 'B')|\n",
        "| 0o (zero + lowercase letter 'o')|  Octal| \t8|\n",
        "| 0O (zero + uppercase letter 'O')|\n",
        "| 0x (zero + lowercase letter 'x')|  Hexadecimal| \t16|\n",
        "| 0X (zero + uppercase letter 'X')|"
      ]
    },
    {
      "cell_type": "markdown",
      "metadata": {
        "id": "nps67bgx9Q7T"
      },
      "source": [
        "Octal numbers:"
      ]
    },
    {
      "cell_type": "code",
      "execution_count": null,
      "metadata": {
        "id": "8Xd010Wt9Q7T"
      },
      "outputs": [],
      "source": [
        "a = 0o10"
      ]
    },
    {
      "cell_type": "code",
      "execution_count": null,
      "metadata": {
        "id": "LNrFeS729Q7U"
      },
      "outputs": [],
      "source": [
        "print(f\"Value: {a} \\n Type: {type(a)}\")"
      ]
    },
    {
      "cell_type": "markdown",
      "metadata": {
        "id": "bAbODVK09Q7U"
      },
      "source": [
        "Hexadecimal numbers:"
      ]
    },
    {
      "cell_type": "code",
      "execution_count": null,
      "metadata": {
        "id": "7ocW5mcp9Q7U"
      },
      "outputs": [],
      "source": [
        "b = 0x10"
      ]
    },
    {
      "cell_type": "code",
      "execution_count": null,
      "metadata": {
        "id": "8BF2lf_G9Q7V"
      },
      "outputs": [],
      "source": [
        "print(f\"Value: {b} \\n Type: {type(b)}\")"
      ]
    },
    {
      "cell_type": "markdown",
      "metadata": {
        "id": "QLbrs5h49Q7V"
      },
      "source": [
        "Binary numbers:"
      ]
    },
    {
      "cell_type": "code",
      "execution_count": null,
      "metadata": {
        "id": "RNdsWYgQ9Q7V"
      },
      "outputs": [],
      "source": [
        "c = 0b001"
      ]
    },
    {
      "cell_type": "code",
      "execution_count": null,
      "metadata": {
        "id": "v27bYQLD9Q7V"
      },
      "outputs": [],
      "source": [
        "print(f\"Value: {c} \\n Type: {type(c)}\")"
      ]
    },
    {
      "cell_type": "markdown",
      "metadata": {
        "id": "iJ5c5G3G9Q7Y"
      },
      "source": [
        "## <font color=\"red\">Floating Point Numbers </font>\n",
        "\n",
        "* The float type in Python designates a floating-point number.\n",
        "* Float values are specified with a decimal point.\n",
        "* A floating-point number is accurate up to 15 decimal places.\n",
        "* The character e or E followed by a positive or negative integer may be appended to specify scientific notation."
      ]
    },
    {
      "cell_type": "code",
      "execution_count": null,
      "metadata": {
        "id": "sLjW8TEW9Q7e"
      },
      "outputs": [],
      "source": [
        "7.94"
      ]
    },
    {
      "cell_type": "code",
      "execution_count": null,
      "metadata": {
        "id": "Ok0YFl1s9Q7f"
      },
      "outputs": [],
      "source": [
        "type(7.94)"
      ]
    },
    {
      "cell_type": "code",
      "execution_count": null,
      "metadata": {
        "id": "nF4F88dn9Q7f"
      },
      "outputs": [],
      "source": [
        ".56"
      ]
    },
    {
      "cell_type": "code",
      "execution_count": null,
      "metadata": {
        "id": "AzhO7gdu9Q7g"
      },
      "outputs": [],
      "source": [
        "56."
      ]
    },
    {
      "cell_type": "code",
      "execution_count": null,
      "metadata": {
        "id": "DX3I7J2a9Q7g"
      },
      "outputs": [],
      "source": [
        "2.6e-5"
      ]
    },
    {
      "cell_type": "code",
      "execution_count": null,
      "metadata": {
        "id": "aKGnr_mP9Q7h"
      },
      "outputs": [],
      "source": [
        "a = 0.1234567890123456789\n",
        "print(a, \"is of type\", type(a))\n",
        "print(a, \"is float?\", isinstance(a, float))"
      ]
    },
    {
      "cell_type": "markdown",
      "metadata": {
        "id": "hOC-vh5F9Q7h"
      },
      "source": [
        "* Floating point numbers are represented internally as binary (base-2) fractions.\n",
        "* Most decimal fractions cannot be represented exactly as binary fractions, so in most cases the internal representation of a floating-point number is an approximation of the actual value."
      ]
    },
    {
      "cell_type": "markdown",
      "metadata": {
        "id": "gW2S_zJB9Q7h"
      },
      "source": [
        "#### Operations on Floats"
      ]
    },
    {
      "cell_type": "code",
      "execution_count": null,
      "metadata": {
        "id": "uAiNAo_a9Q7i"
      },
      "outputs": [],
      "source": [
        "print(int(1.3))   # gives 1\n",
        "print(int(1.7))   # gives 1\n",
        "print(int(-1.3))  # gives -1\n",
        "print(int(-1.7))  # gives -1"
      ]
    },
    {
      "cell_type": "markdown",
      "metadata": {
        "id": "Le6FVHpG9Q7i"
      },
      "source": [
        "The `round()` function returns a floating-point number rounded to the specified number of decimals.\n",
        "\n",
        "```python\n",
        "   round(float_number [, ndigits])\n",
        "```\n",
        "\n",
        "It takes two parameters:\n",
        "\n",
        "+ **float_number** - the floating point number to be rounded\n",
        "+ **ndigits (optional)** - number up to which the given number is rounded; defaults to 0.\n",
        "\n",
        "Things to consider:\n",
        "\n",
        "- If `ndigits` is not provided, the returned value is the nearest integer.\n",
        "- If `ndigits` is present, it will round to the number of places given. The return type will be a float.\n",
        "- The returned value will be rounded to `+1` if the value after the decimal point is `>=5` else it will return the value as it is up to the decimal places mentioned"
      ]
    },
    {
      "cell_type": "markdown",
      "metadata": {
        "id": "IqVs4IVV9Q7i"
      },
      "source": [
        "#### <font color=\"blue\">Example 3</font>\n",
        "\n",
        "Consider the positive floating point numbers:"
      ]
    },
    {
      "cell_type": "code",
      "execution_count": null,
      "metadata": {
        "id": "DZWQj3Ks9Q7i"
      },
      "outputs": [],
      "source": [
        "float_num1 = 10.60\n",
        "float_num2 = 10.40\n",
        "float_num3 = 10.3456\n",
        "float_num4 = 10.3445"
      ]
    },
    {
      "cell_type": "markdown",
      "metadata": {
        "id": "AncQ3ssv9Q7i"
      },
      "source": [
        "Let us perform various rounding operations:"
      ]
    },
    {
      "cell_type": "code",
      "execution_count": null,
      "metadata": {
        "id": "7gnhGK4Y9Q7i"
      },
      "outputs": [],
      "source": [
        "print(\"Rounded value without num_of_decimals:\", round(float_num1))"
      ]
    },
    {
      "cell_type": "code",
      "execution_count": null,
      "metadata": {
        "id": "8HZSEs1E9Q7j"
      },
      "outputs": [],
      "source": [
        "print(\"Rounded value without num_of_decimals:\", round(float_num2))"
      ]
    },
    {
      "cell_type": "code",
      "execution_count": null,
      "metadata": {
        "id": "_6xDjiKr9Q7j"
      },
      "outputs": [],
      "source": [
        "print(\"Rounded value with num_of_decimals as 2:\", round(float_num3, 2))"
      ]
    },
    {
      "cell_type": "code",
      "execution_count": null,
      "metadata": {
        "id": "cHaQX-v79Q7j"
      },
      "outputs": [],
      "source": [
        "print(\"Rounded value with num_of_decimals as 2:\", round(float_num4, 2))"
      ]
    },
    {
      "cell_type": "markdown",
      "metadata": {
        "id": "GFcYzGS99Q7j"
      },
      "source": [
        "#### <font color=\"blue\">Example 4</font>\n",
        "\n",
        "Let us see a few examples of how rounding works on negative numbers:"
      ]
    },
    {
      "cell_type": "code",
      "execution_count": null,
      "metadata": {
        "id": "zInuU1Qt9Q7k"
      },
      "outputs": [],
      "source": [
        "num = -2.8\n",
        "num1 = -1.5"
      ]
    },
    {
      "cell_type": "code",
      "execution_count": null,
      "metadata": {
        "id": "ON-ImQbh9Q7k"
      },
      "outputs": [],
      "source": [
        "print(\"The value after rounding is\", round(num))"
      ]
    },
    {
      "cell_type": "code",
      "execution_count": null,
      "metadata": {
        "id": "-_saUfWY9Q7k"
      },
      "outputs": [],
      "source": [
        "print(\"The value after rounding is\", round(num1))"
      ]
    },
    {
      "cell_type": "markdown",
      "metadata": {
        "id": "Z8KS7UVS9Q7l"
      },
      "source": [
        "## <font color=\"red\">Complex Numbers</font>"
      ]
    },
    {
      "cell_type": "markdown",
      "metadata": {
        "id": "Nh1lisOH9Q7l"
      },
      "source": [
        "- A complex number consists of an ordered pair of real floating point numbers denoted by `a + bj`, where `a` is the real part and `b` is the imaginary part of the complex number."
      ]
    },
    {
      "cell_type": "code",
      "execution_count": null,
      "metadata": {
        "id": "8KsNbiq99Q7l"
      },
      "outputs": [],
      "source": [
        "3.0 + 9j"
      ]
    },
    {
      "cell_type": "code",
      "execution_count": null,
      "metadata": {
        "id": "giMwGUOg9Q7l"
      },
      "outputs": [],
      "source": [
        "type(3.0+9j)"
      ]
    },
    {
      "cell_type": "markdown",
      "metadata": {
        "id": "jQqfOwZ59Q7l"
      },
      "source": [
        "#### <font color=\"blue\">Example 5</font>"
      ]
    },
    {
      "cell_type": "code",
      "execution_count": null,
      "metadata": {
        "id": "AtUvXCXx9Q7l"
      },
      "outputs": [],
      "source": [
        "a = complex(3.0,9)\n",
        "b = complex(1,2)"
      ]
    },
    {
      "cell_type": "code",
      "execution_count": null,
      "metadata": {
        "id": "U9htmN9i9Q7m"
      },
      "outputs": [],
      "source": [
        "print(\"a =                 \", a)\n",
        "print('Real Part =         ', a.real)\n",
        "print('Imaginary Part =    ', a.imag)\n",
        "print('Complex conjugate = ', a.conjugate())"
      ]
    },
    {
      "cell_type": "code",
      "execution_count": null,
      "metadata": {
        "id": "hkLIfvae9Q7m"
      },
      "outputs": [],
      "source": [
        "print (\"a*a= \",a*a)\n",
        "print (\"a/b= \",a/b)\n",
        "print (\"a*b= \",a*b)"
      ]
    },
    {
      "cell_type": "markdown",
      "metadata": {
        "id": "7-bemVME9Q7w"
      },
      "source": [
        "## <font color=\"red\">Booleans</font>"
      ]
    },
    {
      "cell_type": "markdown",
      "metadata": {
        "id": "_Phh5bvE9Q7w"
      },
      "source": [
        "* The python data type `bool` is used to store two values i.e `True` and `False`.\n",
        "* Booleans are used to test whether the result of an expression is true or false."
      ]
    },
    {
      "cell_type": "code",
      "execution_count": null,
      "metadata": {
        "id": "5KfUsrIb9Q7w"
      },
      "outputs": [],
      "source": [
        "true=True\n",
        "print(type(true))\n",
        "true=123\n",
        "type(true)"
      ]
    },
    {
      "cell_type": "code",
      "execution_count": null,
      "metadata": {
        "id": "G46g6NlI9Q7x"
      },
      "outputs": [],
      "source": [
        "type(False)"
      ]
    },
    {
      "cell_type": "markdown",
      "metadata": {
        "id": "IsuPA27j9Q7x"
      },
      "source": [
        "- A Boolean expression is an expression that evaluates to produce a result which is a Boolean value.\n",
        "- We can store a Boolean value in a variable:"
      ]
    },
    {
      "cell_type": "code",
      "execution_count": null,
      "metadata": {
        "id": "qnkEpm-79Q7z"
      },
      "outputs": [],
      "source": [
        "my_bool = 5 > 8"
      ]
    },
    {
      "cell_type": "markdown",
      "metadata": {
        "id": "zNxmIG8_9Q7z"
      },
      "source": [
        "and then print the Boolean value with a call to the `print()` function:"
      ]
    },
    {
      "cell_type": "code",
      "execution_count": null,
      "metadata": {
        "id": "W2_NRs2K9Q71"
      },
      "outputs": [],
      "source": [
        "print(my_bool)"
      ]
    },
    {
      "cell_type": "markdown",
      "metadata": {
        "id": "3H26wsqK9Q71"
      },
      "source": [
        "To check the boolean value of an expression or a variable, pass it as a parameter to the bool function:\n",
        "\n",
        "```python\n",
        "   print(bool(expression))\n",
        "```\n",
        "\n",
        "or\n",
        "\n",
        "```python\n",
        "   print(expression)\n",
        "```"
      ]
    },
    {
      "cell_type": "markdown",
      "metadata": {
        "id": "_aM2K4bk9Q73"
      },
      "source": [
        "Booleans can be used when there is a need to compare two or more values.\n",
        "\n",
        "```python\n",
        "   x == y    # x is equal to y\n",
        "   x != y    # x is not equal to y\n",
        "   x > y     # x is greater than y\n",
        "   x < y     # x is less than y\n",
        "   x >= y    # x is greater than or equal to y\n",
        "   x <= y    # x is less than or equal to y\n",
        "```"
      ]
    },
    {
      "cell_type": "markdown",
      "metadata": {
        "id": "DCoCzijt9Q74"
      },
      "source": [
        "Check if x and y are equal:"
      ]
    },
    {
      "cell_type": "code",
      "execution_count": null,
      "metadata": {
        "id": "xlDTgJnr9Q74"
      },
      "outputs": [],
      "source": [
        "print(3==4)\n",
        "print(bool(3==4))"
      ]
    },
    {
      "cell_type": "markdown",
      "metadata": {
        "id": "1WYPhR169Q74"
      },
      "source": [
        "Check if x and y are not equal:"
      ]
    },
    {
      "cell_type": "code",
      "execution_count": null,
      "metadata": {
        "id": "39RJkDKf9Q75"
      },
      "outputs": [],
      "source": [
        "print(3!=4)\n",
        "print(bool(3!=4))"
      ]
    },
    {
      "cell_type": "markdown",
      "metadata": {
        "id": "ViFlkaEs9Q75"
      },
      "source": [
        "Check if x is greater than y:"
      ]
    },
    {
      "cell_type": "code",
      "execution_count": null,
      "metadata": {
        "id": "i0VJe4f-9Q75"
      },
      "outputs": [],
      "source": [
        "print(3>4)\n",
        "print(bool(3>4))"
      ]
    },
    {
      "cell_type": "markdown",
      "metadata": {
        "id": "qXcjW6Y99Q76"
      },
      "source": [
        "Check if x is less than y:"
      ]
    },
    {
      "cell_type": "code",
      "execution_count": null,
      "metadata": {
        "id": "H3qQQEzr9Q77"
      },
      "outputs": [],
      "source": [
        "print(3<4)\n",
        "print(bool(3<4))"
      ]
    },
    {
      "cell_type": "markdown",
      "metadata": {
        "id": "FFhJSzAo9Q77"
      },
      "source": [
        "Check if x is greater than or equal to y:"
      ]
    },
    {
      "cell_type": "code",
      "execution_count": null,
      "metadata": {
        "id": "_WKFT8yM9Q78"
      },
      "outputs": [],
      "source": [
        "print(3>=4)\n",
        "print(bool(3>=4))"
      ]
    },
    {
      "cell_type": "markdown",
      "metadata": {
        "id": "j-oySvNe9Q79"
      },
      "source": [
        "Check if x is less than equal to y:"
      ]
    },
    {
      "cell_type": "code",
      "execution_count": null,
      "metadata": {
        "id": "_sJr-NO79Q79"
      },
      "outputs": [],
      "source": [
        "print(3<=4)\n",
        "print(bool(3<=4))"
      ]
    },
    {
      "cell_type": "markdown",
      "metadata": {
        "id": "uDODzLRC9Q79"
      },
      "source": [
        "## <font color=\"red\">Strings</font>"
      ]
    },
    {
      "cell_type": "markdown",
      "metadata": {
        "id": "3SUlCqd79Q7-"
      },
      "source": [
        "* Strings are sequences of character data.\n",
        "* The string type in Python is called str.\n",
        "* String literals may be delimited using either single or double quotes.\n",
        "* All the characters between the opening delimiter and matching closing delimiter are part of the string.\n",
        "* <font color='blue'>Are immutable</font>."
      ]
    },
    {
      "cell_type": "code",
      "execution_count": null,
      "metadata": {
        "id": "VVD2X4rY9Q7_"
      },
      "outputs": [],
      "source": [
        "print(\"Welcome to the Python Camp!\")"
      ]
    },
    {
      "cell_type": "code",
      "execution_count": null,
      "metadata": {
        "id": "kNipKJxk9Q7_"
      },
      "outputs": [],
      "source": [
        "type(\"Welcome to the Python Camp!\")"
      ]
    },
    {
      "cell_type": "markdown",
      "metadata": {
        "id": "CGKPRTrD9Q8A"
      },
      "source": [
        "* A string in Python can contain as many characters as you wish.\n",
        "* The only limit is your machine’s memory resources."
      ]
    },
    {
      "cell_type": "code",
      "execution_count": null,
      "metadata": {
        "id": "AYU-2u0d9Q8A"
      },
      "outputs": [],
      "source": [
        "print(\"This string contains a single quote (') character.\")"
      ]
    },
    {
      "cell_type": "code",
      "execution_count": null,
      "metadata": {
        "id": "HY__iHjE9Q8A"
      },
      "outputs": [],
      "source": [
        "print('This string contains a double quote (\") character.')"
      ]
    },
    {
      "cell_type": "markdown",
      "metadata": {
        "id": "xWhNJVbE9Q8A"
      },
      "source": [
        "<b> Escape Sequences in Strings </b>"
      ]
    },
    {
      "cell_type": "code",
      "execution_count": null,
      "metadata": {
        "id": "EYAdO0zy9Q8B"
      },
      "outputs": [],
      "source": [
        "print('This string contains a single quote (\\'* character.')"
      ]
    },
    {
      "cell_type": "code",
      "execution_count": null,
      "metadata": {
        "id": "4FU_XBDU9Q8B"
      },
      "outputs": [],
      "source": [
        "print(\"This string contains a double quote (\\\") character.\")"
      ]
    },
    {
      "cell_type": "code",
      "execution_count": null,
      "metadata": {
        "id": "HtONFsb_9Q8B"
      },
      "outputs": [],
      "source": [
        "print('abc')\n",
        "print('a\\\n",
        "b\\\n",
        "c')"
      ]
    },
    {
      "cell_type": "code",
      "execution_count": null,
      "metadata": {
        "id": "V9Afyx5b9Q8B"
      },
      "outputs": [],
      "source": [
        "print('foo\\\\bar')"
      ]
    },
    {
      "cell_type": "markdown",
      "metadata": {
        "id": "C1CsW6UJ9Q8C"
      },
      "source": [
        "### <font color=\"purple\">Going Deeper: Applying Special Meaning to Characters</font>\n",
        "\n",
        "We want to represent escape sequences that are typically used to insert characters that are not readily generated from the keyboard or are not easily readable or printable.\n",
        "<P>\n",
        "Here is a list of escape sequences that cause Python to apply special meaning instead of interpreting literally:\n",
        "\n",
        "| Escape Sequence| “Escaped” Interpretation |\n",
        "| --- | --- |\n",
        "| \\a\t| ASCII Bell (BEL) character\n",
        "| \\b\t| ASCII Backspace (BS) character\n",
        "| \\f\t| ASCII Formfeed (FF) character\n",
        "| \\n\t| ASCII Linefeed (LF) character\n",
        "| \\N{<name>}| \tCharacter from Unicode database with given <name>\n",
        "| \\r\t| ASCII Carriage Return (CR) character\n",
        "| \\t\t| ASCII Horizontal Tab (TAB) character\n",
        "| \\uxxxx\t| Unicode character with 16-bit hex value xxxx\n",
        "| \\Uxxxxxxxx\t| Unicode character with 32-bit hex value xxxxxxxx\n",
        "| \\v\t| ASCII Vertical Tab (VT) character\n",
        "| \\ooo\t| Character with octal value ooo\n",
        "| \\xhh\t| Character with hex value hh"
      ]
    },
    {
      "cell_type": "code",
      "execution_count": null,
      "metadata": {
        "id": "pbU6Fm4D9Q8C"
      },
      "outputs": [],
      "source": [
        "print(\"a\\t\\t\\tb\")"
      ]
    },
    {
      "cell_type": "code",
      "execution_count": null,
      "metadata": {
        "id": "QinR9CtS9Q8C"
      },
      "outputs": [],
      "source": [
        "print(\"\\141\", \"\\x61\")"
      ]
    },
    {
      "cell_type": "code",
      "execution_count": null,
      "metadata": {
        "id": "7oJnfZJs9Q8D"
      },
      "outputs": [],
      "source": [
        "print(\"a\\n\\tb \")"
      ]
    },
    {
      "cell_type": "code",
      "execution_count": null,
      "metadata": {
        "id": "UfF-pzVX9Q8D"
      },
      "outputs": [],
      "source": [
        "print('\\u2192 \\N{rightwards arrow}')"
      ]
    },
    {
      "cell_type": "markdown",
      "metadata": {
        "id": "I6JIAZfP9Q8D"
      },
      "source": [
        "### Raw Strings\n",
        "\n",
        "- A raw string literal is preceded by `r` or `R`, which specifies that escape sequences in the associated string are not translated.\n",
        "- The backslash character is left in the string."
      ]
    },
    {
      "cell_type": "code",
      "execution_count": null,
      "metadata": {
        "id": "ZRrWdFoS9Q8D"
      },
      "outputs": [],
      "source": [
        "print('foo\\nbar')"
      ]
    },
    {
      "cell_type": "code",
      "execution_count": null,
      "metadata": {
        "id": "f3tE6Ejo9Q8E"
      },
      "outputs": [],
      "source": [
        "print(r'foo\\nbar')"
      ]
    },
    {
      "cell_type": "code",
      "execution_count": null,
      "metadata": {
        "id": "MtyxjYWV9Q8E"
      },
      "outputs": [],
      "source": [
        "print('foo\\\\bar')"
      ]
    },
    {
      "cell_type": "code",
      "execution_count": null,
      "metadata": {
        "id": "sbGnzrLE9Q8E"
      },
      "outputs": [],
      "source": [
        "print(R'foo\\\\bar')"
      ]
    },
    {
      "cell_type": "markdown",
      "metadata": {
        "id": "YxIUi7779Q8E"
      },
      "source": [
        "### Triple Quotes\n",
        "\n",
        "- Triple-quoted strings are delimited by matching groups of three single quotes (`''' '''`) or three double quotes(`\"\"\" \"\"\"`).\n",
        "- Escape sequences still work in triple-quoted strings, but single quotes, double quotes, and newlines can be included without escaping them.\n",
        "- Provide a convenient way to create a string with both single and double quotes in it.\n",
        "- They are used to document Python codes"
      ]
    },
    {
      "cell_type": "code",
      "execution_count": null,
      "metadata": {
        "id": "DGes2XK-9Q8E"
      },
      "outputs": [],
      "source": [
        "print('''This string has a single (') and a double (\") quote.''')"
      ]
    },
    {
      "cell_type": "code",
      "execution_count": null,
      "metadata": {
        "id": "kYiQmwEM9Q8F"
      },
      "outputs": [],
      "source": [
        "string1 = \"\"\"This is a\n",
        "string that spans\n",
        "\n",
        "across several lines\"\"\"\n",
        "print(string1)"
      ]
    },
    {
      "cell_type": "markdown",
      "metadata": {
        "id": "9ptGgdLG9Q8F"
      },
      "source": [
        "### Accessing Values in Strings\n",
        "- Python does not support a character type; these are treated as strings of length one, thus also considered a substring.\n",
        "- To access substrings, use the square brackets for slicing along with the index or indices to obtain your substring"
      ]
    },
    {
      "cell_type": "code",
      "execution_count": null,
      "metadata": {
        "id": "gBTwJh_M9Q8F"
      },
      "outputs": [],
      "source": [
        "astring1 = \"Welcome To the Python Camp!\"\n",
        "astring2 = \"A Training Course for Beginners.\""
      ]
    },
    {
      "cell_type": "code",
      "execution_count": null,
      "metadata": {
        "id": "ClAJegPP9Q8F"
      },
      "outputs": [],
      "source": [
        "print(astring1[3:10])"
      ]
    },
    {
      "cell_type": "code",
      "execution_count": null,
      "metadata": {
        "id": "UWIExyEd9Q8F"
      },
      "outputs": [],
      "source": [
        "print(astring1[3:15:1])"
      ]
    },
    {
      "cell_type": "code",
      "execution_count": null,
      "metadata": {
        "id": "wLSrNOQ-9Q8G"
      },
      "outputs": [],
      "source": [
        "print(astring1[3:15:2])"
      ]
    },
    {
      "cell_type": "code",
      "execution_count": null,
      "metadata": {
        "id": "twS5DxkQ9Q8G"
      },
      "outputs": [],
      "source": [
        "print(astring1[-2])"
      ]
    },
    {
      "cell_type": "markdown",
      "metadata": {
        "id": "3Hule_nI9Q8H"
      },
      "source": [
        "- Python allows to index from the zeroth position in Strings.\n",
        "- Python also supports negative indexes.\n",
        "- Index of ‘-1’ represents the last character of the String. Similarly, using ‘-2’, we can access the penultimate element of the string and so on.\n",
        "\n",
        "| P | Y | T | H | O | N | - | S | T | R | I | N | G |\n",
        "|---|---|---|---|---|---|---|---|---|---|---|---|---|\n",
        "| 0 | 1 | 2 | 3 | 4 | 5 | 6 | 7 | 8 | 9 |10 |11 |12 |\n",
        "|-13|-12|-11|-10|-9 |-8 |-7 |-6 |-5 |-4 |-3 |-2 |-1 |"
      ]
    },
    {
      "cell_type": "markdown",
      "metadata": {
        "id": "r7ivQ8Xv9Q8H"
      },
      "source": [
        "#### Checking if a sub-string is in a string"
      ]
    },
    {
      "cell_type": "code",
      "execution_count": null,
      "metadata": {
        "id": "9MOgOXki9Q8H"
      },
      "outputs": [],
      "source": [
        "print(\"Python\" in astring1)"
      ]
    },
    {
      "cell_type": "code",
      "execution_count": null,
      "metadata": {
        "id": "KDvzCLYS9Q8S"
      },
      "outputs": [],
      "source": [
        "print(\"python\" in astring1)"
      ]
    },
    {
      "cell_type": "code",
      "execution_count": null,
      "metadata": {
        "id": "xxGJxpXj9Q8T"
      },
      "outputs": [],
      "source": [
        "print(\"python\" not in astring1)"
      ]
    },
    {
      "cell_type": "markdown",
      "metadata": {
        "id": "os-MMaEI9Q8U"
      },
      "source": [
        "### <font color=\"purple\">Going Deeper: Updating Strings</font>\n",
        "- You cannot modify a string for a <font color=\"red\">**string is immutable**</font>.\n",
        "    - A data item is considered to be immutable if once it is created, it cannot be changed.\n",
        "- You can \"update\" an existing string by (re)assigning a variable to another string.\n",
        "- The new value can be related to its previous value or to a completely different string altogether."
      ]
    },
    {
      "cell_type": "markdown",
      "metadata": {
        "id": "ay6AUh029Q8V"
      },
      "source": [
        "We can use the `id()` function to obtain the identity of an object. The identity is a unique integer for that object during its lifetime. This is also the address of the object in memory."
      ]
    },
    {
      "cell_type": "code",
      "execution_count": null,
      "metadata": {
        "id": "6qdyKvSq9Q8V"
      },
      "outputs": [],
      "source": [
        "id_before_astring1 = id(astring1)\n",
        "print(id_before_astring1)"
      ]
    },
    {
      "cell_type": "code",
      "execution_count": null,
      "metadata": {
        "id": "XPAZ55AJ9Q8Y"
      },
      "outputs": [],
      "source": [
        "astring1[8] = 't'"
      ]
    },
    {
      "cell_type": "code",
      "execution_count": null,
      "metadata": {
        "id": "R5Qne26J9Q8Z"
      },
      "outputs": [],
      "source": [
        "astring1 = astring1[0:8]+'t'+astring1[9:]\n",
        "print(astring1)"
      ]
    },
    {
      "cell_type": "code",
      "execution_count": null,
      "metadata": {
        "id": "Pav5zBiQ9Q8Z"
      },
      "outputs": [],
      "source": [
        "id_after_astring1 = id(astring1)\n",
        "print(id_after_astring1)"
      ]
    },
    {
      "cell_type": "code",
      "execution_count": null,
      "metadata": {
        "id": "KrNlOwRo9Q8Z"
      },
      "outputs": [],
      "source": [
        "astring3 = astring1 + \" \" + astring2[0] + \" \" + astring2[11:]\n",
        "print(astring3)"
      ]
    },
    {
      "cell_type": "markdown",
      "metadata": {
        "id": "TEywaKEA9Q8a"
      },
      "source": [
        "### <font color=\"purple\">Going Deeper: Built-in in String Operators</font>"
      ]
    },
    {
      "cell_type": "markdown",
      "metadata": {
        "id": "3LuUtNtv9Q8a"
      },
      "source": [
        "`capitalize()`:"
      ]
    },
    {
      "cell_type": "code",
      "execution_count": null,
      "metadata": {
        "id": "C9vkYgb49Q8a"
      },
      "outputs": [],
      "source": [
        "\"funKY tOwn\".capitalize()"
      ]
    },
    {
      "cell_type": "markdown",
      "metadata": {
        "id": "9YQ76zfI9Q8a"
      },
      "source": [
        "`lower()` and `upper()`:"
      ]
    },
    {
      "cell_type": "code",
      "execution_count": null,
      "metadata": {
        "id": "lr4aYqpt9Q8b"
      },
      "outputs": [],
      "source": [
        "\"funky tOwn\".lower()"
      ]
    },
    {
      "cell_type": "code",
      "execution_count": null,
      "metadata": {
        "id": "aKa2m1Fe9Q8b"
      },
      "outputs": [],
      "source": [
        "\"fuNky toWn\".upper()"
      ]
    },
    {
      "cell_type": "markdown",
      "metadata": {
        "id": "ksS9gBHf9Q8b"
      },
      "source": [
        "`split()`:"
      ]
    },
    {
      "cell_type": "code",
      "execution_count": null,
      "metadata": {
        "id": "HsE7hIA69Q8b"
      },
      "outputs": [],
      "source": [
        "\"funKY tOwn\".split()"
      ]
    },
    {
      "cell_type": "code",
      "execution_count": null,
      "metadata": {
        "id": "BHfqfyde9Q8b"
      },
      "outputs": [],
      "source": [
        "\"funKY tOwn\".capitalize().split()"
      ]
    },
    {
      "cell_type": "code",
      "execution_count": null,
      "metadata": {
        "id": "cNUkbXe39Q8c"
      },
      "outputs": [],
      "source": [
        "\"I want to take you to, funKY tOwn\".split(\"u\")"
      ]
    },
    {
      "cell_type": "markdown",
      "metadata": {
        "id": "mmhMInSf9Q8c"
      },
      "source": [
        "`strip()`:"
      ]
    },
    {
      "cell_type": "code",
      "execution_count": null,
      "metadata": {
        "id": "EBZguCta9Q8d"
      },
      "outputs": [],
      "source": [
        "csv_string = 'Dog,Cat,Spam,Defenestrate,1, 3.1415   \\n\\t'\n",
        "csv_string.strip()"
      ]
    },
    {
      "cell_type": "markdown",
      "metadata": {
        "id": "LSJRdADg9Q8d"
      },
      "source": [
        "`.join()`: allows you to glue a list of strings together with a certain string"
      ]
    },
    {
      "cell_type": "code",
      "execution_count": null,
      "metadata": {
        "id": "Zn-oPkdp9Q8d"
      },
      "outputs": [],
      "source": [
        "clean_list = [x.strip() for x in csv_string.split(\",\")]\n",
        "print(clean_list)"
      ]
    },
    {
      "cell_type": "code",
      "execution_count": null,
      "metadata": {
        "id": "wV9zwzU89Q8e"
      },
      "outputs": [],
      "source": [
        "print(\",\".join(clean_list))"
      ]
    },
    {
      "cell_type": "code",
      "execution_count": null,
      "metadata": {
        "id": "kPW5qLJX9Q8f"
      },
      "outputs": [],
      "source": [
        "print(\"\\t\".join(clean_list))"
      ]
    },
    {
      "cell_type": "markdown",
      "metadata": {
        "id": "yqGeJj9u9Q8f"
      },
      "source": [
        "`.replace()` strings in strings"
      ]
    },
    {
      "cell_type": "code",
      "execution_count": null,
      "metadata": {
        "id": "Yv9n4sCo9Q8g"
      },
      "outputs": [],
      "source": [
        "csv_string = 'Dog,Cat,Spam,Defenestrate,1, 3.1415   \\n\\t'\n",
        "alt_csv = csv_string.strip().replace(',', ' ')\n",
        "print(alt_csv)"
      ]
    },
    {
      "cell_type": "code",
      "execution_count": null,
      "metadata": {
        "id": "fmdyoQSB9Q8g"
      },
      "outputs": [],
      "source": [
        "print(csv_string.strip().replace(' ','').replace(',','\\t'))"
      ]
    },
    {
      "cell_type": "markdown",
      "metadata": {
        "id": "LADGNIFo9Q8h"
      },
      "source": [
        "`.index()`:"
      ]
    },
    {
      "cell_type": "code",
      "execution_count": null,
      "metadata": {
        "id": "puHVjYDP9Q8h"
      },
      "outputs": [],
      "source": [
        "s = 'My Funny Valentine'\n",
        "s.index(\"y\")"
      ]
    },
    {
      "cell_type": "markdown",
      "metadata": {
        "id": "jpn2i2Eb9Q8i"
      },
      "source": [
        "`.count()`:"
      ]
    },
    {
      "cell_type": "code",
      "execution_count": null,
      "metadata": {
        "id": "bCzNOI5A9Q8j"
      },
      "outputs": [],
      "source": [
        "s.count(\"y\")"
      ]
    },
    {
      "cell_type": "markdown",
      "metadata": {
        "id": "rwJYrfmO9Q8j"
      },
      "source": [
        "`.find()`: useful searching, and returning the index of the search"
      ]
    },
    {
      "cell_type": "code",
      "execution_count": null,
      "metadata": {
        "id": "lNQtuta59Q8j"
      },
      "outputs": [],
      "source": [
        "s.find(\"y\")"
      ]
    },
    {
      "cell_type": "code",
      "execution_count": null,
      "metadata": {
        "id": "OsghVoKr9Q8k"
      },
      "outputs": [],
      "source": [
        "s.find(\"y\",2)"
      ]
    },
    {
      "cell_type": "code",
      "execution_count": null,
      "metadata": {
        "id": "mlzn1NE09Q8k"
      },
      "outputs": [],
      "source": [
        "s[s.find(\"Funny\"):]"
      ]
    },
    {
      "cell_type": "markdown",
      "metadata": {
        "id": "Q5XVYMk99Q8k"
      },
      "source": [
        "Length of a string:"
      ]
    },
    {
      "cell_type": "code",
      "execution_count": null,
      "metadata": {
        "id": "SqFqb_Gi9Q8k"
      },
      "outputs": [],
      "source": [
        "len(s)"
      ]
    },
    {
      "cell_type": "markdown",
      "metadata": {
        "id": "MalK6Zrt9Q8k"
      },
      "source": [
        "**Boolean Methods**\n",
        "\n",
        "| Method\t| True if |\n",
        "| --- | --- |\n",
        "| `str.isalnum()` |\tString consists of only alphanumeric characters (no symbols) |\n",
        "| `str.isalpha()` |\tString consists of only alphabetic characters (no symbols) |\n",
        "| `str.islower()` |\tString’s alphabetic characters are all lower case |\n",
        "| `str.isnumeric()` |\tString consists of only numeric characters |\n",
        "| `str.isspace()` |\tString consists of only whitespace characters |\n",
        "| `str.istitle()` |\tString is in title case |\n",
        "| `str.isupper()` |\tString’s alphabetic characters are all upper case |\n",
        "| `str.startswith()` | String starts with the specified value |\n",
        "| `str.endswith()` | String ends with the specified value |"
      ]
    },
    {
      "cell_type": "code",
      "execution_count": null,
      "metadata": {
        "id": "AAmI0l779Q8l"
      },
      "outputs": [],
      "source": [
        "number = \"24579\"\n",
        "print(number.isnumeric())"
      ]
    },
    {
      "cell_type": "code",
      "execution_count": null,
      "metadata": {
        "id": "fBOlmp9J9Q8l"
      },
      "outputs": [],
      "source": [
        "letters = \"PyTHoN\"\n",
        "print(letters.isnumeric())"
      ]
    },
    {
      "cell_type": "code",
      "execution_count": null,
      "metadata": {
        "id": "o9bgVKki9Q8l"
      },
      "outputs": [],
      "source": [
        "movie = \"2001: A SAMMY ODYSSEY\"\n",
        "book = \"A Thousand Splendid Sharks\"\n",
        "poem = \"sammy lived in a pretty how town\""
      ]
    },
    {
      "cell_type": "code",
      "execution_count": null,
      "metadata": {
        "id": "AcV-RoQA9Q8l"
      },
      "outputs": [],
      "source": [
        "print(movie.islower())\n",
        "print(movie.isupper())\n",
        "print(movie.startswith(\"20\"))\n",
        "print(movie.endswith(\"sSEY\"))"
      ]
    },
    {
      "cell_type": "code",
      "execution_count": null,
      "metadata": {
        "id": "Np4h5qne9Q8m"
      },
      "outputs": [],
      "source": [
        "print(book.istitle())\n",
        "print(book.isupper())"
      ]
    },
    {
      "cell_type": "code",
      "execution_count": null,
      "metadata": {
        "id": "GfNXkxsJ9Q8m"
      },
      "outputs": [],
      "source": [
        "print(poem.istitle())\n",
        "print(poem.islower())"
      ]
    },
    {
      "cell_type": "markdown",
      "metadata": {
        "id": "Ak7g2EHR9Q8n"
      },
      "source": [
        "### String Formatting Operator\n",
        "\n",
        "\n",
        "\n",
        "#### String `format()`\n",
        "\n",
        "```python\n",
        "string.format(value0, value1, ....)\n",
        "```\n",
        "\n",
        "#### `f-strings`\n",
        "- Also called `literal string interpolation`, f-strings are string literals that have an `f` at the beginning and curly braces containing expressions that will be replaced with their actual values.\n",
        "- Available in Python 3.6 or newer.\n",
        "\n",
        "\n",
        "```python\n",
        "f\" {value0} {value1} ... \"\n",
        "```"
      ]
    },
    {
      "cell_type": "code",
      "execution_count": null,
      "metadata": {
        "id": "k0f1QPpw9Q8o"
      },
      "outputs": [],
      "source": [
        "value0 = \"Saturday\"\n",
        "value1 = \"groovy\""
      ]
    },
    {
      "cell_type": "code",
      "execution_count": null,
      "metadata": {
        "id": "9eMOw3ri9Q8w"
      },
      "outputs": [],
      "source": [
        "print('On {}, I feel {}'.format(value0, value1))"
      ]
    },
    {
      "cell_type": "code",
      "execution_count": null,
      "metadata": {
        "id": "LwJ62THZ9Q8x"
      },
      "outputs": [],
      "source": [
        "print(f'On {value0}, I feel {value1}')"
      ]
    },
    {
      "cell_type": "code",
      "execution_count": null,
      "metadata": {
        "id": "YI-aIn4U9Q8x"
      },
      "outputs": [],
      "source": [
        "print('On {0}, I feel {1}'.format(value0, value1))"
      ]
    },
    {
      "cell_type": "code",
      "execution_count": null,
      "metadata": {
        "id": "kc4A4mVU9Q80"
      },
      "outputs": [],
      "source": [
        "print(f'On {value1}, I feel {value0}')"
      ]
    },
    {
      "cell_type": "code",
      "execution_count": null,
      "metadata": {
        "id": "msOg9Wv49Q81"
      },
      "outputs": [],
      "source": [
        "print('On {0}, I feel {0}'.format(value0, value1))"
      ]
    },
    {
      "cell_type": "code",
      "execution_count": null,
      "metadata": {
        "id": "Iof0J1Vy9Q82"
      },
      "outputs": [],
      "source": [
        "print(f'On {value0}, I feel {value0}')"
      ]
    },
    {
      "cell_type": "code",
      "execution_count": null,
      "metadata": {
        "id": "qgQkbJd39Q83"
      },
      "outputs": [],
      "source": [
        "print('{}'.format(value0*3))"
      ]
    },
    {
      "cell_type": "code",
      "execution_count": null,
      "metadata": {
        "id": "aEPCv4sL9Q83"
      },
      "outputs": [],
      "source": [
        "print(f' {value0*3}')"
      ]
    },
    {
      "cell_type": "code",
      "execution_count": null,
      "metadata": {
        "id": "2dVd7Oxn9Q83"
      },
      "outputs": [],
      "source": [
        "print(f' {value0*-1}')"
      ]
    },
    {
      "cell_type": "markdown",
      "metadata": {
        "id": "uJHTFzzW9Q84"
      },
      "source": [
        "We can produce a raw string with {value`!`r}:"
      ]
    },
    {
      "cell_type": "code",
      "execution_count": null,
      "metadata": {
        "id": "KLudG6ut9Q84"
      },
      "outputs": [],
      "source": [
        "print(f' {value0!r}')"
      ]
    },
    {
      "cell_type": "markdown",
      "metadata": {
        "id": "Pc1FVoM59Q84"
      },
      "source": [
        "You can assign by argument position or by name:"
      ]
    },
    {
      "cell_type": "code",
      "execution_count": null,
      "metadata": {
        "id": "ol116Eu89Q84"
      },
      "outputs": [],
      "source": [
        "'{desire} to {place}'.format(desire='Fly me', place='the Moon')"
      ]
    },
    {
      "cell_type": "code",
      "execution_count": null,
      "metadata": {
        "id": "-fKh9hS49Q85"
      },
      "outputs": [],
      "source": [
        "'{desire} to {place} or else I wont visit {place}.'.format( \\\n",
        "                 desire='Fly me',place='the Moon')"
      ]
    },
    {
      "cell_type": "code",
      "execution_count": null,
      "metadata": {
        "id": "XGoxboDZ9Q85"
      },
      "outputs": [],
      "source": [
        "a = {\"desire\": \"I want to take you\", \"place\": \"funky town\"}\n",
        "'{desire} to {place}'.format(**a)"
      ]
    },
    {
      "cell_type": "markdown",
      "metadata": {
        "id": "MZcDSJLD9Q85"
      },
      "source": [
        "**Formatting comes after a colon (:)**"
      ]
    },
    {
      "cell_type": "code",
      "execution_count": null,
      "metadata": {
        "id": "4xuFY4T49Q85"
      },
      "outputs": [],
      "source": [
        "a = 3.14159"
      ]
    },
    {
      "cell_type": "code",
      "execution_count": null,
      "metadata": {
        "id": "MetCM2ht9Q86"
      },
      "outputs": [],
      "source": [
        "f\"{a:03.2f}\"  ==  \"{:03.2f}\".format(a)"
      ]
    },
    {
      "cell_type": "code",
      "execution_count": null,
      "metadata": {
        "id": "JMfFhosY9Q86"
      },
      "outputs": [],
      "source": [
        "\"{0:03.2f}\".format(a, 42)"
      ]
    },
    {
      "cell_type": "code",
      "execution_count": null,
      "metadata": {
        "id": "ytSrG7tG9Q86"
      },
      "outputs": [],
      "source": [
        "\"{1:03.2f}\".format(a, 42)"
      ]
    },
    {
      "cell_type": "markdown",
      "metadata": {
        "id": "XohbbbNC9Q86"
      },
      "source": [
        "Format also supports binary numbers:"
      ]
    },
    {
      "cell_type": "code",
      "execution_count": null,
      "metadata": {
        "id": "Cwvilpwj9Q87"
      },
      "outputs": [],
      "source": [
        "c = 4225"
      ]
    },
    {
      "cell_type": "code",
      "execution_count": null,
      "metadata": {
        "id": "SO10CcXy9Q87"
      },
      "outputs": [],
      "source": [
        "\"int: {0:d}  hex: {0:x}  oct: {0:o}  bin: {0:b}\".format(c)"
      ]
    },
    {
      "cell_type": "code",
      "execution_count": null,
      "metadata": {
        "id": "oS32Ai2C9Q87"
      },
      "outputs": [],
      "source": [
        "f\"int: {c:d}  hex: {c:x}  oct: {c:o}  bin: {c:b}\""
      ]
    },
    {
      "cell_type": "markdown",
      "metadata": {
        "id": "sjSy2mkk9Q88"
      },
      "source": [
        "###  <font color=\"purple\">Going Deeper: Type Casting</font>\n",
        "\n",
        "- Type casting is the process of converting data from one type into another.\n",
        "- There are a number of functions built in to Python which allow us to do these type conversions on basic data types."
      ]
    },
    {
      "cell_type": "markdown",
      "metadata": {
        "id": "0fMbAQq09Q88"
      },
      "source": [
        "**Convert to Integer**"
      ]
    },
    {
      "cell_type": "code",
      "execution_count": null,
      "metadata": {
        "id": "IG0WgV9J9Q88"
      },
      "outputs": [],
      "source": [
        "v1 = int(2.7)        # 2\n",
        "v2 = int(-3.9)       # -3\n",
        "v3 = int(\"2\")        # 2\n",
        "v4 = int(\"11\", 16)   # 17, base 16\n",
        "v5 = int(False)\n",
        "print(v1, v2, v3, v4, v5)"
      ]
    },
    {
      "cell_type": "markdown",
      "metadata": {
        "id": "6IrK7yOk9Q89"
      },
      "source": [
        "**Convert to Float**"
      ]
    },
    {
      "cell_type": "code",
      "execution_count": null,
      "metadata": {
        "id": "B897csnc9Q8-"
      },
      "outputs": [],
      "source": [
        "v6 = float(2)        # 2.0\n",
        "v7 = float(\"2.7\")    # 2.7\n",
        "v8 = float(\"2.7E-2\") # 0.027\n",
        "v9 = float(False)    # 0.0\n",
        "vA = float(True)     # 1.0\n",
        "print(v6, v7, v8, v9, vA)"
      ]
    },
    {
      "cell_type": "markdown",
      "metadata": {
        "id": "FtwMHUVB9Q8-"
      },
      "source": [
        "**Convert to String**"
      ]
    },
    {
      "cell_type": "code",
      "execution_count": null,
      "metadata": {
        "id": "i3S0p06w9Q8-"
      },
      "outputs": [],
      "source": [
        "vB = str(4.5)        # \"4.5\"\n",
        "vC = str(True)\n",
        "print(vB, vC, type(vC))"
      ]
    },
    {
      "cell_type": "markdown",
      "metadata": {
        "id": "e9MnXiRe9Q8_"
      },
      "source": [
        "**Convert to Bolean**"
      ]
    },
    {
      "cell_type": "code",
      "execution_count": null,
      "metadata": {
        "id": "SIkhWFps9Q8_"
      },
      "outputs": [],
      "source": [
        "vD = bool(0)         #       False;\n",
        "vE = bool(3)         # True\n",
        "vF = bool(\"PyTHoN\")\n",
        "vG = bool(list())\n",
        "print(vD, vE, vF, vG)"
      ]
    },
    {
      "cell_type": "code",
      "execution_count": null,
      "metadata": {
        "id": "ayTLdjDH9Q9A"
      },
      "outputs": [],
      "source": [
        "int1 = 4\n",
        "\n",
        "# 4 converted to float\n",
        "float1 = int1 + 2.1\n",
        "\n",
        "# str1 = \"My int:\" + int1\n",
        "# Error: no implicit type conversion from int to string\n",
        "str1 = \"My int:\" + str(int1)\n",
        "\n",
        "int2 = 4 + True # 5: bool is implicitly converted to int\n",
        "print(\"float1 = {} \\n str1  = {} \\n\".format(float1, str1, int2))"
      ]
    },
    {
      "cell_type": "code",
      "execution_count": null,
      "metadata": {
        "id": "lzYF5iUP9Q9A"
      },
      "outputs": [],
      "source": [
        "age = 21\n",
        "sign = 'You must be  {}-years-old to enter this bar'.format(age)\n",
        "print(sign)"
      ]
    },
    {
      "cell_type": "markdown",
      "metadata": {
        "id": "pwkQWj6S9Q9B"
      },
      "source": [
        "#### <font color=\"blue\">Example 6</font>\n",
        "\n",
        "- When you pass an argument through the command line, the type of the argument is a string.\n",
        "- It is important to convert the argument to a desired type."
      ]
    },
    {
      "cell_type": "code",
      "execution_count": null,
      "metadata": {
        "id": "l3Go6rEf9Q9B"
      },
      "outputs": [],
      "source": [
        "x = float(input(\"Give me a number: \"))\n",
        "print(x)"
      ]
    },
    {
      "cell_type": "markdown",
      "metadata": {
        "id": "xR14k4in9Q9C"
      },
      "source": [
        "## <font color=\"blue\"> Breakout</font>\n",
        "\n",
        "Try to fix the code to print out the correct information by changing the strings so that:\n",
        "\n",
        "- The length of the string is `20`.\n",
        "- The first occurrence of `a` should be at index `8`.\n",
        "- The number of `a`'s in the string should be `2`."
      ]
    },
    {
      "cell_type": "code",
      "execution_count": null,
      "metadata": {
        "id": "pdaHpJzj9Q9D"
      },
      "outputs": [],
      "source": [
        "s = \"Hey there! What should this string be?\"\n",
        "# Length should be 20\n",
        "print(f\"Length of s = {len(s)}\")\n",
        "\n",
        "# First occurrence of \"a\" should be at index 8\n",
        "print(f\"The first occurrence of the letter a = {s.index('a')}\")\n",
        "\n",
        "# Number of a's should be 2\n",
        "print(f\"a occurs {s.count(r'a')} times\")"
      ]
    },
    {
      "cell_type": "markdown",
      "metadata": {
        "id": "NHz_X27T_92v"
      },
      "source": [
        "<h3 id=\"exp\">Expressions</h3>"
      ]
    },
    {
      "cell_type": "markdown",
      "metadata": {
        "id": "BywpwGFh_92v"
      },
      "source": [
        "<p>Expressions in Python can include operations among compatible types (e.g., integers and floats). For example, basic arithmetic operations like adding multiple numbers:</p>"
      ]
    },
    {
      "cell_type": "code",
      "execution_count": null,
      "metadata": {
        "id": "S3Pds1XL_92v"
      },
      "outputs": [],
      "source": [
        "# Addition operation expression\n",
        "\n",
        "43 + 60 + 16 + 41"
      ]
    },
    {
      "cell_type": "markdown",
      "metadata": {
        "id": "Fu5Z57Y7_92w"
      },
      "source": [
        "<p>We can perform subtraction operations using the minus operator. In this case the result is a negative number:</p>"
      ]
    },
    {
      "cell_type": "code",
      "execution_count": null,
      "metadata": {
        "id": "tNCaYswq_92w"
      },
      "outputs": [],
      "source": [
        "# Subtraction operation expression\n",
        "\n",
        "50 - 60"
      ]
    },
    {
      "cell_type": "markdown",
      "metadata": {
        "id": "ZvHVmNXt_92w"
      },
      "source": [
        "<p>We can do multiplication using an asterisk:</p>"
      ]
    },
    {
      "cell_type": "code",
      "execution_count": null,
      "metadata": {
        "id": "qLr4DnOC_92w"
      },
      "outputs": [],
      "source": [
        "# Multiplication operation expression\n",
        "\n",
        "5 * 5"
      ]
    },
    {
      "cell_type": "markdown",
      "metadata": {
        "id": "_TUJYUBG_92w"
      },
      "source": [
        "<p>We can also perform division with the forward slash:"
      ]
    },
    {
      "cell_type": "code",
      "execution_count": null,
      "metadata": {
        "id": "R5iUj9cY_92w"
      },
      "outputs": [],
      "source": [
        "# Division operation expression\n",
        "\n",
        "25 / 5"
      ]
    },
    {
      "cell_type": "code",
      "execution_count": null,
      "metadata": {
        "id": "CrT4Fgbt_92w"
      },
      "outputs": [],
      "source": [
        "# Division operation expression\n",
        "\n",
        "25 / 6"
      ]
    },
    {
      "cell_type": "markdown",
      "metadata": {
        "id": "NBioVAuZ_92x"
      },
      "source": [
        "<p>As seen in the quiz above, we can use the double slash for integer division, where the result is rounded to the nearest integer:"
      ]
    },
    {
      "cell_type": "code",
      "execution_count": null,
      "metadata": {
        "id": "XFm2nLi4_92x"
      },
      "outputs": [],
      "source": [
        "# Integer division operation expression\n",
        "\n",
        "25 // 5"
      ]
    },
    {
      "cell_type": "code",
      "execution_count": null,
      "metadata": {
        "id": "0DMahV4s_92x"
      },
      "outputs": [],
      "source": [
        "# Integer division operation expression\n",
        "\n",
        "25 // 6"
      ]
    },
    {
      "cell_type": "markdown",
      "metadata": {
        "id": "4R_ptwpX_92x"
      },
      "source": [
        "<h3 id=\"exer_exp\">Exercise: Expression</h3>"
      ]
    },
    {
      "cell_type": "markdown",
      "metadata": {
        "id": "Ii--eurK_92x"
      },
      "source": [
        "<p>Let's write an expression that calculates how many hours there are in 160 minutes:"
      ]
    },
    {
      "cell_type": "code",
      "execution_count": null,
      "metadata": {
        "id": "AiYeHNuC_92x"
      },
      "outputs": [],
      "source": [
        "# Write your code below. Don't forget to press Shift+Enter to execute the cell"
      ]
    },
    {
      "cell_type": "markdown",
      "metadata": {
        "id": "gSP5pvAo_92x"
      },
      "source": [
        "Double-click __here__ for the solution.\n",
        "\n",
        "<!-- Your answer is below:\n",
        "160/60\n",
        "# Or\n",
        "160//60\n",
        "-->"
      ]
    },
    {
      "cell_type": "markdown",
      "metadata": {
        "id": "ZFsNy6BB_92y"
      },
      "source": [
        "<p>Python follows well accepted mathematical conventions when evaluating mathematical expressions. In the following example, Python adds 30 to the result of the multiplication (i.e., 120)."
      ]
    },
    {
      "cell_type": "code",
      "execution_count": null,
      "metadata": {
        "id": "Rqa0CHQ9_92y"
      },
      "outputs": [],
      "source": [
        "# Mathematical expression\n",
        "\n",
        "30 + 2 * 60"
      ]
    },
    {
      "cell_type": "markdown",
      "metadata": {
        "id": "MmPllNsN_92y"
      },
      "source": [
        "<p>And just like mathematics, expressions enclosed in parentheses have priority. So the following multiplies 32 by 60."
      ]
    },
    {
      "cell_type": "code",
      "execution_count": null,
      "metadata": {
        "id": "mNm45q9e_92y"
      },
      "outputs": [],
      "source": [
        "# Mathematical expression\n",
        "\n",
        "(30 + 2) * 60"
      ]
    },
    {
      "cell_type": "markdown",
      "metadata": {
        "id": "TcbZc6jo_92y"
      },
      "source": [
        "<h3 id=\"var\">Variables</h3>"
      ]
    },
    {
      "cell_type": "markdown",
      "metadata": {
        "id": "uV0S7tqU_92y"
      },
      "source": [
        "<p>Just like with most programming languages, we can store values in <i>variables</i>, so we can use them later on. For example:</p>"
      ]
    },
    {
      "cell_type": "code",
      "execution_count": null,
      "metadata": {
        "id": "L1QqbLkx_92z"
      },
      "outputs": [],
      "source": [
        "# Store value into variable\n",
        "\n",
        "x = 43 + 60 + 16 + 41"
      ]
    },
    {
      "cell_type": "markdown",
      "metadata": {
        "id": "g9aVOXgX_92z"
      },
      "source": [
        "<p>To see the value of <code>x</code> in a Notebook, we can simply place it on the last line of a cell:</p>"
      ]
    },
    {
      "cell_type": "code",
      "execution_count": null,
      "metadata": {
        "id": "KRQS4uyg_92z"
      },
      "outputs": [],
      "source": [
        "# Print out the value in variable\n",
        "\n",
        "x"
      ]
    },
    {
      "cell_type": "markdown",
      "metadata": {
        "id": "0fIL_Eyu_92z"
      },
      "source": [
        "<p>We can also perform operations on <code>x</code> and save the result to a new variable:</p>"
      ]
    },
    {
      "cell_type": "code",
      "execution_count": null,
      "metadata": {
        "id": "QTnPUSS1_920"
      },
      "outputs": [],
      "source": [
        "# Use another variable to store the result of the operation between variable and value\n",
        "\n",
        "y = x / 60\n",
        "y"
      ]
    },
    {
      "cell_type": "markdown",
      "metadata": {
        "id": "0zzFIIyK_920"
      },
      "source": [
        "<p>If we save a value to an existing variable, the new value will overwrite the previous value:</p>"
      ]
    },
    {
      "cell_type": "code",
      "execution_count": null,
      "metadata": {
        "id": "j4XUVSUz_920"
      },
      "outputs": [],
      "source": [
        "# Overwrite variable with new value\n",
        "\n",
        "x = x / 60\n",
        "x"
      ]
    },
    {
      "cell_type": "markdown",
      "metadata": {
        "id": "hS0_IMco_920"
      },
      "source": [
        "<p>It's a good practice to use meaningful variable names, so you and others can read the code and understand it more easily:</p>"
      ]
    },
    {
      "cell_type": "code",
      "execution_count": null,
      "metadata": {
        "id": "Urm5900b_920"
      },
      "outputs": [],
      "source": [
        "# Name the variables meaningfully\n",
        "\n",
        "total_min = 43 + 42 + 57 # Total length of albums in minutes\n",
        "total_min"
      ]
    },
    {
      "cell_type": "code",
      "execution_count": null,
      "metadata": {
        "id": "T0RHdIYA_921"
      },
      "outputs": [],
      "source": [
        "# Name the variables meaningfully\n",
        "\n",
        "total_hours = total_min / 60 # Total length of albums in hours\n",
        "total_hours"
      ]
    },
    {
      "cell_type": "markdown",
      "metadata": {
        "id": "soYga1Jg_921"
      },
      "source": [
        "<p>In the cells above we added the length of three albums in minutes and stored it in <code>total_min</code>. We then divided it by 60 to calculate total length <code>total_hours</code> in hours. You can also do it all at once in a single expression, as long as you use parenthesis to add the albums length before you divide, as shown below.</p>"
      ]
    },
    {
      "cell_type": "code",
      "execution_count": null,
      "metadata": {
        "id": "chs4N8-D_921"
      },
      "outputs": [],
      "source": [
        "# Complicate expression\n",
        "\n",
        "total_hours = (43 + 42 + 57) / 60  # Total hours in a single expression\n",
        "total_hours"
      ]
    },
    {
      "cell_type": "markdown",
      "metadata": {
        "id": "gOBdDK04_921"
      },
      "source": [
        "<p>If you'd rather have total hours as an integer, you can of course replace the floating point division with integer division (i.e., <code>//</code>).</p>"
      ]
    },
    {
      "cell_type": "markdown",
      "metadata": {
        "id": "j3GoXiBP_921"
      },
      "source": [
        "<h3 id=\"exer_exp_var\">Exercise: Expression and Variables in Python</h3>"
      ]
    },
    {
      "cell_type": "markdown",
      "metadata": {
        "id": "k_r2VmPR_921"
      },
      "source": [
        "<p>What is the value of <code>x</code> where <code>x = 3 + 2 * 2</code></p>"
      ]
    },
    {
      "cell_type": "code",
      "execution_count": null,
      "metadata": {
        "id": "nEt-ZbSc_922"
      },
      "outputs": [],
      "source": [
        "# Write your code below. Don't forget to press Shift+Enter to execute the cell"
      ]
    },
    {
      "cell_type": "markdown",
      "metadata": {
        "id": "d-jpa7vB_922"
      },
      "source": [
        "Double-click __here__ for the solution.\n",
        "\n",
        "<!-- Your answer is below:\n",
        "7\n",
        "-->\n"
      ]
    },
    {
      "cell_type": "markdown",
      "metadata": {
        "id": "XNZwxpfD_922"
      },
      "source": [
        "<p>What is the value of <code>y</code> where <code>y = (3 + 2) * 2</code>?</p>"
      ]
    },
    {
      "cell_type": "code",
      "execution_count": null,
      "metadata": {
        "id": "4Sk9HqMU_922"
      },
      "outputs": [],
      "source": [
        "# Write your code below. Don't forget to press Shift+Enter to execute the cell"
      ]
    },
    {
      "cell_type": "markdown",
      "metadata": {
        "id": "BXGfejty_922"
      },
      "source": [
        "Double-click __here__ for the solution.\n",
        "\n",
        "<!-- Your answer is below:\n",
        "10\n",
        "-->"
      ]
    },
    {
      "cell_type": "markdown",
      "metadata": {
        "id": "oeU-ARcl_922"
      },
      "source": [
        "<p>What is the value of <code>z</code> where <code>z = x + y</code>?</p>"
      ]
    },
    {
      "cell_type": "code",
      "execution_count": null,
      "metadata": {
        "id": "314icE02_922"
      },
      "outputs": [],
      "source": [
        "# Write your code below. Don't forget to press Shift+Enter to execute the cell"
      ]
    },
    {
      "cell_type": "markdown",
      "metadata": {
        "id": "xLVPJpPb6ZQc"
      },
      "source": [
        "### Dynamic\n",
        "Code is interpreted at run-time\n",
        "* No compilation process*; code is read line-by-line when executed\n",
        "* Eliminates delays between development and execution\n",
        "* The downside: poorer performance compared to compiled languages"
      ]
    }
  ],
  "metadata": {
    "colab": {
      "provenance": []
    },
    "kernelspec": {
      "display_name": "Python 3",
      "name": "python3"
    },
    "language_info": {
      "name": "python"
    }
  },
  "nbformat": 4,
  "nbformat_minor": 0
}
